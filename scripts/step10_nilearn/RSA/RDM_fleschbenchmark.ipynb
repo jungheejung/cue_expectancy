{
 "cells": [
  {
   "attachments": {},
   "cell_type": "markdown",
   "metadata": {},
   "source": [
    "libraries\n"
   ]
  },
  {
   "cell_type": "code",
   "execution_count": 2,
   "metadata": {},
   "outputs": [],
   "source": [
    "# %%\n",
    "import os, sys, glob\n",
    "from nilearn import image\n",
    "from nilearn import plotting\n",
    "import numpy as np\n",
    "import pandas as pd\n",
    "\n",
    "from scipy import io\n",
    "import matplotlib.pyplot as plt\n",
    "import matplotlib.cm\n",
    "cmap = matplotlib.cm.get_cmap('Reds')\n",
    "\n",
    "%matplotlib inline\n",
    "\n",
    "sys.path.append('/Users/h/anaconda3/envs/spacetop_datalad/lib/python3.9/site-packages')\n",
    "import rsatoolbox\n",
    "import rsatoolbox.data as rsd\n",
    "import rsatoolbox.rdm as rsr\n",
    "from rsatoolbox.model import ModelFixed\n",
    "from rsatoolbox.inference import eval_fixed\n",
    "from matplotlib.colors import LinearSegmentedColormap\n",
    "from scipy.spatial.distance import pdist, squareform\n",
    "import math"
   ]
  },
  {
   "attachments": {},
   "cell_type": "markdown",
   "metadata": {},
   "source": [
    "# function load data"
   ]
  },
  {
   "cell_type": "code",
   "execution_count": 3,
   "metadata": {},
   "outputs": [],
   "source": [
    "def load_expect(data_dir, sub, ses ):\n",
    "    tasklist = ['pain', 'vicarious', 'cognitive']\n",
    "    seswise_expect = pd.DataFrame()\n",
    "    for task in tasklist:\n",
    "        runwise_df = pd.DataFrame()\n",
    "        flist = glob.glob(os.path.join(data_dir, sub, ses, f\"{sub}_{ses}_*{task}_beh.csv\"))\n",
    "        for f in flist: \n",
    "            df = pd.read_csv(f)\n",
    "            df['trial'] = df.index\n",
    "            df['trial_order'] = df.groupby('param_cond_type', as_index=False)['param_cond_type'].cumcount()\n",
    "            runwise_df = pd.concat([runwise_df, df])\n",
    "        # convert run number\n",
    "        runwise_df['run_order'] = runwise_df['param_run_num'].gt(np.mean(runwise_df['param_run_num']), 0)*1\n",
    "        seswise_02expect = runwise_df.pivot_table(index=['param_cue_type','param_stimulus_type'], columns=['trial_order', 'run_order'],\n",
    "                            values=['event02_expect_angle']) #, aggfunc='first')\n",
    "        seswise_02expect.columns  = [col[0]+'_'+str(col[1]) for col in seswise_02expect.columns.values]\n",
    "        seswise_02expect = seswise_02expect.reset_index()\n",
    "        seswise_02expect[\"condition\"] = task + '_' + seswise_02expect['param_cue_type'].astype(str) + '_' + seswise_02expect[\"param_stimulus_type\"]\n",
    "\n",
    "        # reorder values\n",
    "        seswise_02expect['stim_order'] = seswise_02expect['param_stimulus_type'].map({'high_cue':0, 'low_cue':1, 'high_stim':0, 'med_stim':1, 'low_stim':2})  \n",
    "        seswise_02expect['cue_order'] = seswise_02expect['param_cue_type'].map({'high_cue':0, 'low_cue':1, 'high_stim':0, 'med_stim':1, 'low_stim':2})    \n",
    "        ses_expect = seswise_02expect.sort_values(['cue_order','stim_order'])\n",
    "        seswise_expect = pd.concat([seswise_expect, ses_expect])\n",
    "    return(seswise_expect.reset_index(drop = True))\n",
    "\n",
    "\n",
    "def load_outcome(data_dir, sub, ses):\n",
    "    tasklist = ['pain', 'vicarious', 'cognitive']\n",
    "    seswise_outcome = pd.DataFrame()\n",
    "    for task in tasklist:\n",
    "        runwise_df = pd.DataFrame()\n",
    "        flist = glob.glob(os.path.join(data_dir, sub, ses, f\"{sub}_{ses}_*{task}_beh.csv\"))\n",
    "        for f in flist:\n",
    "            df = pd.read_csv(f)\n",
    "            df['trial'] = df.index\n",
    "            df['trial_order'] = df.groupby('param_cond_type', as_index=False)['param_cond_type'].cumcount()\n",
    "            runwise_df = pd.concat([runwise_df, df])\n",
    "        # convert run number\n",
    "        runwise_df['run_order'] = runwise_df['param_run_num'].gt(np.mean(runwise_df['param_run_num']), 0)*1\n",
    "        seswise_04outcome = runwise_df.pivot_table(index=['param_cue_type','param_stimulus_type'], columns = ['trial_order', 'run_order'],\n",
    "                            values=['event04_actual_angle']) #, aggfunc='first')\n",
    "        seswise_04outcome.columns  = [ col[0]+'_'+str(col[1]) for col in seswise_04outcome.columns.values]\n",
    "        seswise_04outcome = seswise_04outcome.reset_index()\n",
    "        seswise_04outcome[\"condition\"] = task + '_' + seswise_04outcome['param_cue_type'].astype(str) + '_' + seswise_04outcome[\"param_stimulus_type\"]\n",
    "\n",
    "        # reorder values\n",
    "        seswise_04outcome['stim_order'] = seswise_04outcome['param_stimulus_type'].map({'high_cue':0, 'low_cue':1, 'high_stim':0, 'med_stim':1, 'low_stim':2})\n",
    "        seswise_04outcome['cue_order'] = seswise_04outcome['param_cue_type'].map({'high_cue':0, 'low_cue':1, 'high_stim':0, 'med_stim':1, 'low_stim':2})\n",
    "        ses_outcome = seswise_04outcome.sort_values(['cue_order','stim_order'])\n",
    "        seswise_outcome = pd.concat([seswise_outcome, ses_outcome])\n",
    "    return(seswise_outcome.reset_index(drop = True))\n",
    "\n",
    "\n",
    "def load_fmri(singletrial_dir, sub, ses, run, atlas):\n",
    "    from nilearn import datasets\n",
    "    from nilearn.maskers import NiftiLabelsMasker\n",
    "    dataset = datasets.fetch_atlas_schaefer_2018()\n",
    "    atlas_filename = dataset.maps\n",
    "    # labels = dataset.labels\n",
    "    labels = np.insert(dataset.labels, 0, 'Background')\n",
    "    masker = NiftiLabelsMasker(labels_img=atlas_filename, standardize=True,\n",
    "                            memory='nilearn_cache', verbose=5)\n",
    "    if atlas == True: \n",
    "        arr = np.empty((0, len(dataset['labels'])), int)  \n",
    "    elif atlas == False:\n",
    "        get_shape = glob.glob(os.path.join(\n",
    "                singletrial_dir, sub, f'{sub}_{ses}_run-01_runtype-*_event-stimulus_trial-*_cuetype-high_stimintensity-high.nii.gz'))\n",
    "        get_shape_data = image.mean_img(image.concat_imgs(get_shape)).get_fdata().ravel()\n",
    "        arr = np.empty((0, get_shape_data.shape[0]), int)\n",
    "    # task_array = np.empty((18,0), int)\n",
    "    \n",
    "    for runtype in ['pain','cognitive', 'vicarious']:\n",
    "        stim_H_cue_H = sorted(glob.glob(os.path.join(\n",
    "            singletrial_dir, sub, f'{sub}_{ses}_{run}_runtype-{runtype}_event-stimulus_trial-*_cuetype-high_stimintensity-high.nii.gz')))\n",
    "        stim_M_cue_H = sorted(glob.glob(os.path.join(\n",
    "            singletrial_dir, sub, f'{sub}_{ses}_{run}_runtype-{runtype}_event-stimulus_trial-*_cuetype-high_stimintensity-med.nii.gz')))\n",
    "        stim_L_cue_H = sorted(glob.glob(os.path.join(\n",
    "            singletrial_dir, sub, f'{sub}_{ses}_{run}_runtype-{runtype}_event-stimulus_trial-*_cuetype-high_stimintensity-low.nii.gz')))\n",
    "        stim_H_cue_L = sorted(glob.glob(os.path.join(\n",
    "            singletrial_dir, sub, f'{sub}_{ses}_{run}_runtype-{runtype}_event-stimulus_trial-*_cuetype-low_stimintensity-high.nii.gz')))\n",
    "        stim_M_cue_L = sorted(glob.glob(os.path.join(\n",
    "            singletrial_dir, sub, f'{sub}_{ses}_{run}_runtype-{runtype}_event-stimulus_trial-*_cuetype-low_stimintensity-med.nii.gz')))\n",
    "        stim_L_cue_L = sorted(glob.glob(os.path.join(\n",
    "            singletrial_dir, sub, f'{sub}_{ses}_{run}_runtype-{runtype}_event-stimulus_trial-*_cuetype-low_stimintensity-low.nii.gz')))\n",
    "        stim_flist = []\n",
    "        [stim_flist.extend(l) for l in (stim_H_cue_H, stim_M_cue_H, stim_L_cue_H, stim_H_cue_L, stim_M_cue_L, stim_L_cue_L)]\n",
    "\n",
    "        \n",
    "        # task_array = np.vstack((task_array, runwise_array))\n",
    "        # arr = np.append(arr, runwise_array, axis=0)\n",
    "        if atlas == True:\n",
    "            stim_H_cue_H_mean = image.mean_img(image.concat_imgs(stim_H_cue_H))\n",
    "            stim_M_cue_H_mean = image.mean_img(image.concat_imgs(stim_M_cue_H))\n",
    "            stim_L_cue_H_mean = image.mean_img(image.concat_imgs(stim_L_cue_H))\n",
    "            stim_H_cue_L_mean = image.mean_img(image.concat_imgs(stim_H_cue_L))\n",
    "            stim_M_cue_L_mean = image.mean_img(image.concat_imgs(stim_M_cue_L))\n",
    "            stim_L_cue_L_mean = image.mean_img(image.concat_imgs(stim_L_cue_L))\n",
    "            runwise_array = masker.fit_transform(image.concat_imgs([stim_H_cue_H_mean,\n",
    "                                                          stim_M_cue_H_mean,\n",
    "                                                          stim_L_cue_H_mean,\n",
    "                                                          stim_H_cue_L_mean,\n",
    "                                                          stim_M_cue_L_mean,\n",
    "                                                          stim_L_cue_L_mean\n",
    "                                                           ])) # (trials, parcels)\n",
    "            arr = np.concatenate((arr,runwise_array),axis=0)\n",
    "    # np.vstack((arr, runwise_array))\n",
    "        elif atlas == False:\n",
    "            stim_H_cue_H_mean = image.mean_img(image.concat_imgs(stim_H_cue_H)).get_fdata().ravel()\n",
    "            stim_M_cue_H_mean = image.mean_img(image.concat_imgs(stim_M_cue_H)).get_fdata().ravel()\n",
    "            stim_L_cue_H_mean = image.mean_img(image.concat_imgs(stim_L_cue_H)).get_fdata().ravel()\n",
    "            stim_H_cue_L_mean = image.mean_img(image.concat_imgs(stim_H_cue_L)).get_fdata().ravel()\n",
    "            stim_M_cue_L_mean = image.mean_img(image.concat_imgs(stim_M_cue_L)).get_fdata().ravel()\n",
    "            stim_L_cue_L_mean = image.mean_img(image.concat_imgs(stim_L_cue_L)).get_fdata().ravel()\n",
    "            runwise_array = np.vstack((stim_H_cue_H_mean, stim_M_cue_H_mean, stim_L_cue_H_mean, stim_H_cue_L_mean, stim_M_cue_L_mean, stim_L_cue_L_mean))\n",
    "            arr = np.concatenate((arr,runwise_array),axis=0)\n",
    "        mask = ~np.isnan(image.load_img(image.concat_imgs(stim_H_cue_H)).get_fdata())\n",
    "    return(mask, arr, stim_flist)\n",
    "\n",
    "def upper_tri(RDM):\n",
    "    \"\"\"upper_tri returns the upper triangular index of an RDM\n",
    "\n",
    "    Args:\n",
    "        RDM 2Darray: squareform RDM\n",
    "\n",
    "    Returns:\n",
    "        1D array: upper triangular vector of the RDM\n",
    "    \"\"\"\n",
    "    # returns the upper triangle\n",
    "    m = RDM.shape[0]\n",
    "    r, c = np.triu_indices(m, 1)\n",
    "    return RDM[r, c]"
   ]
  },
  {
   "cell_type": "code",
   "execution_count": 5,
   "metadata": {},
   "outputs": [],
   "source": [
    "def plot_MDS_embeddings_2D(embedding,fig,fig_id=2,axlims=2.5,flipdims=False,monk=False,flipcols=False):\n",
    "        \n",
    "\n",
    "        # if flipdims==True:\n",
    "        #     col1 = (0, 0, .5)\n",
    "        #     col2 = (255/255,102/255,0)\n",
    "\n",
    "        if flipcols==True:\n",
    "            col1 = (0, 0, .5)\n",
    "            col2 = (255/255,102/255,0)\n",
    "        else:\n",
    "            col1 = (255/255,102/255,0)\n",
    "            col2 = (0, 0, .5)\n",
    "\n",
    "        if monk==True:\n",
    "            n_items = 6\n",
    "            ii_half = 36\n",
    "        else:            \n",
    "            n_items = 5\n",
    "            ii_half = 25\n",
    "\n",
    "        plt.subplot(1,2,1)    \n",
    "        plot_grid2(embedding[0:ii_half,[0,1]],line_width=.5,line_colour=col1,fig_id=fig_id,n_items=n_items)\n",
    "        scatter_mds_2(embedding[0:ii_half,[0,1]],fig_id=fig_id,task_id='a',flipdims=flipdims,items_per_dim=n_items,flipcols=flipcols)\n",
    "        plot_grid2(embedding[ii_half:,[0,1]],line_width=.5,line_colour=col2,fig_id=fig_id,n_items=n_items)\n",
    "        scatter_mds_2(embedding[ii_half:,[0,1]],fig_id=fig_id,task_id='b',flipdims=flipdims,items_per_dim=n_items,flipcols=flipcols)\n",
    "        ax = plt.gca()\n",
    "        ax.set_xlim([-axlims,axlims])\n",
    "        ax.set_ylim([-axlims,axlims])    \n",
    "        ax.xaxis.set_ticks([])\n",
    "        ax.yaxis.set_ticks([])\n",
    "        plt.xlabel('dim 1',fontsize=6)\n",
    "        plt.ylabel('dim 2',fontsize=6)\n",
    "        ax = plt.gca()\n",
    "        ax.spines['right'].set_visible(False)\n",
    "        ax.spines['top'].set_visible(False)\n",
    "        ax.set_aspect('equal', 'box')\n",
    "\n",
    "        plt.subplot(1,2,2)\n",
    "        plot_grid2(embedding[0:ii_half,[1,2]],line_width=.5,line_colour=col1,fig_id=fig_id,n_items=n_items)\n",
    "        scatter_mds_2(embedding[0:ii_half,[1,2]],fig_id=fig_id,task_id='a',flipdims=flipdims,items_per_dim=n_items,flipcols=flipcols)\n",
    "        plot_grid2(embedding[ii_half:,[1,2]],line_width=.5,line_colour=col2,fig_id=fig_id,n_items=n_items)\n",
    "        scatter_mds_2(embedding[ii_half:,[1,2]],fig_id=fig_id,task_id='b',flipdims=flipdims,items_per_dim=n_items,flipcols=flipcols)\n",
    "        ax = plt.gca()\n",
    "        ax.set_xlim([-axlims,axlims])\n",
    "        ax.set_ylim([-axlims,axlims])\n",
    "        ax.xaxis.set_ticks([])\n",
    "        ax.yaxis.set_ticks([])\n",
    "        plt.xlabel('dim 2',fontsize=6)\n",
    "        plt.ylabel('dim 3',fontsize=6)\n",
    "        ax = plt.gca()\n",
    "        ax.spines['right'].set_visible(False)\n",
    "        ax.spines['top'].set_visible(False)\n",
    "        ax.set_aspect('equal', 'box')\n",
    "\n",
    "def plot_grid2(xy,line_colour='green',line_width=1,fig_id=1,n_items=5):\n",
    "    '''\n",
    "    n_items: number of items along one dimension covered by grid\n",
    "    '''\n",
    "    # %matplotlib qt    \n",
    "    x,y = np.meshgrid(np.arange(0,n_items),np.arange(0,n_items))\n",
    "    x = x.flatten()\n",
    "    y = y.flatten()    \n",
    "    try: xy \n",
    "    except NameError: xy = np.stack((x,y),axis=1)\n",
    "    bl = np.stack((x,y),axis=1)\n",
    "    fig = plt.figure(fig_id)\n",
    "    \n",
    "    for ii in range(0,n_items-1):\n",
    "        for jj in range(0,n_items-1):\n",
    "            p1 = xy[(bl[:,0]==ii) & (bl[:,1]==jj),:].ravel()\n",
    "            p2 = xy[(bl[:,0]==ii+1) & (bl[:,1]==jj),:].ravel()        \n",
    "            plt.plot([p1[0],p2[0]],[p1[1],p2[1]],linewidth=line_width,color=line_colour)\n",
    "            p2 = xy[(bl[:,0]==ii) & (bl[:,1]==jj+1),:].ravel()\n",
    "            plt.plot([p1[0],p2[0]],[p1[1],p2[1]],linewidth=line_width,color=line_colour)\n",
    "    ii = n_items-1\n",
    "    for jj in range(0,n_items-1):\n",
    "        p1 = xy[(bl[:,0]==ii) & (bl[:,1]==jj),:].ravel()\n",
    "        p2 = xy[(bl[:,0]==ii) & (bl[:,1]==jj+1),:].ravel()\n",
    "        plt.plot([p1[0],p2[0]],[p1[1],p2[1]],linewidth=line_width,color=line_colour)\n",
    "\n",
    "    jj = n_items-1\n",
    "    for ii in range(0,n_items-1):\n",
    "        p1 = xy[(bl[:,0]==ii) & (bl[:,1]==jj),:].ravel()\n",
    "        p2 = xy[(bl[:,0]==ii+1) & (bl[:,1]==jj),:].ravel()\n",
    "        plt.plot([p1[0],p2[0]],[p1[1],p2[1]],linewidth=line_width,color=line_colour)\n",
    "    ax = plt.gca()\n",
    "    # ax.axes.xaxis.set_ticklabels([])\n",
    "    # ax.axes.yaxis.set_ticklabels([])  \n",
    "    ax.set_xlim([-2,2])\n",
    "    ax.set_ylim([-2,2])\n",
    "\n",
    "\n",
    "def scatter_mds_2(xyz,task_id='a',fig_id=1,flipdims=False,items_per_dim=5,flipcols=False,marker_scale=1):\n",
    "    \n",
    "    if flipcols==True:\n",
    "        col1 = (0, 0, .5)\n",
    "        col2 = (255/255,102/255,0)\n",
    "    else:\n",
    "        col1 = (255/255,102/255,0)\n",
    "        col2 = (0, 0, .5)\n",
    "\n",
    "    if task_id=='both':\n",
    "        n_items = items_per_dim**2*2\n",
    "        ctxMarkerEdgeCol = [col1,col2]\n",
    "    elif task_id=='a':\n",
    "        n_items = items_per_dim**2\n",
    "        ctxMarkerEdgeCol = col1\n",
    "    elif task_id=='b':\n",
    "        n_items = items_per_dim**2\n",
    "        ctxMarkerEdgeCol = col2\n",
    "    elif task_id == 'avg':\n",
    "        n_items = items_per_dim**2\n",
    "        ctxMarkerEdgeCol = 'k'\n",
    "\n",
    "    ctxMarkerCol = 'white'\n",
    "    ctxMarkerSize = 4*marker_scale\n",
    "    itemMarkerSize = 1\n",
    "    scat_b = np.linspace(.5,2.5,items_per_dim)*marker_scale\n",
    "    # # scat_l = np.array([[3,252,82], [3,252,177], [3,240,252], [3,152,252], [3,73,252]])/255\n",
    "    # scat_l = np.array([[63,39,24], [64,82,21], [65,125,18], [66,168,15], [68,255, 10]])/255\n",
    "    # # scat_l = np.array([[0,0,0], [.2,.2,.2],[.4,.4,.4],[.6,.6,.6],[.8,.8,.8]])\n",
    "    _,scat_l  = helper_make_colormap(basecols=np.array([[63,39,24], [64,82,21], [65,125,18], [66,168,15], [68,255, 10]])/255,n_items=items_per_dim,monitor=False)\n",
    "\n",
    "    b,l = np.meshgrid(np.arange(0,items_per_dim),np.arange(0,items_per_dim))\n",
    "    if flipdims==True:\n",
    "        l,b = np.meshgrid(np.arange(0,items_per_dim),np.arange(0,items_per_dim))\n",
    "\n",
    "    b = b.flatten()\n",
    "    l = l.flatten()   \n",
    "    x = xyz[:,0]\n",
    "    y = xyz[:,1]\n",
    "\n",
    "    if task_id == 'both':\n",
    "        b = np.concatenate((b,b),axis=0)\n",
    "        l = np.concatenate((l,l),axis=0)\n",
    "        fig = plt.figure(fig_id)\n",
    "\n",
    "        for ii in range(0,n_items//2):            \n",
    "            plt.plot([x[ii],x[ii]],[y[ii],y[ii]],marker='s',markerfacecolor=ctxMarkerCol,markeredgecolor=ctxMarkerEdgeCol[0],markersize=ctxMarkerSize,markeredgewidth=.5)\n",
    "            plt.plot(x[ii],y[ii],marker='h',markeredgecolor=scat_l[l[ii],:],markerfacecolor=scat_l[l[ii],:],markersize=scat_b[b[ii]])\n",
    "\n",
    "        for ii in range(n_items//2,n_items):            \n",
    "            plt.plot(x[ii],y[ii],marker='s',markerfacecolor=ctxMarkerCol,markeredgecolor=ctxMarkerEdgeCol[1],markersize=ctxMarkerSize,markeredgewidth=.5)\n",
    "            plt.plot(x[ii],y[ii],marker='h',markeredgecolor=scat_l[l[ii],:],markerfacecolor=scat_l[l[ii],:],markersize=scat_b[b[ii]])\n",
    "    else:\n",
    "        for ii in range(0,n_items):\n",
    "            \n",
    "            plt.plot(x[ii],y[ii],marker='s',markerfacecolor=ctxMarkerCol,markeredgecolor=ctxMarkerEdgeCol,markersize=ctxMarkerSize,markeredgewidth=.5)\n",
    "            plt.plot(x[ii],y[ii],marker='h',markeredgecolor=scat_l[l[ii],:],markerfacecolor=scat_l[l[ii],:],markersize=scat_b[b[ii]])\n",
    "\n",
    "def helper_make_colormap(basecols=np.array([[63,39,24], [64,82,21], [65,125,18], [66,168,15], [68,255, 10]])/255,n_items=5, monitor=False):\n",
    "    '''\n",
    "    creates a colormap and returns both the cmap object\n",
    "    and a list of rgb tuples\n",
    "    inputs:\n",
    "    -basecols: nump array with rgb colors spanning the cmap\n",
    "    -n_items: sampling resolution of cmap\n",
    "    outputs:\n",
    "    -cmap: the cmap object\n",
    "    -cols: np array of colors spanning cmap\n",
    "    '''\n",
    "    # turn basecols into list of tuples     \n",
    "    basecols = list(map(lambda x: tuple(x),basecols))\n",
    "    # turn basecols into colour map\n",
    "    cmap = LinearSegmentedColormap.from_list('tmp',basecols,N=n_items)\n",
    "    # if desired, plot results\n",
    "    if monitor:\n",
    "        plt.figure()\n",
    "        plt.imshow(np.random.randn(20,20),cmap=cmap)\n",
    "        plt.colorbar()\n",
    "    cols = np.asarray([list(cmap(c)[:3]) for c in range(n_items)])\n",
    "\n",
    "    return cmap, cols\n",
    "\n",
    "\n",
    "def rotate(X, theta, axis='x'):\n",
    "    '''Rotate multidimensional array `X` `theta` degrees around axis `axis`'''\n",
    "    theta = theta * (math.pi/180)  # convert to radians\n",
    "    c, s = np.cos(theta), np.sin(theta)\n",
    "    if axis == 'x': return np.dot(X, np.array([\n",
    "        [1.,  0,  0],\n",
    "        [0 ,  c, -s],\n",
    "        [0 ,  s,  c]\n",
    "        ]))\n",
    "    elif axis == 'y': return np.dot(X, np.array([\n",
    "        [c,  0,  -s],\n",
    "        [0,  1,   0],\n",
    "        [s,  0,   c]\n",
    "        ]))\n",
    "    elif axis == 'z': return np.dot(X, np.array([\n",
    "        [c, -s,  0 ],\n",
    "        [s,  c,  0 ],\n",
    "        [0,  0,  1.],\n",
    "        ]))"
   ]
  },
  {
   "cell_type": "code",
   "execution_count": 7,
   "metadata": {},
   "outputs": [],
   "source": [
    "import matplotlib.pyplot as plt\n",
    "from sklearn.manifold import MDS\n",
    "\n",
    "def plot_MDS_embeddings_2D(embeddings_dict):\n",
    "    tasks = ['a', 'b', 'c']\n",
    "    indices = [f'index_{i}' for i in range(6)]\n",
    "    num_plots = len(tasks)\n",
    "\n",
    "    fig, axs = plt.subplots(1, num_plots, figsize=(10*num_plots,10))\n",
    "    for i, task in enumerate(tasks):\n",
    "        task_embeddings = embeddings_dict[task]\n",
    "        task_distances = 1 - (task_embeddings @ task_embeddings.T)\n",
    "\n",
    "        model = MDS(n_components=2, dissimilarity='precomputed', random_state=1)\n",
    "        out = model.fit_transform(task_distances)\n",
    "\n",
    "        x, y = out[:, 0], out[:, 1]\n",
    "\n",
    "        axs[i].scatter(x, y, s=100)\n",
    "\n",
    "        for j, index in enumerate(indices):\n",
    "            axs[i].annotate(index, (x[j], y[j]), fontsize=14)\n",
    "\n",
    "        axs[i].set_title(f'Task {task}', fontsize=16)\n",
    "        axs[i].set_xticks([])\n",
    "        axs[i].set_yticks([])\n",
    "\n",
    "    plt.show()\n"
   ]
  },
  {
   "cell_type": "code",
   "execution_count": 6,
   "metadata": {},
   "outputs": [
    {
     "name": "stdout",
     "output_type": "stream",
     "text": [
      "[NiftiLabelsMasker.wrapped] loading data from /Users/h/nilearn_data/schaefer_2018/Schaefer2018_400Parcels_7Networks_order_FSLMNI152_1mm.nii.gz\n",
      "Resampling labels\n",
      "[Memory]0.4s, 0.0min    : Loading _filter_and_extract...\n",
      "__________________________________filter_and_extract cache loaded - 0.0s, 0.0min\n",
      "[NiftiLabelsMasker.wrapped] loading data from /Users/h/nilearn_data/schaefer_2018/Schaefer2018_400Parcels_7Networks_order_FSLMNI152_1mm.nii.gz\n",
      "[Memory]10.4s, 0.2min   : Loading _filter_and_extract...\n",
      "__________________________________filter_and_extract cache loaded - 0.0s, 0.0min\n",
      "[NiftiLabelsMasker.wrapped] loading data from /Users/h/nilearn_data/schaefer_2018/Schaefer2018_400Parcels_7Networks_order_FSLMNI152_1mm.nii.gz\n",
      "[Memory]20.2s, 0.3min   : Loading _filter_and_extract...\n",
      "__________________________________filter_and_extract cache loaded - 0.0s, 0.0min\n",
      "[NiftiLabelsMasker.wrapped] loading data from /Users/h/nilearn_data/schaefer_2018/Schaefer2018_400Parcels_7Networks_order_FSLMNI152_1mm.nii.gz\n",
      "Resampling labels\n",
      "[Memory]0.5s, 0.0min    : Loading _filter_and_extract...\n",
      "__________________________________filter_and_extract cache loaded - 0.0s, 0.0min\n",
      "[NiftiLabelsMasker.wrapped] loading data from /Users/h/nilearn_data/schaefer_2018/Schaefer2018_400Parcels_7Networks_order_FSLMNI152_1mm.nii.gz\n",
      "[Memory]10.4s, 0.2min   : Loading _filter_and_extract...\n",
      "__________________________________filter_and_extract cache loaded - 0.0s, 0.0min\n",
      "[NiftiLabelsMasker.wrapped] loading data from /Users/h/nilearn_data/schaefer_2018/Schaefer2018_400Parcels_7Networks_order_FSLMNI152_1mm.nii.gz\n",
      "[Memory]20.3s, 0.3min   : Loading _filter_and_extract...\n",
      "__________________________________filter_and_extract cache loaded - 0.0s, 0.0min\n"
     ]
    }
   ],
   "source": [
    "# load brain data\n",
    "sub_list = ['sub-0061']\n",
    "ses_list = ['ses-01', 'ses-03']#, 'ses-04']\n",
    "beh_expect = []\n",
    "beh_outcome = []\n",
    "fmri_data = []\n",
    "for sub in sub_list:\n",
    "    for ses in ses_list:\n",
    "        des = {'session': ses, 'subj': sub}\n",
    "        # load behavioral data expectation rating\n",
    "        expect_df = pd.DataFrame()\n",
    "        expect_df = load_expect(data_dir = '/Users/h/Dropbox/projects_dropbox/social_influence_analysis/data/beh/beh02_preproc/',\n",
    "                sub = sub, ses = ses)\n",
    "        obs_des = {'pattern': np.array(expect_df.condition)}\n",
    "        chn_des = {'ratings': np.array(['ratings_' + str(x) for x in np.arange(4)])}\n",
    "        beh_expect.append(rsd.Dataset(measurements=np.array(expect_df.filter(regex='event02_')),\n",
    "                                descriptors=des,\n",
    "                                obs_descriptors=obs_des,\n",
    "                                channel_descriptors=chn_des))\n",
    "        # load behavioral data outcome rating\n",
    "        outcome_df = load_outcome(data_dir = '/Users/h/Dropbox/projects_dropbox/social_influence_analysis/data/beh/beh02_preproc/',\n",
    "                sub = sub, ses = ses)\n",
    "        beh_outcome.append(rsd.Dataset(measurements=np.array(outcome_df.filter(regex='event04_')),\n",
    "                        descriptors=des,\n",
    "                        obs_descriptors=obs_des,\n",
    "                        channel_descriptors=chn_des))\n",
    "        # load fMRI data\n",
    "        mask, fmri_df, stim_flist = load_fmri(singletrial_dir = '/Volumes/spacetop_projects_cue/analysis/fmri/nilearn/singletrial/',\n",
    "                      sub = sub, ses = ses, run = '*', atlas = True)\n",
    "        obs_des = {'pattern': np.array(expect_df.condition)}\n",
    "        fmri_data.append(rsd.Dataset(measurements=fmri_df,\n",
    "                                descriptors=des,\n",
    "                                obs_descriptors=obs_des,\n",
    "                                channel_descriptors={'roi': np.array(['roi_' + str(x) for x in np.arange(fmri_df.shape[1])])}))\n",
    "# get mask\n",
    "# get searchlight_RDM"
   ]
  },
  {
   "attachments": {},
   "cell_type": "markdown",
   "metadata": {},
   "source": [
    "## build RDM"
   ]
  },
  {
   "cell_type": "code",
   "execution_count": 7,
   "metadata": {},
   "outputs": [
    {
     "name": "stderr",
     "output_type": "stream",
     "text": [
      "/Users/h/anaconda3/envs/spacetop_datalad/lib/python3.9/site-packages/rsatoolbox/data/noise.py:149: RuntimeWarning: invalid value encountered in double_scalars\n",
      "  s_shrink = b2 / d2 * m * np.eye(s.shape[0]) \\\n",
      "/Users/h/anaconda3/envs/spacetop_datalad/lib/python3.9/site-packages/rsatoolbox/data/noise.py:150: RuntimeWarning: invalid value encountered in double_scalars\n",
      "  + (d2-b2) / d2 * s\n"
     ]
    },
    {
     "data": {
      "text/plain": [
       "(<Figure size 400x200 with 2 Axes>,\n",
       " array([[<AxesSubplot:>, <AxesSubplot:>]], dtype=object),\n",
       " defaultdict(dict,\n",
       "             {<AxesSubplot:>: {'image': <matplotlib.image.AxesImage at 0x7fa32fb06040>},\n",
       "              <AxesSubplot:>: {'image': <matplotlib.image.AxesImage at 0x7fa32fb53ca0>}}))"
      ]
     },
     "execution_count": 7,
     "metadata": {},
     "output_type": "execute_result"
    },
    {
     "data": {
      "image/png": "[encoded data removed]",
      "text/plain": [
       "<Figure size 400x200 with 2 Axes>"
      ]
     },
     "metadata": {},
     "output_type": "display_data"
    },
    {
     "data": {
      "image/png": "[encoded data removed]",
      "text/plain": [
       "<Figure size 400x200 with 2 Axes>"
      ]
     },
     "metadata": {},
     "output_type": "display_data"
    },
    {
     "data": {
      "image/png": "[encoded data removed]",
      "text/plain": [
       "<Figure size 400x200 with 2 Axes>"
      ]
     },
     "metadata": {},
     "output_type": "display_data"
    },
    {
     "name": "stderr",
     "output_type": "stream",
     "text": [
      "/Users/h/anaconda3/envs/spacetop_datalad/lib/python3.9/site-packages/matplotlib/image.py:443: UserWarning: Warning: converting a masked element to nan.\n",
      "  dv = np.float64(self.norm.vmax) - np.float64(self.norm.vmin)\n",
      "/Users/h/anaconda3/envs/spacetop_datalad/lib/python3.9/site-packages/matplotlib/image.py:444: UserWarning: Warning: converting a masked element to nan.\n",
      "  vmid = np.float64(self.norm.vmin) + dv / 2\n"
     ]
    },
    {
     "data": {
      "image/png": "[encoded data removed]",
      "text/plain": [
       "<Figure size 400x200 with 2 Axes>"
      ]
     },
     "metadata": {},
     "output_type": "display_data"
    }
   ],
   "source": [
    "rdms_expect = rsr.calc_rdm(beh_expect)\n",
    "rdms_outcome = rsr.calc_rdm(beh_outcome)\n",
    "rdms_fmri = rsr.calc_rdm(fmri_data)\n",
    "noise_prec_shrink = rsatoolbox.data.noise.prec_from_measurements(fmri_data, obs_desc='pattern', method='shrinkage_eye')\n",
    "rdm_fmri_maha_shrink = rsatoolbox.rdm.calc_rdm(fmri_data, descriptor='pattern', method='mahalanobis', noise=noise_prec_shrink)\n",
    "\n",
    "rsatoolbox.vis.show_rdm(rdms_expect)\n",
    "rsatoolbox.vis.show_rdm(rdms_outcome)\n",
    "rsatoolbox.vis.show_rdm(rdms_fmri)\n",
    "rsatoolbox.vis.show_rdm(rdm_fmri_maha_shrink)"
   ]
  },
  {
   "cell_type": "code",
   "execution_count": 8,
   "metadata": {},
   "outputs": [
    {
     "data": {
      "text/plain": [
       "array([[1., 1., 1., ..., 1., 1., 1.],\n",
       "       [1., 1., 1., ..., 1., 1., 1.],\n",
       "       [1., 1., 1., ..., 1., 1., 1.],\n",
       "       ...,\n",
       "       [1., 1., 1., ..., 1., 1., 1.],\n",
       "       [1., 1., 1., ..., 1., 1., 1.],\n",
       "       [1., 1., 1., ..., 1., 1., 1.]])"
      ]
     },
     "execution_count": 8,
     "metadata": {},
     "output_type": "execute_result"
    }
   ],
   "source": [
    "lab = np.load('/Users/h/Downloads/118_animate_labels.npy')\n",
    "lab_rdm = np.load('/Users/h/Downloads/118_animate_RDM.npy')\n",
    "lab_rdm"
   ]
  },
  {
   "cell_type": "code",
   "execution_count": 88,
   "metadata": {},
   "outputs": [
    {
     "data": {
      "text/plain": [
       "(118, 118)"
      ]
     },
     "execution_count": 88,
     "metadata": {},
     "output_type": "execute_result"
    }
   ],
   "source": [
    "lab_rdm.shape"
   ]
  },
  {
   "attachments": {},
   "cell_type": "markdown",
   "metadata": {},
   "source": [
    "## build categorical RDM"
   ]
  },
  {
   "cell_type": "code",
   "execution_count": 199,
   "metadata": {},
   "outputs": [
    {
     "data": {
      "text/plain": [
       "(<Figure size 200x200 with 1 Axes>,\n",
       " array([[<AxesSubplot:>]], dtype=object),\n",
       " defaultdict(dict,\n",
       "             {<AxesSubplot:>: {'image': <matplotlib.image.AxesImage at 0x7fe2e1efd6d0>}}))"
      ]
     },
     "execution_count": 199,
     "metadata": {},
     "output_type": "execute_result"
    },
    {
     "data": {
      "image/png": "[encoded data removed]",
      "text/plain": [
       "<Figure size 200x200 with 1 Axes>"
      ]
     },
     "metadata": {},
     "output_type": "display_data"
    },
    {
     "data": {
      "image/png": "[encoded data removed]",
      "text/plain": [
       "<Figure size 200x200 with 1 Axes>"
      ]
     },
     "metadata": {},
     "output_type": "display_data"
    }
   ],
   "source": [
    "cue_vector = [1,1,1,0,0,0,1,1,1,0,0,0,1,1,1,0,0,0]\n",
    "cue_list = ['high_cue', 'high_cue', 'high_cue', 'low_cue','low_cue','low_cue',\n",
    "                       'high_cue', 'high_cue', 'high_cue', 'low_cue','low_cue','low_cue',\n",
    "                       'high_cue', 'high_cue', 'high_cue', 'low_cue','low_cue','low_cue'\n",
    "                        ]\n",
    "cue_rdm = rsatoolbox.rdm.rdms.get_categorical_rdm(cue_vector, category_name='cue')\n",
    "rsatoolbox.vis.show_rdm(cue_rdm)\n",
    "\n",
    "stim_vector = [1,0,-1,1,0,-1,1,0,-1,1,0,-1,1,0,-1,1,0,-1]\n",
    "stim_vector = [1,2,3,1,2,3,1,2,3,1,2,3,1,2,3,1,2,3]\n",
    "stim_rdm = rsatoolbox.rdm.rdms.get_categorical_rdm(stim_vector, category_name='stimulus_intensity')\n",
    "rsatoolbox.vis.show_rdm(stim_rdm)"
   ]
  },
  {
   "attachments": {},
   "cell_type": "markdown",
   "metadata": {},
   "source": [
    "# model"
   ]
  },
  {
   "cell_type": "code",
   "execution_count": 152,
   "metadata": {},
   "outputs": [],
   "source": [
    "model_cue = rsatoolbox.model.ModelFixed('test', cue_rdm)\n",
    "pred = model.predict() # returns a numpy vectorized format\n",
    "pred_rdm = model.predict_rdm() # returns a RDMs object"
   ]
  },
  {
   "cell_type": "code",
   "execution_count": 164,
   "metadata": {},
   "outputs": [
    {
     "data": {
      "text/plain": [
       "array([[0.70901498]])"
      ]
     },
     "execution_count": 164,
     "metadata": {},
     "output_type": "execute_result"
    }
   ],
   "source": [
    "\n",
    "rsatoolbox.rdm.compare(rdms_fmri[0], #rdms_fmri.get_matrices()), \n",
    "                       cue_rdm, #rdms_expect.get_matrices()), \n",
    "                    #    dissimilarity_measure = 'Euclidean',\n",
    "                       method='cosine', sigma_k=None)"
   ]
  },
  {
   "cell_type": "code",
   "execution_count": 93,
   "metadata": {},
   "outputs": [
    {
     "data": {
      "image/png": "[encoded data removed]",
      "text/plain": [
       "<Figure size 640x480 with 2 Axes>"
      ]
     },
     "metadata": {},
     "output_type": "display_data"
    }
   ],
   "source": [
    "from sklearn.metrics import pairwise_distances\n",
    "import matplotlib.pyplot as plt\n",
    "# %% Categorical RDM\n",
    "cue_category = np.array([[1,1,1,-1,-1,-1,1,1,1,-1,-1,-1,1,1,1,-1,-1,-1],\n",
    "                [1,1,1,-1,-1,-1,1,1,1,-1,-1,-1,1,1,1,-1,-1,-1],\n",
    "                [1,1,1,-1,-1,-1,1,1,1,-1,-1,-1,1,1,1,-1,-1,-1],\n",
    "                [-1,-1,-1,1,1,1,-1,-1,-1,1,1,1,-1,-1,-1,1,1,1],\n",
    "                [-1,-1,-1,1,1,1,-1,-1,-1,1,1,1,-1,-1,-1,1,1,1],\n",
    "                [-1,-1,-1,1,1,1,-1,-1,-1,1,1,1,-1,-1,-1,1,1,1],\n",
    "                [1,1,1,-1,-1,-1,1,1,1,-1,-1,-1,1,1,1,-1,-1,-1],\n",
    "                [1,1,1,-1,-1,-1,1,1,1,-1,-1,-1,1,1,1,-1,-1,-1],\n",
    "                [1,1,1,-1,-1,-1,1,1,1,-1,-1,-1,1,1,1,-1,-1,-1],\n",
    "                [-1,-1,-1,1,1,1,-1,-1,-1,1,1,1,-1,-1,-1,1,1,1],\n",
    "                [-1,-1,-1,1,1,1,-1,-1,-1,1,1,1,-1,-1,-1,1,1,1],\n",
    "                [-1,-1,-1,1,1,1,-1,-1,-1,1,1,1,-1,-1,-1,1,1,1],\n",
    "                [1,1,1,-1,-1,-1,1,1,1,-1,-1,-1,1,1,1,-1,-1,-1],\n",
    "                [1,1,1,-1,-1,-1,1,1,1,-1,-1,-1,1,1,1,-1,-1,-1],\n",
    "                [1,1,1,-1,-1,-1,1,1,1,-1,-1,-1,1,1,1,-1,-1,-1],\n",
    "                [-1,-1,-1,1,1,1,-1,-1,-1,1,1,1,-1,-1,-1,1,1,1],\n",
    "                [-1,-1,-1,1,1,1,-1,-1,-1,1,1,1,-1,-1,-1,1,1,1],\n",
    "                [-1,-1,-1,1,1,1,-1,-1,-1,1,1,1,-1,-1,-1,1,1,1]])\n",
    "rdm_cue = pairwise_distances(cue_category, metric='manhattan')\n",
    "\n",
    "plt.imshow(rdm_cue)\n",
    "plt.colorbar()\n",
    "plt.title(\"cue RDM\")\n",
    "plt.show()\n",
    "\n",
    "# rdm_cue = rsd.Dataset(measurements=cue_category,\n",
    "#                                 descriptors=des,\n",
    "#                                 obs_descriptors=obs_des,\n",
    "#                                 channel_descriptors={'pattern': np.array(['pattern_' + str(x) for x in np.arange(cue_category.shape[1])])})\n",
    "# rdms_cue = rsr.calc_rdm(rdm_cue)\n",
    "cue_model = ModelFixed('cue RDM', upper_tri(cue_category))\n"
   ]
  },
  {
   "cell_type": "code",
   "execution_count": 159,
   "metadata": {},
   "outputs": [
    {
     "data": {
      "text/plain": [
       "rsatoolbox.rdm.RDMs(\n",
       "dissimilarity_measure = \n",
       "None\n",
       "dissimilarities = \n",
       "[[0. 0. 1. 1. 1. 0. 0. 0. 1. 1. 1. 0. 0. 0. 1. 1. 1. 0. 1. 1. 1. 0. 0. 0.\n",
       "  1. 1. 1. 0. 0. 0. 1. 1. 1. 1. 1. 1. 0. 0. 0. 1. 1. 1. 0. 0. 0. 1. 1. 1.\n",
       "  0. 0. 1. 1. 1. 0. 0. 0. 1. 1. 1. 0. 0. 0. 0. 1. 1. 1. 0. 0. 0. 1. 1. 1.\n",
       "  0. 0. 0. 1. 1. 1. 0. 0. 0. 1. 1. 1. 0. 0. 0. 0. 0. 1. 1. 1. 0. 0. 0. 1.\n",
       "  1. 1. 0. 1. 1. 1. 0. 0. 0. 1. 1. 1. 1. 1. 1. 0. 0. 0. 1. 1. 1. 0. 0. 1.\n",
       "  1. 1. 0. 0. 0. 0. 1. 1. 1. 0. 0. 0. 1. 1. 1. 0. 0. 0. 0. 0. 1. 1. 1. 0.\n",
       "  1. 1. 1. 1. 1. 1. 0. 0. 0.]]\n",
       "descriptors = \n",
       "{}\n",
       "rdm_descriptors = \n",
       "{'index': [0]}\n",
       "pattern_descriptors = \n",
       "{'cue': array([1, 1, 1, 0, 0, 0, 1, 1, 1, 0, 0, 0, 1, 1, 1, 0, 0, 0]), 'index': array([ 0,  1,  2,  3,  4,  5,  6,  7,  8,  9, 10, 11, 12, 13, 14, 15, 16,\n",
       "       17])}"
      ]
     },
     "execution_count": 159,
     "metadata": {},
     "output_type": "execute_result"
    }
   ],
   "source": [
    "cue_rdm"
   ]
  },
  {
   "cell_type": "code",
   "execution_count": 161,
   "metadata": {},
   "outputs": [
    {
     "ename": "AttributeError",
     "evalue": "'ModelFixed' object has no attribute 'ndim'",
     "output_type": "error",
     "traceback": [
      "\u001b[0;31m---------------------------------------------------------------------------\u001b[0m",
      "\u001b[0;31mAttributeError\u001b[0m                            Traceback (most recent call last)",
      "Cell \u001b[0;32mIn[161], line 5\u001b[0m\n\u001b[1;32m      1\u001b[0m \u001b[39mimport\u001b[39;00m \u001b[39mrsatoolbox\u001b[39;00m\n\u001b[1;32m      2\u001b[0m \u001b[39m# generate 2 random model RDMs of 10 conditions\u001b[39;00m\n\u001b[1;32m      3\u001b[0m \u001b[39m# model_features = [rsatoolbox.data.Dataset(np.random.rand(10, 7)) for i in range(2)]\u001b[39;00m\n\u001b[1;32m      4\u001b[0m \u001b[39m# model_rdms_cue = rsatoolbox.rdm.calc_rdm(cue_rdm)\u001b[39;00m\n\u001b[0;32m----> 5\u001b[0m model_cue \u001b[39m=\u001b[39m rsatoolbox\u001b[39m.\u001b[39;49mmodel\u001b[39m.\u001b[39;49mModelWeighted(\u001b[39m'\u001b[39;49m\u001b[39mtest\u001b[39;49m\u001b[39m'\u001b[39;49m, cue_model)\n",
      "File \u001b[0;32m~/anaconda3/envs/spacetop_datalad/lib/python3.9/site-packages/rsatoolbox/model/model.py:219\u001b[0m, in \u001b[0;36mModelWeighted.__init__\u001b[0;34m(self, name, rdm)\u001b[0m\n\u001b[1;32m    217\u001b[0m     \u001b[39mself\u001b[39m\u001b[39m.\u001b[39mrdm \u001b[39m=\u001b[39m rdm\u001b[39m.\u001b[39mget_vectors()\n\u001b[1;32m    218\u001b[0m     \u001b[39mself\u001b[39m\u001b[39m.\u001b[39mn_cond \u001b[39m=\u001b[39m rdm\u001b[39m.\u001b[39mn_cond\n\u001b[0;32m--> 219\u001b[0m \u001b[39melif\u001b[39;00m rdm\u001b[39m.\u001b[39;49mndim \u001b[39m==\u001b[39m \u001b[39m2\u001b[39m:  \u001b[39m# User supplied vectors\u001b[39;00m\n\u001b[1;32m    220\u001b[0m     \u001b[39mself\u001b[39m\u001b[39m.\u001b[39mrdm_obj \u001b[39m=\u001b[39m RDMs(rdm)\n\u001b[1;32m    221\u001b[0m     \u001b[39mself\u001b[39m\u001b[39m.\u001b[39mn_cond \u001b[39m=\u001b[39m (\u001b[39m1\u001b[39m \u001b[39m+\u001b[39m np\u001b[39m.\u001b[39msqrt(\u001b[39m1\u001b[39m \u001b[39m+\u001b[39m \u001b[39m8\u001b[39m \u001b[39m*\u001b[39m rdm\u001b[39m.\u001b[39mshape[\u001b[39m1\u001b[39m])) \u001b[39m/\u001b[39m \u001b[39m2\u001b[39m\n",
      "\u001b[0;31mAttributeError\u001b[0m: 'ModelFixed' object has no attribute 'ndim'"
     ]
    }
   ],
   "source": [
    "import rsatoolbox\n",
    "# generate 2 random model RDMs of 10 conditions\n",
    "# model_features = [rsatoolbox.data.Dataset(np.random.rand(10, 7)) for i in range(2)]\n",
    "# model_rdms_cue = rsatoolbox.rdm.calc_rdm(cue_rdm)\n",
    "model_cue = rsatoolbox.model.ModelWeighted('test', cue_model)"
   ]
  },
  {
   "cell_type": "code",
   "execution_count": 162,
   "metadata": {},
   "outputs": [
    {
     "data": {
      "text/plain": [
       "<rsatoolbox.model.model.ModelFixed at 0x7fe303757b50>"
      ]
     },
     "execution_count": 162,
     "metadata": {},
     "output_type": "execute_result"
    }
   ],
   "source": [
    "cue_model"
   ]
  },
  {
   "cell_type": "code",
   "execution_count": 95,
   "metadata": {},
   "outputs": [
    {
     "name": "stderr",
     "output_type": "stream",
     "text": [
      "Evaluating models for each searchlight: 100%|██████████| 2/2 [00:00<00:00, 64.57it/s]\n"
     ]
    }
   ],
   "source": [
    "eval_results = evaluate_models_searchlight(rdms_fmri, cue_model, eval_fixed, method='spearman', n_jobs=3)\n"
   ]
  },
  {
   "cell_type": "code",
   "execution_count": 97,
   "metadata": {},
   "outputs": [
    {
     "name": "stderr",
     "output_type": "stream",
     "text": [
      "/var/folders/w8/z3vy42z17hq5gc9r_5hzsgxw0000gn/T/ipykernel_82444/218187102.py:2: DeprecationWarning: `np.float` is a deprecated alias for the builtin `float`. To silence this warning, use `float` by itself. Doing this will not modify any behavior and is safe. If you specifically wanted the numpy scalar type, use `np.float64` here.\n",
      "Deprecated in NumPy 1.20; for more details and guidance: https://numpy.org/devdocs/release/1.20.0-notes.html#deprecations\n",
      "  eval_score = [np.float(e.evaluations) for e in eval_results]\n"
     ]
    }
   ],
   "source": [
    "eval_results\n",
    "eval_score = [np.float(e.evaluations) for e in eval_results]"
   ]
  },
  {
   "cell_type": "code",
   "execution_count": 98,
   "metadata": {},
   "outputs": [
    {
     "data": {
      "text/plain": [
       "[-0.0696734912862928, -0.13430677256464102]"
      ]
     },
     "execution_count": 98,
     "metadata": {},
     "output_type": "execute_result"
    }
   ],
   "source": [
    "eval_score"
   ]
  },
  {
   "cell_type": "code",
   "execution_count": null,
   "metadata": {},
   "outputs": [],
   "source": [
    "https://rsatoolbox.readthedocs.io/en/stable/demo_searchlight.html"
   ]
  },
  {
   "cell_type": "code",
   "execution_count": null,
   "metadata": {},
   "outputs": [
    {
     "ename": "TypeError",
     "evalue": "calc_rdm() got an unexpected keyword argument 'obs_des'",
     "output_type": "error",
     "traceback": [
      "\u001b[0;31m---------------------------------------------------------------------------\u001b[0m\n",
      "\u001b[0;31mTypeError\u001b[0m                                 Traceback (most recent call last)\n",
      "Cell \u001b[0;32mIn[63], line 6\u001b[0m\n",
      "\u001b[1;32m      1\u001b[0m cue_list  \u001b[39m=\u001b[39m np\u001b[39m.\u001b[39marray([\u001b[39m'\u001b[39m\u001b[39mhigh_cue\u001b[39m\u001b[39m'\u001b[39m, \u001b[39m'\u001b[39m\u001b[39mhigh_cue\u001b[39m\u001b[39m'\u001b[39m, \u001b[39m'\u001b[39m\u001b[39mhigh_cue\u001b[39m\u001b[39m'\u001b[39m, \u001b[39m'\u001b[39m\u001b[39mlow_cue\u001b[39m\u001b[39m'\u001b[39m,\u001b[39m'\u001b[39m\u001b[39mlow_cue\u001b[39m\u001b[39m'\u001b[39m,\u001b[39m'\u001b[39m\u001b[39mlow_cue\u001b[39m\u001b[39m'\u001b[39m,\n",
      "\u001b[1;32m      2\u001b[0m                        \u001b[39m'\u001b[39m\u001b[39mhigh_cue\u001b[39m\u001b[39m'\u001b[39m, \u001b[39m'\u001b[39m\u001b[39mhigh_cue\u001b[39m\u001b[39m'\u001b[39m, \u001b[39m'\u001b[39m\u001b[39mhigh_cue\u001b[39m\u001b[39m'\u001b[39m, \u001b[39m'\u001b[39m\u001b[39mlow_cue\u001b[39m\u001b[39m'\u001b[39m,\u001b[39m'\u001b[39m\u001b[39mlow_cue\u001b[39m\u001b[39m'\u001b[39m,\u001b[39m'\u001b[39m\u001b[39mlow_cue\u001b[39m\u001b[39m'\u001b[39m,\n",
      "\u001b[1;32m      3\u001b[0m                        \u001b[39m'\u001b[39m\u001b[39mhigh_cue\u001b[39m\u001b[39m'\u001b[39m, \u001b[39m'\u001b[39m\u001b[39mhigh_cue\u001b[39m\u001b[39m'\u001b[39m, \u001b[39m'\u001b[39m\u001b[39mhigh_cue\u001b[39m\u001b[39m'\u001b[39m, \u001b[39m'\u001b[39m\u001b[39mlow_cue\u001b[39m\u001b[39m'\u001b[39m,\u001b[39m'\u001b[39m\u001b[39mlow_cue\u001b[39m\u001b[39m'\u001b[39m,\u001b[39m'\u001b[39m\u001b[39mlow_cue\u001b[39m\u001b[39m'\u001b[39m\n",
      "\u001b[1;32m      4\u001b[0m                         ])\n",
      "\u001b[1;32m      5\u001b[0m cue_array \u001b[39m=\u001b[39m np\u001b[39m.\u001b[39marray([\u001b[39m1\u001b[39m,\u001b[39m1\u001b[39m,\u001b[39m1\u001b[39m,\u001b[39m0\u001b[39m,\u001b[39m0\u001b[39m,\u001b[39m0\u001b[39m,\u001b[39m1\u001b[39m,\u001b[39m1\u001b[39m,\u001b[39m1\u001b[39m,\u001b[39m0\u001b[39m,\u001b[39m0\u001b[39m,\u001b[39m0\u001b[39m,\u001b[39m1\u001b[39m,\u001b[39m1\u001b[39m,\u001b[39m1\u001b[39m,\u001b[39m0\u001b[39m,\u001b[39m0\u001b[39m,\u001b[39m0\u001b[39m])\n",
      "\u001b[0;32m----> 6\u001b[0m cue_rdm_model \u001b[39m=\u001b[39m rsatoolbox\u001b[39m.\u001b[39;49mrdm\u001b[39m.\u001b[39;49mcalc_rdm(cue_array, descriptor\u001b[39m=\u001b[39;49m{\u001b[39m'\u001b[39;49m\u001b[39mcuelist\u001b[39;49m\u001b[39m'\u001b[39;49m: cue_list}, \n",
      "\u001b[1;32m      7\u001b[0m                                         obs_des \u001b[39m=\u001b[39;49m {\u001b[39m'\u001b[39;49m\u001b[39mpattern\u001b[39;49m\u001b[39m'\u001b[39;49m: np\u001b[39m.\u001b[39;49marray(expect_df\u001b[39m.\u001b[39;49mcondition)},\n",
      "\u001b[1;32m      8\u001b[0m                                         method\u001b[39m=\u001b[39;49m\u001b[39m'\u001b[39;49m\u001b[39mmahalanobis\u001b[39;49m\u001b[39m'\u001b[39;49m)\n",
      "\n",
      "\u001b[0;31mTypeError\u001b[0m: calc_rdm() got an unexpected keyword argument 'obs_des'"
     ]
    }
   ],
   "source": [
    "cue_list  = np.array(['high_cue', 'high_cue', 'high_cue', 'low_cue','low_cue','low_cue',\n",
    "                       'high_cue', 'high_cue', 'high_cue', 'low_cue','low_cue','low_cue',\n",
    "                       'high_cue', 'high_cue', 'high_cue', 'low_cue','low_cue','low_cue'\n",
    "                        ])\n",
    "cue_array = np.array([1,1,1,0,0,0,1,1,1,0,0,0,1,1,1,0,0,0])\n",
    "cue_rdm_model = rsatoolbox.rdm.calc_rdm(cue_array, descriptor={'cuelist': cue_list}, \n",
    "                                        #obs_des = {'pattern': np.array(expect_df.condition)},\n",
    "                                        method='mahalanobis')\n"
   ]
  },
  {
   "cell_type": "code",
   "execution_count": 63,
   "metadata": {},
   "outputs": [
    {
     "ename": "TypeError",
     "evalue": "calc_rdm() got an unexpected keyword argument 'obs_des'",
     "output_type": "error",
     "traceback": [
      "\u001b[0;31m---------------------------------------------------------------------------\u001b[0m",
      "\u001b[0;31mTypeError\u001b[0m                                 Traceback (most recent call last)",
      "Cell \u001b[0;32mIn[63], line 6\u001b[0m\n\u001b[1;32m      1\u001b[0m cue_list  \u001b[39m=\u001b[39m np\u001b[39m.\u001b[39marray([\u001b[39m'\u001b[39m\u001b[39mhigh_cue\u001b[39m\u001b[39m'\u001b[39m, \u001b[39m'\u001b[39m\u001b[39mhigh_cue\u001b[39m\u001b[39m'\u001b[39m, \u001b[39m'\u001b[39m\u001b[39mhigh_cue\u001b[39m\u001b[39m'\u001b[39m, \u001b[39m'\u001b[39m\u001b[39mlow_cue\u001b[39m\u001b[39m'\u001b[39m,\u001b[39m'\u001b[39m\u001b[39mlow_cue\u001b[39m\u001b[39m'\u001b[39m,\u001b[39m'\u001b[39m\u001b[39mlow_cue\u001b[39m\u001b[39m'\u001b[39m,\n\u001b[1;32m      2\u001b[0m                        \u001b[39m'\u001b[39m\u001b[39mhigh_cue\u001b[39m\u001b[39m'\u001b[39m, \u001b[39m'\u001b[39m\u001b[39mhigh_cue\u001b[39m\u001b[39m'\u001b[39m, \u001b[39m'\u001b[39m\u001b[39mhigh_cue\u001b[39m\u001b[39m'\u001b[39m, \u001b[39m'\u001b[39m\u001b[39mlow_cue\u001b[39m\u001b[39m'\u001b[39m,\u001b[39m'\u001b[39m\u001b[39mlow_cue\u001b[39m\u001b[39m'\u001b[39m,\u001b[39m'\u001b[39m\u001b[39mlow_cue\u001b[39m\u001b[39m'\u001b[39m,\n\u001b[1;32m      3\u001b[0m                        \u001b[39m'\u001b[39m\u001b[39mhigh_cue\u001b[39m\u001b[39m'\u001b[39m, \u001b[39m'\u001b[39m\u001b[39mhigh_cue\u001b[39m\u001b[39m'\u001b[39m, \u001b[39m'\u001b[39m\u001b[39mhigh_cue\u001b[39m\u001b[39m'\u001b[39m, \u001b[39m'\u001b[39m\u001b[39mlow_cue\u001b[39m\u001b[39m'\u001b[39m,\u001b[39m'\u001b[39m\u001b[39mlow_cue\u001b[39m\u001b[39m'\u001b[39m,\u001b[39m'\u001b[39m\u001b[39mlow_cue\u001b[39m\u001b[39m'\u001b[39m\n\u001b[1;32m      4\u001b[0m                         ])\n\u001b[1;32m      5\u001b[0m cue_array \u001b[39m=\u001b[39m np\u001b[39m.\u001b[39marray([\u001b[39m1\u001b[39m,\u001b[39m1\u001b[39m,\u001b[39m1\u001b[39m,\u001b[39m0\u001b[39m,\u001b[39m0\u001b[39m,\u001b[39m0\u001b[39m,\u001b[39m1\u001b[39m,\u001b[39m1\u001b[39m,\u001b[39m1\u001b[39m,\u001b[39m0\u001b[39m,\u001b[39m0\u001b[39m,\u001b[39m0\u001b[39m,\u001b[39m1\u001b[39m,\u001b[39m1\u001b[39m,\u001b[39m1\u001b[39m,\u001b[39m0\u001b[39m,\u001b[39m0\u001b[39m,\u001b[39m0\u001b[39m])\n\u001b[0;32m----> 6\u001b[0m cue_rdm_model \u001b[39m=\u001b[39m rsatoolbox\u001b[39m.\u001b[39;49mrdm\u001b[39m.\u001b[39;49mcalc_rdm(cue_array, descriptor\u001b[39m=\u001b[39;49m{\u001b[39m'\u001b[39;49m\u001b[39mcuelist\u001b[39;49m\u001b[39m'\u001b[39;49m: cue_list}, \n\u001b[1;32m      7\u001b[0m                                         obs_des \u001b[39m=\u001b[39;49m {\u001b[39m'\u001b[39;49m\u001b[39mpattern\u001b[39;49m\u001b[39m'\u001b[39;49m: np\u001b[39m.\u001b[39;49marray(expect_df\u001b[39m.\u001b[39;49mcondition)},\n\u001b[1;32m      8\u001b[0m                                         method\u001b[39m=\u001b[39;49m\u001b[39m'\u001b[39;49m\u001b[39mmahalanobis\u001b[39;49m\u001b[39m'\u001b[39;49m)\n",
      "\u001b[0;31mTypeError\u001b[0m: calc_rdm() got an unexpected keyword argument 'obs_des'"
     ]
    }
   ],
   "source": [
    "cue_list  = np.array(['high_cue', 'high_cue', 'high_cue', 'low_cue','low_cue','low_cue',\n",
    "                       'high_cue', 'high_cue', 'high_cue', 'low_cue','low_cue','low_cue',\n",
    "                       'high_cue', 'high_cue', 'high_cue', 'low_cue','low_cue','low_cue'\n",
    "                        ])\n",
    "cue_array = np.array([1,1,1,0,0,0,1,1,1,0,0,0,1,1,1,0,0,0])\n",
    "cue_rdm_model = rsatoolbox.rdm.calc_rdm(cue_array, descriptor={'cuelist': cue_list}, \n",
    "                                        #obs_des = {'pattern': np.array(expect_df.condition)},\n",
    "                                        method='mahalanobis')\n"
   ]
  },
  {
   "attachments": {},
   "cell_type": "markdown",
   "metadata": {},
   "source": [
    "# searchlight\n"
   ]
  },
  {
   "cell_type": "code",
   "execution_count": null,
   "metadata": {},
   "outputs": [],
   "source": [
    "\n",
    "# from nilearn import datasets\n",
    "\n",
    "# atlas = datasets.fetch_atlas_schaefer_2018(n_rois=100, yeo_networks=7, resolution_mm=2)\n",
    "\n",
    "# from rsatoolbox.searchlight import Searchlight\n",
    "\n",
    "# searchlight = Searchlight(atlas=atlas.maps, seed=0)\n",
    "# from rsatoolbox.searchlight import Searchlight\n",
    "\n",
    "# searchlight = Searchlight(atlas=atlas.maps, seed=0)"
   ]
  },
  {
   "attachments": {},
   "cell_type": "markdown",
   "metadata": {},
   "source": [
    "# compare"
   ]
  },
  {
   "cell_type": "code",
   "execution_count": 149,
   "metadata": {},
   "outputs": [
    {
     "ename": "ValueError",
     "evalue": "cannot reshape array of size 91 into shape (2,newaxis)",
     "output_type": "error",
     "traceback": [
      "\u001b[0;31m---------------------------------------------------------------------------\u001b[0m",
      "\u001b[0;31mValueError\u001b[0m                                Traceback (most recent call last)",
      "Cell \u001b[0;32mIn[149], line 1\u001b[0m\n\u001b[0;32m----> 1\u001b[0m rsatoolbox\u001b[39m.\u001b[39;49mrdm\u001b[39m.\u001b[39;49mcompare(rsatoolbox\u001b[39m.\u001b[39;49mrdm\u001b[39m.\u001b[39;49mRDMs(rdms_fmri\u001b[39m.\u001b[39;49mdissimilarities), \u001b[39m#rdms_fmri.get_matrices()), \u001b[39;49;00m\n\u001b[1;32m      2\u001b[0m                        rsatoolbox\u001b[39m.\u001b[39;49mrdm\u001b[39m.\u001b[39;49mRDMs(rdms_expect\u001b[39m.\u001b[39;49mdissimilarities), \u001b[39m#rdms_expect.get_matrices()), \u001b[39;49;00m\n\u001b[1;32m      3\u001b[0m                     \u001b[39m#    dissimilarity_measure = 'Euclidean',\u001b[39;49;00m\n\u001b[1;32m      4\u001b[0m                        method\u001b[39m=\u001b[39;49m\u001b[39m'\u001b[39;49m\u001b[39mcosine\u001b[39;49m\u001b[39m'\u001b[39;49m, sigma_k\u001b[39m=\u001b[39;49m\u001b[39mNone\u001b[39;49;00m)\n",
      "File \u001b[0;32m~/anaconda3/envs/spacetop_datalad/lib/python3.9/site-packages/rsatoolbox/rdm/compare.py:60\u001b[0m, in \u001b[0;36mcompare\u001b[0;34m(rdm1, rdm2, method, sigma_k)\u001b[0m\n\u001b[1;32m     20\u001b[0m \u001b[39m\u001b[39m\u001b[39m\"\"\"calculates the similarity between two RDMs objects using a chosen method\u001b[39;00m\n\u001b[1;32m     21\u001b[0m \n\u001b[1;32m     22\u001b[0m \u001b[39mArgs:\u001b[39;00m\n\u001b[0;32m   (...)\u001b[0m\n\u001b[1;32m     57\u001b[0m \n\u001b[1;32m     58\u001b[0m \u001b[39m\"\"\"\u001b[39;00m\n\u001b[1;32m     59\u001b[0m \u001b[39mif\u001b[39;00m method \u001b[39m==\u001b[39m \u001b[39m'\u001b[39m\u001b[39mcosine\u001b[39m\u001b[39m'\u001b[39m:\n\u001b[0;32m---> 60\u001b[0m     sim \u001b[39m=\u001b[39m compare_cosine(rdm1, rdm2)\n\u001b[1;32m     61\u001b[0m \u001b[39melif\u001b[39;00m method \u001b[39m==\u001b[39m \u001b[39m'\u001b[39m\u001b[39mspearman\u001b[39m\u001b[39m'\u001b[39m:\n\u001b[1;32m     62\u001b[0m     sim \u001b[39m=\u001b[39m compare_spearman(rdm1, rdm2)\n",
      "File \u001b[0;32m~/anaconda3/envs/spacetop_datalad/lib/python3.9/site-packages/rsatoolbox/rdm/compare.py:95\u001b[0m, in \u001b[0;36mcompare_cosine\u001b[0;34m(rdm1, rdm2)\u001b[0m\n\u001b[1;32m     82\u001b[0m \u001b[39mdef\u001b[39;00m \u001b[39mcompare_cosine\u001b[39m(rdm1, rdm2):\n\u001b[1;32m     83\u001b[0m \u001b[39m    \u001b[39m\u001b[39m\"\"\"calculates the cosine similarities between two RDMs objects\u001b[39;00m\n\u001b[1;32m     84\u001b[0m \n\u001b[1;32m     85\u001b[0m \u001b[39m    Args:\u001b[39;00m\n\u001b[0;32m   (...)\u001b[0m\n\u001b[1;32m     93\u001b[0m \n\u001b[1;32m     94\u001b[0m \u001b[39m    \"\"\"\u001b[39;00m\n\u001b[0;32m---> 95\u001b[0m     vector1, vector2, _ \u001b[39m=\u001b[39m _parse_input_rdms(rdm1, rdm2)\n\u001b[1;32m     96\u001b[0m     sim \u001b[39m=\u001b[39m _cosine(vector1, vector2)\n\u001b[1;32m     97\u001b[0m     \u001b[39mreturn\u001b[39;00m sim\n",
      "File \u001b[0;32m~/anaconda3/envs/spacetop_datalad/lib/python3.9/site-packages/rsatoolbox/rdm/compare.py:621\u001b[0m, in \u001b[0;36m_parse_input_rdms\u001b[0;34m(rdm1, rdm2)\u001b[0m\n\u001b[1;32m    619\u001b[0m nan_idx \u001b[39m=\u001b[39m \u001b[39m~\u001b[39mnp\u001b[39m.\u001b[39misnan(vector1)\n\u001b[1;32m    620\u001b[0m vector1_no_nan \u001b[39m=\u001b[39m vector1[nan_idx]\u001b[39m.\u001b[39mreshape(vector1\u001b[39m.\u001b[39mshape[\u001b[39m0\u001b[39m], \u001b[39m-\u001b[39m\u001b[39m1\u001b[39m)\n\u001b[0;32m--> 621\u001b[0m vector2_no_nan \u001b[39m=\u001b[39m vector2[\u001b[39m~\u001b[39;49mnp\u001b[39m.\u001b[39;49misnan(vector2)]\u001b[39m.\u001b[39;49mreshape(vector2\u001b[39m.\u001b[39;49mshape[\u001b[39m0\u001b[39;49m], \u001b[39m-\u001b[39;49m\u001b[39m1\u001b[39;49m)\n\u001b[1;32m    622\u001b[0m \u001b[39mif\u001b[39;00m \u001b[39mnot\u001b[39;00m vector1_no_nan\u001b[39m.\u001b[39mshape[\u001b[39m1\u001b[39m] \u001b[39m==\u001b[39m vector2_no_nan\u001b[39m.\u001b[39mshape[\u001b[39m1\u001b[39m]:\n\u001b[1;32m    623\u001b[0m     \u001b[39mraise\u001b[39;00m \u001b[39mValueError\u001b[39;00m(\u001b[39m'\u001b[39m\u001b[39mrdm1 and rdm2 have different nan positions\u001b[39m\u001b[39m'\u001b[39m)\n",
      "\u001b[0;31mValueError\u001b[0m: cannot reshape array of size 91 into shape (2,newaxis)"
     ]
    }
   ],
   "source": [
    "\n",
    "rsatoolbox.rdm.compare(rsatoolbox.rdm.RDMs(rdms_fmri.dissimilarities), #rdms_fmri.get_matrices()), \n",
    "                       rsatoolbox.rdm.RDMs(rdms_expect.dissimilarities), #rdms_expect.get_matrices()), \n",
    "                    #    dissimilarity_measure = 'Euclidean',\n",
    "                       method='cosine', sigma_k=None)"
   ]
  },
  {
   "cell_type": "code",
   "execution_count": 123,
   "metadata": {},
   "outputs": [
    {
     "ename": "ValueError",
     "evalue": "cannot reshape array of size 91 into shape (2,newaxis)",
     "output_type": "error",
     "traceback": [
      "\u001b[0;31m---------------------------------------------------------------------------\u001b[0m",
      "\u001b[0;31mValueError\u001b[0m                                Traceback (most recent call last)",
      "Cell \u001b[0;32mIn[123], line 2\u001b[0m\n\u001b[1;32m      1\u001b[0m \u001b[39mfrom\u001b[39;00m \u001b[39mrsatoolbox\u001b[39;00m\u001b[39m.\u001b[39;00m\u001b[39mrdm\u001b[39;00m \u001b[39mimport\u001b[39;00m compare_cosine\n\u001b[0;32m----> 2\u001b[0m cosine_fmri_cue \u001b[39m=\u001b[39m compare_cosine(rdms_fmri, rdms_expect)\n",
      "File \u001b[0;32m~/anaconda3/envs/spacetop_datalad/lib/python3.9/site-packages/rsatoolbox/rdm/compare.py:95\u001b[0m, in \u001b[0;36mcompare_cosine\u001b[0;34m(rdm1, rdm2)\u001b[0m\n\u001b[1;32m     82\u001b[0m \u001b[39mdef\u001b[39;00m \u001b[39mcompare_cosine\u001b[39m(rdm1, rdm2):\n\u001b[1;32m     83\u001b[0m \u001b[39m    \u001b[39m\u001b[39m\"\"\"calculates the cosine similarities between two RDMs objects\u001b[39;00m\n\u001b[1;32m     84\u001b[0m \n\u001b[1;32m     85\u001b[0m \u001b[39m    Args:\u001b[39;00m\n\u001b[0;32m   (...)\u001b[0m\n\u001b[1;32m     93\u001b[0m \n\u001b[1;32m     94\u001b[0m \u001b[39m    \"\"\"\u001b[39;00m\n\u001b[0;32m---> 95\u001b[0m     vector1, vector2, _ \u001b[39m=\u001b[39m _parse_input_rdms(rdm1, rdm2)\n\u001b[1;32m     96\u001b[0m     sim \u001b[39m=\u001b[39m _cosine(vector1, vector2)\n\u001b[1;32m     97\u001b[0m     \u001b[39mreturn\u001b[39;00m sim\n",
      "File \u001b[0;32m~/anaconda3/envs/spacetop_datalad/lib/python3.9/site-packages/rsatoolbox/rdm/compare.py:621\u001b[0m, in \u001b[0;36m_parse_input_rdms\u001b[0;34m(rdm1, rdm2)\u001b[0m\n\u001b[1;32m    619\u001b[0m nan_idx \u001b[39m=\u001b[39m \u001b[39m~\u001b[39mnp\u001b[39m.\u001b[39misnan(vector1)\n\u001b[1;32m    620\u001b[0m vector1_no_nan \u001b[39m=\u001b[39m vector1[nan_idx]\u001b[39m.\u001b[39mreshape(vector1\u001b[39m.\u001b[39mshape[\u001b[39m0\u001b[39m], \u001b[39m-\u001b[39m\u001b[39m1\u001b[39m)\n\u001b[0;32m--> 621\u001b[0m vector2_no_nan \u001b[39m=\u001b[39m vector2[\u001b[39m~\u001b[39;49mnp\u001b[39m.\u001b[39;49misnan(vector2)]\u001b[39m.\u001b[39;49mreshape(vector2\u001b[39m.\u001b[39;49mshape[\u001b[39m0\u001b[39;49m], \u001b[39m-\u001b[39;49m\u001b[39m1\u001b[39;49m)\n\u001b[1;32m    622\u001b[0m \u001b[39mif\u001b[39;00m \u001b[39mnot\u001b[39;00m vector1_no_nan\u001b[39m.\u001b[39mshape[\u001b[39m1\u001b[39m] \u001b[39m==\u001b[39m vector2_no_nan\u001b[39m.\u001b[39mshape[\u001b[39m1\u001b[39m]:\n\u001b[1;32m    623\u001b[0m     \u001b[39mraise\u001b[39;00m \u001b[39mValueError\u001b[39;00m(\u001b[39m'\u001b[39m\u001b[39mrdm1 and rdm2 have different nan positions\u001b[39m\u001b[39m'\u001b[39m)\n",
      "\u001b[0;31mValueError\u001b[0m: cannot reshape array of size 91 into shape (2,newaxis)"
     ]
    }
   ],
   "source": [
    "from rsatoolbox.rdm import compare_cosine\n",
    "cosine_fmri_cue = compare_cosine(rdms_fmri, rdms_expect)"
   ]
  },
  {
   "cell_type": "code",
   "execution_count": 103,
   "metadata": {},
   "outputs": [
    {
     "name": "stderr",
     "output_type": "stream",
     "text": [
      "Finding searchlights...:   2%|▏         | 8281/458294 [00:10<09:22, 799.97it/s] \n"
     ]
    },
    {
     "ename": "KeyboardInterrupt",
     "evalue": "",
     "output_type": "error",
     "traceback": [
      "\u001b[0;31m---------------------------------------------------------------------------\u001b[0m",
      "\u001b[0;31mKeyboardInterrupt\u001b[0m                         Traceback (most recent call last)",
      "Cell \u001b[0;32mIn[103], line 4\u001b[0m\n\u001b[1;32m      1\u001b[0m \u001b[39mfrom\u001b[39;00m \u001b[39mrsatoolbox\u001b[39;00m\u001b[39m.\u001b[39;00m\u001b[39mutil\u001b[39;00m\u001b[39m.\u001b[39;00m\u001b[39msearchlight\u001b[39;00m \u001b[39mimport\u001b[39;00m get_volume_searchlight, get_searchlight_RDMs, evaluate_models_searchlight\n\u001b[1;32m      3\u001b[0m \u001b[39m# get searchlight center and neighbor\u001b[39;00m\n\u001b[0;32m----> 4\u001b[0m centers, neighbors \u001b[39m=\u001b[39m get_volume_searchlight(mask[:, :, :,\u001b[39m0\u001b[39;49m], radius\u001b[39m=\u001b[39;49m\u001b[39m12\u001b[39;49m, threshold\u001b[39m=\u001b[39;49m\u001b[39m0.5\u001b[39;49m)\n\u001b[1;32m      5\u001b[0m SL_RDM \u001b[39m=\u001b[39m get_searchlight_RDMs(fmri_data[\u001b[39m0\u001b[39m]\u001b[39m.\u001b[39mmeasurements, centers, neighbors, fmri_data[\u001b[39m0\u001b[39m]\u001b[39m.\u001b[39mmeasurements\u001b[39m.\u001b[39mshape[\u001b[39m0\u001b[39m], method\u001b[39m=\u001b[39m\u001b[39m'\u001b[39m\u001b[39mcorrelation\u001b[39m\u001b[39m'\u001b[39m)\n\u001b[1;32m      6\u001b[0m eval_results \u001b[39m=\u001b[39m evaluate_models_searchlight(SL_RDM, cue_model, eval_fixed, method\u001b[39m=\u001b[39m\u001b[39m'\u001b[39m\u001b[39mspearman\u001b[39m\u001b[39m'\u001b[39m, n_jobs\u001b[39m=\u001b[39m\u001b[39m3\u001b[39m)\n",
      "File \u001b[0;32m~/anaconda3/envs/spacetop_datalad/lib/python3.9/site-packages/rsatoolbox/util/searchlight.py:85\u001b[0m, in \u001b[0;36mget_volume_searchlight\u001b[0;34m(mask, radius, threshold)\u001b[0m\n\u001b[1;32m     82\u001b[0m good_neighbors \u001b[39m=\u001b[39m []\n\u001b[1;32m     84\u001b[0m \u001b[39mfor\u001b[39;00m center \u001b[39min\u001b[39;00m tqdm(centers, desc\u001b[39m=\u001b[39m\u001b[39m'\u001b[39m\u001b[39mFinding searchlights...\u001b[39m\u001b[39m'\u001b[39m):\n\u001b[0;32m---> 85\u001b[0m     neighbors \u001b[39m=\u001b[39m _get_searchlight_neighbors(mask, center, radius)\n\u001b[1;32m     86\u001b[0m     \u001b[39mif\u001b[39;00m mask[neighbors]\u001b[39m.\u001b[39mmean() \u001b[39m>\u001b[39m\u001b[39m=\u001b[39m threshold:\n\u001b[1;32m     87\u001b[0m         good_centers\u001b[39m.\u001b[39mappend(center)\n",
      "File \u001b[0;32m~/anaconda3/envs/spacetop_datalad/lib/python3.9/site-packages/rsatoolbox/util/searchlight.py:38\u001b[0m, in \u001b[0;36m_get_searchlight_neighbors\u001b[0;34m(mask, center, radius)\u001b[0m\n\u001b[1;32m     34\u001b[0m z \u001b[39m=\u001b[39m np\u001b[39m.\u001b[39marange(mask_shape[\u001b[39m2\u001b[39m])\n\u001b[1;32m     36\u001b[0m \u001b[39m# First mask the obvious points\u001b[39;00m\n\u001b[1;32m     37\u001b[0m \u001b[39m# - may actually slow down your calculation depending.\u001b[39;00m\n\u001b[0;32m---> 38\u001b[0m x \u001b[39m=\u001b[39m x[\u001b[39mabs\u001b[39;49m(x \u001b[39m-\u001b[39;49m cx) \u001b[39m<\u001b[39m radius]\n\u001b[1;32m     39\u001b[0m y \u001b[39m=\u001b[39m y[\u001b[39mabs\u001b[39m(y \u001b[39m-\u001b[39m cy) \u001b[39m<\u001b[39m radius]\n\u001b[1;32m     40\u001b[0m z \u001b[39m=\u001b[39m z[\u001b[39mabs\u001b[39m(z \u001b[39m-\u001b[39m cz) \u001b[39m<\u001b[39m radius]\n",
      "\u001b[0;31mKeyboardInterrupt\u001b[0m: "
     ]
    }
   ],
   "source": [
    "from rsatoolbox.util.searchlight import get_volume_searchlight, get_searchlight_RDMs, evaluate_models_searchlight\n",
    "\n",
    "# get searchlight center and neighbor\n",
    "centers, neighbors = get_volume_searchlight(mask[:, :, :,0], radius=12, threshold=0.5)\n",
    "SL_RDM = get_searchlight_RDMs(fmri_data[0].measurements, centers, neighbors, fmri_data[0].measurements.shape[0], method='correlation')\n",
    "eval_results = evaluate_models_searchlight(SL_RDM, cue_model, eval_fixed, method='spearman', n_jobs=3)\n"
   ]
  },
  {
   "cell_type": "code",
   "execution_count": 50,
   "metadata": {},
   "outputs": [
    {
     "name": "stderr",
     "output_type": "stream",
     "text": [
      "Finding searchlights...:   1%|          | 3305/458294 [00:05<12:06, 626.02it/s]\n"
     ]
    },
    {
     "ename": "KeyboardInterrupt",
     "evalue": "",
     "output_type": "error",
     "traceback": [
      "\u001b[0;31m---------------------------------------------------------------------------\u001b[0m",
      "\u001b[0;31mKeyboardInterrupt\u001b[0m                         Traceback (most recent call last)",
      "Cell \u001b[0;32mIn[50], line 4\u001b[0m\n\u001b[1;32m      1\u001b[0m \u001b[39mfrom\u001b[39;00m \u001b[39mrsatoolbox\u001b[39;00m\u001b[39m.\u001b[39;00m\u001b[39mutil\u001b[39;00m\u001b[39m.\u001b[39;00m\u001b[39msearchlight\u001b[39;00m \u001b[39mimport\u001b[39;00m get_volume_searchlight, get_searchlight_RDMs, evaluate_models_searchlight\n\u001b[1;32m      3\u001b[0m \u001b[39m# get searchlight center and neighbor\u001b[39;00m\n\u001b[0;32m----> 4\u001b[0m centers, neighbors \u001b[39m=\u001b[39m get_volume_searchlight(mask[:, :, :,\u001b[39m0\u001b[39;49m], radius\u001b[39m=\u001b[39;49m\u001b[39m12\u001b[39;49m, threshold\u001b[39m=\u001b[39;49m\u001b[39m0.5\u001b[39;49m)\n\u001b[1;32m      5\u001b[0m SL_RDM \u001b[39m=\u001b[39m get_searchlight_RDMs(fmri_data[\u001b[39m0\u001b[39m]\u001b[39m.\u001b[39mmeasurements, centers, neighbors, fmri_data[\u001b[39m0\u001b[39m]\u001b[39m.\u001b[39mmeasurements\u001b[39m.\u001b[39mshape[\u001b[39m0\u001b[39m], method\u001b[39m=\u001b[39m\u001b[39m'\u001b[39m\u001b[39mcorrelation\u001b[39m\u001b[39m'\u001b[39m)\n",
      "File \u001b[0;32m~/anaconda3/envs/spacetop_datalad/lib/python3.9/site-packages/rsatoolbox/util/searchlight.py:85\u001b[0m, in \u001b[0;36mget_volume_searchlight\u001b[0;34m(mask, radius, threshold)\u001b[0m\n\u001b[1;32m     82\u001b[0m good_neighbors \u001b[39m=\u001b[39m []\n\u001b[1;32m     84\u001b[0m \u001b[39mfor\u001b[39;00m center \u001b[39min\u001b[39;00m tqdm(centers, desc\u001b[39m=\u001b[39m\u001b[39m'\u001b[39m\u001b[39mFinding searchlights...\u001b[39m\u001b[39m'\u001b[39m):\n\u001b[0;32m---> 85\u001b[0m     neighbors \u001b[39m=\u001b[39m _get_searchlight_neighbors(mask, center, radius)\n\u001b[1;32m     86\u001b[0m     \u001b[39mif\u001b[39;00m mask[neighbors]\u001b[39m.\u001b[39mmean() \u001b[39m>\u001b[39m\u001b[39m=\u001b[39m threshold:\n\u001b[1;32m     87\u001b[0m         good_centers\u001b[39m.\u001b[39mappend(center)\n",
      "File \u001b[0;32m~/anaconda3/envs/spacetop_datalad/lib/python3.9/site-packages/rsatoolbox/util/searchlight.py:47\u001b[0m, in \u001b[0;36m_get_searchlight_neighbors\u001b[0;34m(mask, center, radius)\u001b[0m\n\u001b[1;32m     44\u001b[0m data \u001b[39m=\u001b[39m np\u001b[39m.\u001b[39mvstack((X\u001b[39m.\u001b[39mravel(), Y\u001b[39m.\u001b[39mravel(), Z\u001b[39m.\u001b[39mravel()))\u001b[39m.\u001b[39mT\n\u001b[1;32m     45\u001b[0m distance \u001b[39m=\u001b[39m cdist(data, center\u001b[39m.\u001b[39mreshape(\u001b[39m1\u001b[39m, \u001b[39m-\u001b[39m\u001b[39m1\u001b[39m), \u001b[39m'\u001b[39m\u001b[39meuclidean\u001b[39m\u001b[39m'\u001b[39m)\u001b[39m.\u001b[39mravel()\n\u001b[0;32m---> 47\u001b[0m \u001b[39mreturn\u001b[39;00m \u001b[39mtuple\u001b[39m(data[distance \u001b[39m<\u001b[39;49m radius]\u001b[39m.\u001b[39;49mT\u001b[39m.\u001b[39;49mtolist())\n",
      "\u001b[0;31mKeyboardInterrupt\u001b[0m: "
     ]
    }
   ],
   "source": [
    "from rsatoolbox.util.searchlight import get_volume_searchlight, get_searchlight_RDMs, evaluate_models_searchlight\n",
    "\n",
    "# get searchlight center and neighbor\n",
    "centers, neighbors = get_volume_searchlight(mask[:, :, :,0], radius=12, threshold=0.5)\n",
    "SL_RDM = get_searchlight_RDMs(fmri_data[0].measurements, centers, neighbors, fmri_data[0].measurements.shape[0], method='correlation')"
   ]
  },
  {
   "attachments": {},
   "cell_type": "markdown",
   "metadata": {},
   "source": [
    "# chat gpt"
   ]
  },
  {
   "cell_type": "code",
   "execution_count": 143,
   "metadata": {},
   "outputs": [
    {
     "data": {
      "text/plain": [
       "(<Figure size 200x200 with 1 Axes>,\n",
       " array([[<AxesSubplot:>]], dtype=object),\n",
       " defaultdict(dict,\n",
       "             {<AxesSubplot:>: {'image': <matplotlib.image.AxesImage at 0x7fe303484400>}}))"
      ]
     },
     "execution_count": 143,
     "metadata": {},
     "output_type": "execute_result"
    },
    {
     "data": {
      "image/png": "[encoded data removed]",
      "text/plain": [
       "<Figure size 200x200 with 1 Axes>"
      ]
     },
     "metadata": {},
     "output_type": "display_data"
    }
   ],
   "source": []
  },
  {
   "cell_type": "code",
   "execution_count": 138,
   "metadata": {},
   "outputs": [
    {
     "ename": "ImportError",
     "evalue": "cannot import name 'rescale' from 'rsatoolbox.rdm' (/Users/h/anaconda3/envs/spacetop_datalad/lib/python3.9/site-packages/rsatoolbox/rdm/__init__.py)",
     "output_type": "error",
     "traceback": [
      "\u001b[0;31m---------------------------------------------------------------------------\u001b[0m",
      "\u001b[0;31mImportError\u001b[0m                               Traceback (most recent call last)",
      "Cell \u001b[0;32mIn[138], line 1\u001b[0m\n\u001b[0;32m----> 1\u001b[0m \u001b[39mfrom\u001b[39;00m \u001b[39mrsatoolbox\u001b[39;00m\u001b[39m.\u001b[39;00m\u001b[39mrdm\u001b[39;00m \u001b[39mimport\u001b[39;00m rescale\n\u001b[1;32m      3\u001b[0m \u001b[39m# Define your levels\u001b[39;00m\n\u001b[1;32m      4\u001b[0m levels \u001b[39m=\u001b[39m [\u001b[39m'\u001b[39m\u001b[39mhigh cue\u001b[39m\u001b[39m'\u001b[39m, \u001b[39m'\u001b[39m\u001b[39mhigh cue\u001b[39m\u001b[39m'\u001b[39m, \u001b[39m'\u001b[39m\u001b[39mhigh cue\u001b[39m\u001b[39m'\u001b[39m, \u001b[39m'\u001b[39m\u001b[39mlow cue\u001b[39m\u001b[39m'\u001b[39m, \u001b[39m'\u001b[39m\u001b[39mlow cue\u001b[39m\u001b[39m'\u001b[39m, \u001b[39m'\u001b[39m\u001b[39mlow cue\u001b[39m\u001b[39m'\u001b[39m]\n",
      "\u001b[0;31mImportError\u001b[0m: cannot import name 'rescale' from 'rsatoolbox.rdm' (/Users/h/anaconda3/envs/spacetop_datalad/lib/python3.9/site-packages/rsatoolbox/rdm/__init__.py)"
     ]
    }
   ],
   "source": [
    "from rsatoolbox.rdm import rescale\n",
    "\n",
    "# Define your levels\n",
    "levels = ['high cue', 'high cue', 'high cue', 'low cue', 'low cue', 'low cue']\n",
    "\n",
    "# Convert levels to integers\n",
    "level_ints = [1 if level == 'high cue' else 0 for level in levels]\n",
    "\n",
    "# Create a square matrix of pairwise differences\n",
    "n_items = len(levels)\n",
    "rdm = np.zeros((n_items, n_items))\n",
    "for i in range(n_items):\n",
    "    for j in range(i, n_items):\n",
    "        rdm[i, j] = abs(level_ints[i] - level_ints[j])\n",
    "        rdm[j, i] = rdm[i, j]\n",
    "\n",
    "# Rescale the RDM to a categorical RDM\n",
    "cat_rdm = rescale(rdm, rdm_descriptor={'name': 'category', 'levels': ['high cue', 'low cue']})"
   ]
  },
  {
   "cell_type": "code",
   "execution_count": 190,
   "metadata": {},
   "outputs": [],
   "source": [
    "b, l = np.meshgrid(np.arange(-2, 3), np.arange(-2, 3))\n",
    "b = b.flatten()\n",
    "l = l.flatten()"
   ]
  },
  {
   "attachments": {},
   "cell_type": "markdown",
   "metadata": {},
   "source": [
    "# Grid Model"
   ]
  },
  {
   "cell_type": "code",
   "execution_count": 10,
   "metadata": {},
   "outputs": [
    {
     "data": {
      "text/plain": [
       "<matplotlib.image.AxesImage at 0x7fa3300edc70>"
      ]
     },
     "execution_count": 10,
     "metadata": {},
     "output_type": "execute_result"
    },
    {
     "data": {
      "image/png": "[encoded data removed]",
      "text/plain": [
       "<Figure size 640x480 with 1 Axes>"
      ]
     },
     "metadata": {},
     "output_type": "display_data"
    }
   ],
   "source": [
    "import numpy as np\n",
    "\n",
    "# Generate the meshgrid\n",
    "b, l = np.meshgrid(np.arange(-2, 3), np.arange(-2, 3))\n",
    "\n",
    "# Define the rotation matrices\n",
    "c1 = np.array([[np.cos(np.deg2rad(45)), np.sin(np.deg2rad(45))],\n",
    "              [-np.sin(np.deg2rad(45)), np.cos(np.deg2rad(45))]])\n",
    "c2 = np.array([[np.cos(np.deg2rad(45)), -np.sin(np.deg2rad(45))],\n",
    "              [np.sin(np.deg2rad(45)), np.cos(np.deg2rad(45))]])\n",
    "\n",
    "# Reshape l and b into 2D arrays\n",
    "c_2d = l.reshape(-1, 1)\n",
    "b_2d = b.reshape(-1, 1)\n",
    "\n",
    "\n",
    "# Create xy\n",
    "xy = np.concatenate([np.dot(np.dot(np.concatenate([c_2d, b_2d], axis=1), c1), c1.T), \n",
    "                      np.dot(np.dot(np.concatenate([c_2d, b_2d], axis=1), c2), c2.T)], axis=0)\n",
    "plt.imshow(xy)\n",
    "rdm = squareform(pdist(xy))\n",
    "plt.imshow(rdm)"
   ]
  },
  {
   "cell_type": "code",
   "execution_count": 9,
   "metadata": {},
   "outputs": [
    {
     "data": {
      "text/plain": [
       "<matplotlib.image.AxesImage at 0x7fa34b6856a0>"
      ]
     },
     "execution_count": 9,
     "metadata": {},
     "output_type": "execute_result"
    },
    {
     "data": {
      "image/png": "[encoded data removed]",
      "text/plain": [
       "<Figure size 640x480 with 1 Axes>"
      ]
     },
     "metadata": {},
     "output_type": "display_data"
    }
   ],
   "source": [
    "import numpy as np\n",
    "\n",
    "# Generate the meshgrid\n",
    "b, l = np.meshgrid(np.arange(-2, 3), np.arange(-2, 3))\n",
    "\n",
    "# Define the rotation matrices\n",
    "c1 = np.array([[np.cos(np.deg2rad(45)), np.sin(np.deg2rad(45))],\n",
    "              [-np.sin(np.deg2rad(45)), np.cos(np.deg2rad(45))]])\n",
    "c2 = np.array([[np.cos(np.deg2rad(45)), -np.sin(np.deg2rad(45))],\n",
    "              [np.sin(np.deg2rad(45)), np.cos(np.deg2rad(45))]])\n",
    "\n",
    "# Reshape l and b into 2D arrays\n",
    "l_2d = l.reshape(-1, 1)\n",
    "b_2d = b.reshape(-1, 1)\n",
    "\n",
    "\n",
    "# Create xy\n",
    "xy = np.concatenate([np.dot(np.dot(np.concatenate([l_2d, b_2d], axis=1), c1), c2.T), \n",
    "                      np.dot(np.dot(np.concatenate([l_2d, b_2d], axis=1), c2), c1.T)], axis=0)\n",
    "plt.imshow(xy)\n",
    "rdm = squareform(pdist(xy))\n",
    "plt.imshow(rdm)"
   ]
  },
  {
   "attachments": {},
   "cell_type": "markdown",
   "metadata": {},
   "source": [
    "# Apply to spacetop"
   ]
  },
  {
   "cell_type": "code",
   "execution_count": 12,
   "metadata": {},
   "outputs": [
    {
     "data": {
      "text/plain": [
       "(50, 2)"
      ]
     },
     "execution_count": 12,
     "metadata": {},
     "output_type": "execute_result"
    }
   ],
   "source": [
    "np.dot(xy, c1).shape\n"
   ]
  },
  {
   "cell_type": "code",
   "execution_count": 13,
   "metadata": {},
   "outputs": [
    {
     "ename": "ValueError",
     "evalue": "all the input array dimensions for the concatenation axis must match exactly, but along dimension 0, the array at index 0 has size 25 and the array at index 1 has size 6",
     "output_type": "error",
     "traceback": [
      "\u001b[0;31m---------------------------------------------------------------------------\u001b[0m",
      "\u001b[0;31mValueError\u001b[0m                                Traceback (most recent call last)",
      "Cell \u001b[0;32mIn[13], line 31\u001b[0m\n\u001b[1;32m     26\u001b[0m s_2d \u001b[39m=\u001b[39m s\u001b[39m.\u001b[39mreshape(\u001b[39m-\u001b[39m\u001b[39m1\u001b[39m, \u001b[39m1\u001b[39m)\n\u001b[1;32m     28\u001b[0m \u001b[39m# Create xy\u001b[39;00m\n\u001b[1;32m     29\u001b[0m \u001b[39m# xy = np.hstack((xy, np.vstack((np.ones_like(s_2d), 2*np.ones_like(b_2d))))) # add offset\u001b[39;00m\n\u001b[0;32m---> 31\u001b[0m xy \u001b[39m=\u001b[39m np\u001b[39m.\u001b[39mconcatenate([np\u001b[39m.\u001b[39mdot(np\u001b[39m.\u001b[39mdot(np\u001b[39m.\u001b[39;49mconcatenate([l_2d, s_2d], axis\u001b[39m=\u001b[39;49m\u001b[39m1\u001b[39;49m), c1), c1\u001b[39m.\u001b[39mT), \n\u001b[1;32m     32\u001b[0m                       np\u001b[39m.\u001b[39mdot(np\u001b[39m.\u001b[39mdot(np\u001b[39m.\u001b[39mconcatenate([l_2d, s_2d], axis\u001b[39m=\u001b[39m\u001b[39m1\u001b[39m), c2), c2\u001b[39m.\u001b[39mT)], axis\u001b[39m=\u001b[39m\u001b[39m0\u001b[39m)\n\u001b[1;32m     33\u001b[0m \u001b[39m# task_xy = np.vstack((xy, np.dot(xy, c5), xy))\u001b[39;00m\n\u001b[1;32m     34\u001b[0m task_xy \u001b[39m=\u001b[39m np\u001b[39m.\u001b[39mvstack((xy,xy,xy))\n",
      "File \u001b[0;32m<__array_function__ internals>:180\u001b[0m, in \u001b[0;36mconcatenate\u001b[0;34m(*args, **kwargs)\u001b[0m\n",
      "\u001b[0;31mValueError\u001b[0m: all the input array dimensions for the concatenation axis must match exactly, but along dimension 0, the array at index 0 has size 25 and the array at index 1 has size 6"
     ]
    }
   ],
   "source": [
    "import numpy as np\n",
    "\n",
    "# Generate the meshgrid\n",
    "s, c = np.meshgrid(np.arange(-1, 2), np.arange(-1,1 ))\n",
    "\n",
    "# Define the rotation matrices\n",
    "c1 = np.array([[np.cos(np.deg2rad(45)), np.sin(np.deg2rad(45))],\n",
    "              [-np.sin(np.deg2rad(45)), np.cos(np.deg2rad(45))]])\n",
    "\n",
    "c2 = np.array([[np.cos(np.deg2rad(45)), -np.sin(np.deg2rad(45))],\n",
    "              [np.sin(np.deg2rad(45)), np.cos(np.deg2rad(45))]])\n",
    "\n",
    "c3 = np.array([[np.cos(np.deg2rad(270)), -np.sin(np.deg2rad(270))],\n",
    "              [np.sin(np.deg2rad(270)), np.cos(np.deg2rad(270))]])\n",
    "\n",
    "c4 = np.array([[np.cos(np.deg2rad(90)), -np.sin(np.deg2rad(90))],\n",
    "              [np.sin(np.deg2rad(90)), np.cos(np.deg2rad(90))]])\n",
    "\n",
    "c5 = np.array([[np.cos(np.deg2rad(135)), -np.sin(np.deg2rad(135))],\n",
    "              [np.sin(np.deg2rad(135)), np.cos(np.deg2rad(135))]])\n",
    "\n",
    "c6 = np.array([[np.cos(np.deg2rad(270)), -np.sin(np.deg2rad(270))],\n",
    "              [np.sin(np.deg2rad(270)), np.cos(np.deg2rad(270))]])\n",
    "# Reshape l and b into 2D arrays\n",
    "l_2d = l.reshape(-1, 1)\n",
    "s_2d = s.reshape(-1, 1)\n",
    "\n",
    "# Create xy\n",
    "# xy = np.hstack((xy, np.vstack((np.ones_like(s_2d), 2*np.ones_like(b_2d))))) # add offset\n",
    "\n",
    "xy = np.concatenate([np.dot(np.dot(np.concatenate([l_2d, s_2d], axis=1), c1), c1.T), \n",
    "                      np.dot(np.dot(np.concatenate([l_2d, s_2d], axis=1), c2), c2.T)], axis=0)\n",
    "# task_xy = np.vstack((xy, np.dot(xy, c5), xy))\n",
    "task_xy = np.vstack((xy,xy,xy))\n",
    "# task_xy = np.hstack((task_xy, np.vstack((np.ones_like(b), 2*np.ones_like(b))))) # add offset\n",
    "\n",
    "plt.imshow(task_xy)\n",
    "\n",
    "# from scipy.spatial.distance import pdist, squareform\n",
    "\n",
    "# rdm = squareform(pdist(task_xy))\n",
    "# plt.imshow(rdm)\n"
   ]
  },
  {
   "cell_type": "code",
   "execution_count": 14,
   "metadata": {},
   "outputs": [
    {
     "ename": "NameError",
     "evalue": "name 't' is not defined",
     "output_type": "error",
     "traceback": [
      "\u001b[0;31m---------------------------------------------------------------------------\u001b[0m",
      "\u001b[0;31mNameError\u001b[0m                                 Traceback (most recent call last)",
      "Cell \u001b[0;32mIn[14], line 3\u001b[0m\n\u001b[1;32m      1\u001b[0m s_2d \u001b[39m=\u001b[39m s\u001b[39m.\u001b[39mreshape(\u001b[39m-\u001b[39m\u001b[39m1\u001b[39m, \u001b[39m1\u001b[39m)\n\u001b[1;32m      2\u001b[0m c_2d \u001b[39m=\u001b[39m c\u001b[39m.\u001b[39mreshape(\u001b[39m-\u001b[39m\u001b[39m1\u001b[39m, \u001b[39m1\u001b[39m)\n\u001b[0;32m----> 3\u001b[0m t_2d \u001b[39m=\u001b[39m t\u001b[39m.\u001b[39mreshape(\u001b[39m-\u001b[39m\u001b[39m1\u001b[39m, \u001b[39m1\u001b[39m)\n\u001b[1;32m      4\u001b[0m plt\u001b[39m.\u001b[39mimshow(t_2d)\n",
      "\u001b[0;31mNameError\u001b[0m: name 't' is not defined"
     ]
    }
   ],
   "source": [
    "s_2d = s.reshape(-1, 1)\n",
    "c_2d = c.reshape(-1, 1)\n",
    "t_2d = t.reshape(-1, 1)\n",
    "plt.imshow(t_2d)"
   ]
  },
  {
   "cell_type": "code",
   "execution_count": 20,
   "metadata": {},
   "outputs": [
    {
     "data": {
      "text/plain": [
       "<matplotlib.image.AxesImage at 0x7fa32fb33460>"
      ]
     },
     "execution_count": 20,
     "metadata": {},
     "output_type": "execute_result"
    },
    {
     "data": {
      "image/png": "[encoded data removed]",
      "text/plain": [
       "<Figure size 640x480 with 1 Axes>"
      ]
     },
     "metadata": {},
     "output_type": "display_data"
    }
   ],
   "source": [
    "import numpy as np\n",
    "\n",
    "# Generate the meshgrid\n",
    "c, t, s = np.meshgrid(np.arange(0,2), np.arange(-1,2), np.arange(-1, 2))\n",
    "\n",
    "# Define the rotation matrices\n",
    "c1 = np.array([[np.cos(np.deg2rad(45)), np.sin(np.deg2rad(45))],\n",
    "              [-np.sin(np.deg2rad(45)), np.cos(np.deg2rad(45))]])\n",
    "\n",
    "c2 = np.array([[np.cos(np.deg2rad(45)), -np.sin(np.deg2rad(45))],\n",
    "              [np.sin(np.deg2rad(45)), np.cos(np.deg2rad(45))]])\n",
    "\n",
    "c3 = np.array([[np.cos(np.deg2rad(270)), -np.sin(np.deg2rad(270))],\n",
    "              [np.sin(np.deg2rad(270)), np.cos(np.deg2rad(270))]])\n",
    "\n",
    "c4 = np.array([[np.cos(np.deg2rad(90)), -np.sin(np.deg2rad(90))],\n",
    "              [np.sin(np.deg2rad(90)), np.cos(np.deg2rad(90))]])\n",
    "\n",
    "c5 = np.array([[np.cos(np.deg2rad(135)), -np.sin(np.deg2rad(135))],\n",
    "              [np.sin(np.deg2rad(135)), np.cos(np.deg2rad(135))]])\n",
    "\n",
    "c6 = np.array([[np.cos(np.deg2rad(270)), -np.sin(np.deg2rad(270))],\n",
    "              [np.sin(np.deg2rad(270)), np.cos(np.deg2rad(270))]])\n",
    "# Reshape l and b into 2D arrays\n",
    "\n",
    "s_2d = s.reshape(-1, 1)\n",
    "c_2d = c.reshape(-1, 1)\n",
    "t_2d = t.reshape(-1, 1)\n",
    "\n",
    "# Create xy\n",
    "# xy = np.hstack((xy, np.vstack((np.ones_like(s_2d), 2*np.ones_like(b_2d))))) # add offset\n",
    "\n",
    "xy = np.concatenate([np.dot(np.dot(np.concatenate([l_2d, b_2d], axis=1), c1), c1.T), \n",
    "                      np.dot(np.dot(np.concatenate([l_2d, b_2d], axis=1), c2), c2.T)], axis=0)\n",
    "# task_xy = np.vstack((xy, np.dot(xy, c5), xy))\n",
    "task_xy = np.vstack((xy,xy,xy))\n",
    "# task_xy = np.hstack((task_xy, np.vstack((np.ones_like(b), 2*np.ones_like(b))))) # add offset\n",
    "\n",
    "# plt.imshow(task_xy)\n",
    "\n",
    "# from scipy.spatial.distance import pdist, squareform\n",
    "\n",
    "# rdm = squareform(pdist(task_xy))\n",
    "# plt.imshow(rdm)\n",
    "xyz_cue = np.hstack((s_2d, c_2d)) # ,t_2d))\n",
    "plt.imshow(xyz_cue)\n",
    "rdm = squareform(pdist(xyz_cue))\n",
    "plt.imshow(rdm)"
   ]
  },
  {
   "attachments": {},
   "cell_type": "markdown",
   "metadata": {},
   "source": [
    "# Interaction "
   ]
  },
  {
   "cell_type": "code",
   "execution_count": 96,
   "metadata": {},
   "outputs": [
    {
     "data": {
      "text/plain": [
       "<matplotlib.image.AxesImage at 0x7fa33597ffd0>"
      ]
     },
     "execution_count": 96,
     "metadata": {},
     "output_type": "execute_result"
    },
    {
     "data": {
      "image/png": "[encoded data removed]",
      "text/plain": [
       "<Figure size 640x480 with 1 Axes>"
      ]
     },
     "metadata": {},
     "output_type": "display_data"
    }
   ],
   "source": [
    "import numpy as np\n",
    "\n",
    "# Generate the meshgrid\n",
    "s, c = np.meshgrid(np.arange(-1, 2), np.arange(0,2), )\n",
    "\n",
    "# Define the rotation matrices\n",
    "c1 = np.array([[np.cos(np.deg2rad(45)), np.sin(np.deg2rad(45))],\n",
    "              [-np.sin(np.deg2rad(45)), np.cos(np.deg2rad(45))]])\n",
    "\n",
    "c2 = np.array([[np.cos(np.deg2rad(45)), -np.sin(np.deg2rad(45))],\n",
    "              [np.sin(np.deg2rad(45)), np.cos(np.deg2rad(45))]])\n",
    "\n",
    "c3 = np.array([[np.cos(np.deg2rad(270)), -np.sin(np.deg2rad(270))],\n",
    "              [np.sin(np.deg2rad(270)), np.cos(np.deg2rad(270))]])\n",
    "\n",
    "c4 = np.array([[np.cos(np.deg2rad(90)), -np.sin(np.deg2rad(90))],\n",
    "              [np.sin(np.deg2rad(90)), np.cos(np.deg2rad(90))]])\n",
    "\n",
    "c5 = np.array([[np.cos(np.deg2rad(135)), -np.sin(np.deg2rad(135))],\n",
    "              [np.sin(np.deg2rad(135)), np.cos(np.deg2rad(135))]])\n",
    "\n",
    "c6 = np.array([[np.cos(np.deg2rad(270)), -np.sin(np.deg2rad(270))],\n",
    "              [np.sin(np.deg2rad(270)), np.cos(np.deg2rad(270))]])\n",
    "# Reshape l and b into 2D arrays\n",
    "\n",
    "s_2d = s.reshape(-1, 1)\n",
    "c_2d = c.reshape(-1, 1)\n",
    "\n",
    "# Create xy\n",
    "# xy = np.hstack((xy, np.vstack((np.ones_like(s_2d), 2*np.ones_like(b_2d))))) # add offset\n",
    "\n",
    "xy = np.concatenate([np.dot(np.dot(np.concatenate([l_2d, b_2d], axis=1), c1), c1.T), \n",
    "                      np.dot(np.dot(np.concatenate([l_2d, b_2d], axis=1), c2), c2.T)], axis=0)\n",
    "# task_xy = np.vstack((xy, np.dot(xy, c5), xy))\n",
    "task_xy = np.vstack((xy,xy,xy))\n",
    "# task_xy = np.hstack((task_xy, np.vstack((np.ones_like(b), 2*np.ones_like(b))))) # add offset\n",
    "\n",
    "# plt.imshow(task_xy)\n",
    "\n",
    "# from scipy.spatial.distance import pdist, squareform\n",
    "\n",
    "# rdm = squareform(pdist(task_xy))\n",
    "# plt.imshow(rdm)\n",
    "xyz_cue = np.hstack(( c_2d,s_2d,)) # ,t_2d))\n",
    "plt.imshow(np.vstack((xyz_cue,xyz_cue, xyz_cue)))\n",
    "rdm = squareform(pdist(np.vstack((xyz_cue,xyz_cue, xyz_cue))))\n",
    "plt.imshow(rdm)"
   ]
  },
  {
   "attachments": {},
   "cell_type": "markdown",
   "metadata": {},
   "source": [
    "# task interaction"
   ]
  },
  {
   "cell_type": "code",
   "execution_count": 97,
   "metadata": {},
   "outputs": [
    {
     "data": {
      "text/plain": [
       "<matplotlib.image.AxesImage at 0x7fa3364fd5b0>"
      ]
     },
     "execution_count": 97,
     "metadata": {},
     "output_type": "execute_result"
    },
    {
     "data": {
      "image/png": "[encoded data removed]",
      "text/plain": [
       "<Figure size 640x480 with 1 Axes>"
      ]
     },
     "metadata": {},
     "output_type": "display_data"
    }
   ],
   "source": [
    "stim = np.array([1, 0, -1])\n",
    "cue = np.array([ 1, 1, 1, -1, -1, -1])\n",
    "task = np.array([1, 0, -1])\n",
    "t = np.repeat(task, 6)\n",
    "s = np.tile(stim, 6)\n",
    "c = np.tile(cue, 3)\n",
    "\n",
    "cst = np.vstack((c,s,t)).T\n",
    "plt.imshow(cst)\n",
    "# rdm = squareform(pdist(cst))\n",
    "# plt.imshow(rdm)"
   ]
  },
  {
   "cell_type": "code",
   "execution_count": 103,
   "metadata": {},
   "outputs": [
    {
     "data": {
      "text/plain": [
       "<matplotlib.image.AxesImage at 0x7fa3372baa60>"
      ]
     },
     "execution_count": 103,
     "metadata": {},
     "output_type": "execute_result"
    },
    {
     "data": {
      "image/png": "[encoded data removed]",
      "text/plain": [
       "<Figure size 640x480 with 1 Axes>"
      ]
     },
     "metadata": {},
     "output_type": "display_data"
    }
   ],
   "source": [
    "plt.imshow(cst[6:12,])"
   ]
  },
  {
   "cell_type": "code",
   "execution_count": 121,
   "metadata": {},
   "outputs": [
    {
     "data": {
      "text/plain": [
       "<matplotlib.image.AxesImage at 0x7fa338ef2b80>"
      ]
     },
     "execution_count": 121,
     "metadata": {},
     "output_type": "execute_result"
    },
    {
     "data": {
      "image/png": "[encoded data removed]",
      "text/plain": [
       "<Figure size 640x480 with 1 Axes>"
      ]
     },
     "metadata": {},
     "output_type": "display_data"
    }
   ],
   "source": [
    "\n",
    "stim = np.array([1, 0, -1])\n",
    "cue = np.array([ 1, 1, 1, -1, -1, -1])\n",
    "task = np.array([1, 0, -1])\n",
    "t = np.repeat(task, 6)\n",
    "s = np.tile(stim, 6)\n",
    "c = np.tile(cue, 3)\n",
    "\n",
    "cst = np.vstack((c,s,t)).T\n",
    "plt.imshow(cst)\n",
    "# rdm = squareform(pdist(cst))\n",
    "# plt.imshow(rdm)\n",
    "\n",
    "c1 = np.array([[1,0,0],\n",
    "              [0,0,0],\n",
    "              [0,0,1]])\n",
    "c2 = np.array([[1,0,0],\n",
    "              [0,1,0],\n",
    "              [0,0,0]])\n",
    "c3 = np.array([[0,0,0],\n",
    "              [0,1,0],\n",
    "              [0,0,1]])\n",
    "xy = np.concatenate([\n",
    "    np.dot(np.dot(cst[:6,], c1), c1.T),\n",
    "    np.dot(np.dot(cst[6:12,], c2), c2.T),\n",
    "    np.dot(np.dot(cst[12:,], c3), c3.T)], axis=0)\n",
    "plt.imshow(xy)\n",
    "rdm = squareform(pdist(xy))\n",
    "plt.imshow(rdm)\n"
   ]
  },
  {
   "cell_type": "markdown",
   "metadata": {},
   "source": [
    "# orthogonal?"
   ]
  },
  {
   "cell_type": "code",
   "execution_count": 143,
   "metadata": {},
   "outputs": [
    {
     "data": {
      "text/plain": [
       "<matplotlib.image.AxesImage at 0x7fa33ad8fbb0>"
      ]
     },
     "execution_count": 143,
     "metadata": {},
     "output_type": "execute_result"
    },
    {
     "data": {
      "image/png": "[encoded data removed]",
      "text/plain": [
       "<Figure size 640x480 with 1 Axes>"
      ]
     },
     "metadata": {},
     "output_type": "display_data"
    }
   ],
   "source": [
    "\n",
    "stim = np.array([1, 0, -1])\n",
    "cue = np.array([ 1, 1, 1, -1, -1, -1])\n",
    "task = np.array([1, 0, -1])\n",
    "t = np.repeat(task, 6)\n",
    "s = np.tile(stim, 6)\n",
    "c = np.tile(cue, 3)\n",
    "\n",
    "tcs = np.vstack((t,c,s)).T\n",
    "plt.imshow(cst)\n",
    "# rdm = squareform(pdist(cst))\n",
    "# plt.imshow(rdm)\n",
    "\n",
    "c1 = np.array([[1,0,0],\n",
    "              [0,0,0],\n",
    "              [0,0,1]])\n",
    "c2 = np.array([[1,0,0],\n",
    "              [0,1,0],\n",
    "              [0,0,0]])\n",
    "c3 = np.array([[0,0,0],\n",
    "              [0,1,0],\n",
    "              [0,0,1]])\n",
    "xy = np.concatenate([\n",
    "    np.dot(np.dot(tcs[:6,], c1), c1.T),\n",
    "    np.dot(np.dot(tcs[6:12,], c2), c2.T),\n",
    "    np.dot(np.dot(tcs[12:,], c3), c3.T)], axis=0)\n",
    "\n",
    "xy = np.concatenate([\n",
    "    np.dot(np.dot(tcs[:6,], c3), c3.T),\n",
    "    np.dot(np.dot(tcs[6:12,], c2), c2.T),\n",
    "    np.dot(np.dot(tcs[12:,], c1), c1.T)], axis=0)\n",
    "plt.imshow(xy)\n",
    "rdm = squareform(pdist(xy))\n",
    "plt.imshow(rdm)\n"
   ]
  },
  {
   "attachments": {},
   "cell_type": "markdown",
   "metadata": {},
   "source": [
    "# task * cue only"
   ]
  },
  {
   "cell_type": "code",
   "execution_count": 138,
   "metadata": {},
   "outputs": [
    {
     "data": {
      "text/plain": [
       "<matplotlib.image.AxesImage at 0x7fa3373b5c10>"
      ]
     },
     "execution_count": 138,
     "metadata": {},
     "output_type": "execute_result"
    },
    {
     "data": {
      "image/png": "[encoded data removed]",
      "text/plain": [
       "<Figure size 640x480 with 1 Axes>"
      ]
     },
     "metadata": {},
     "output_type": "display_data"
    }
   ],
   "source": [
    "\n",
    "stim = np.array([1,2,3])\n",
    "cue = np.array([ 1, 1, 1, -1, -1, -1])\n",
    "task = np.array([1, 0, -1])\n",
    "t = np.repeat(task, 6)\n",
    "s = np.tile(stim, 6)\n",
    "c = np.tile(cue, 3)\n",
    "\n",
    "tcs = np.vstack((t,c,s)).T\n",
    "plt.imshow(tcs)\n",
    "# rdm = squareform(pdist(cst))\n",
    "# plt.imshow(rdm)\n",
    "\n",
    "c1 = np.array([[1,0,0],\n",
    "              [0,0,0],\n",
    "              [0,0,1]])\n",
    "c2 = np.array([[1,0,0],\n",
    "              [0,1,0],\n",
    "              [0,0,0]])\n",
    "c3 = np.array([[0,0,0],\n",
    "              [0,1,0],\n",
    "              [0,0,1]])\n",
    "xy = np.concatenate([\n",
    "    np.dot(np.dot(tcs[:6,], c1), c1.T),\n",
    "    np.dot(np.dot(tcs[6:12,], c1), c1.T),\n",
    "    np.dot(np.dot(tcs[12:,], c1), c1.T)], axis=0)\n",
    "plt.imshow(xy)\n",
    "rdm = squareform(pdist(xy))\n",
    "plt.imshow(rdm)\n"
   ]
  },
  {
   "cell_type": "code",
   "execution_count": 131,
   "metadata": {},
   "outputs": [
    {
     "data": {
      "text/plain": [
       "<matplotlib.image.AxesImage at 0x7fa339ef93a0>"
      ]
     },
     "execution_count": 131,
     "metadata": {},
     "output_type": "execute_result"
    },
    {
     "data": {
      "image/png": "[encoded data removed]",
      "text/plain": [
       "<Figure size 640x480 with 1 Axes>"
      ]
     },
     "metadata": {},
     "output_type": "display_data"
    }
   ],
   "source": [
    "plt.imshow(tcs)"
   ]
  },
  {
   "attachments": {},
   "cell_type": "markdown",
   "metadata": {},
   "source": [
    "# task * stim only"
   ]
  },
  {
   "cell_type": "code",
   "execution_count": 180,
   "metadata": {},
   "outputs": [
    {
     "data": {
      "text/plain": [
       "<matplotlib.image.AxesImage at 0x7fa33ce2c670>"
      ]
     },
     "execution_count": 180,
     "metadata": {},
     "output_type": "execute_result"
    },
    {
     "data": {
      "image/png": "[encoded data removed]",
      "text/plain": [
       "<Figure size 640x480 with 1 Axes>"
      ]
     },
     "metadata": {},
     "output_type": "display_data"
    }
   ],
   "source": [
    "\n",
    "stim = np.array([1, 0, -1])\n",
    "cue = np.array([ 1, 1, 1, -1, -1, -1])\n",
    "task = np.array([1, 0, -1])\n",
    "t = np.repeat(task, 6)\n",
    "s = np.tile(stim, 6)\n",
    "c = np.tile(cue, 3)\n",
    "\n",
    "tcs = np.vstack((t,c,s)).T\n",
    "plt.imshow(tcs)\n",
    "\n",
    "c1 = np.array([[1,0,0],\n",
    "              [0,0,0],\n",
    "              [0,0,1]])\n",
    "c2 = np.array([[1,0,0],\n",
    "              [0,1,0],\n",
    "              [0,0,0]])\n",
    "c3 = np.array([[0,0,0],\n",
    "              [0,1,0],\n",
    "              [0,0,1]])\n",
    "c4 = np.array([[0,0,0],\n",
    "              [0,1,0],\n",
    "              [0,0,0]])\n",
    "\n",
    "xy = np.concatenate([\n",
    "    np.dot(tcs[:6,],   c2),\n",
    "    np.dot(tcs[6:12,], c2),\n",
    "    np.dot(tcs[12:,],  c2)], axis=0)\n",
    "plt.imshow(xy)\n",
    "rdm = squareform(pdist(xy))\n",
    "plt.imshow(rdm)\n"
   ]
  },
  {
   "attachments": {},
   "cell_type": "markdown",
   "metadata": {},
   "source": [
    "# cue onlyt (no task effect)"
   ]
  },
  {
   "cell_type": "code",
   "execution_count": 135,
   "metadata": {},
   "outputs": [
    {
     "data": {
      "text/plain": [
       "<matplotlib.image.AxesImage at 0x7fa3373d01c0>"
      ]
     },
     "execution_count": 135,
     "metadata": {},
     "output_type": "execute_result"
    },
    {
     "data": {
      "image/png": "[encoded data removed]",
      "text/plain": [
       "<Figure size 640x480 with 1 Axes>"
      ]
     },
     "metadata": {},
     "output_type": "display_data"
    }
   ],
   "source": [
    "\n",
    "stim = np.array([1, 0, -1])\n",
    "cue = np.array([ 1, 1, 1, -1, -1, -1])\n",
    "task = np.array([1, 0, -1])\n",
    "t = np.repeat(task, 6)\n",
    "s = np.tile(stim, 6)\n",
    "c = np.tile(cue, 3)\n",
    "\n",
    "tcs = np.vstack((t,c,s)).T\n",
    "plt.imshow(tcs)\n",
    "# rdm = squareform(pdist(cst))\n",
    "# plt.imshow(rdm)\n",
    "\n",
    "c1 = np.array([[1,0,0],\n",
    "              [0,0,0],\n",
    "              [0,0,1]])\n",
    "c2 = np.array([[1,0,0],\n",
    "              [0,1,0],\n",
    "              [0,0,0]])\n",
    "c3 = np.array([[0,0,0],\n",
    "              [0,1,0],\n",
    "              [0,0,1]])\n",
    "c4 = np.array([[0,0,0],\n",
    "              [0,1,0],\n",
    "              [0,0,0]])\n",
    "xy = np.concatenate([\n",
    "    np.dot(np.dot(tcs[:6,], c4), c4.T),\n",
    "    np.dot(np.dot(tcs[6:12,], c4), c4.T),\n",
    "    np.dot(np.dot(tcs[12:,], c4), c4.T)], axis=0)\n",
    "plt.imshow(xy)\n",
    "rdm = squareform(pdist(xy))\n",
    "plt.imshow(rdm)\n"
   ]
  },
  {
   "attachments": {},
   "cell_type": "markdown",
   "metadata": {},
   "source": [
    "# stim only (no task interaction)"
   ]
  },
  {
   "cell_type": "code",
   "execution_count": 136,
   "metadata": {},
   "outputs": [
    {
     "data": {
      "text/plain": [
       "<matplotlib.image.AxesImage at 0x7fa3374ec370>"
      ]
     },
     "execution_count": 136,
     "metadata": {},
     "output_type": "execute_result"
    },
    {
     "data": {
      "image/png": "[encoded data removed]",
      "text/plain": [
       "<Figure size 640x480 with 1 Axes>"
      ]
     },
     "metadata": {},
     "output_type": "display_data"
    }
   ],
   "source": [
    "\n",
    "stim = np.array([1, 0, -1])\n",
    "cue = np.array([ 1, 1, 1, -1, -1, -1])\n",
    "task = np.array([1, 0, -1])\n",
    "t = np.repeat(task, 6)\n",
    "s = np.tile(stim, 6)\n",
    "c = np.tile(cue, 3)\n",
    "\n",
    "tcs = np.vstack((t,c,s)).T\n",
    "plt.imshow(tcs)\n",
    "# rdm = squareform(pdist(cst))\n",
    "# plt.imshow(rdm)\n",
    "\n",
    "c1 = np.array([[1,0,0],\n",
    "              [0,0,0],\n",
    "              [0,0,1]])\n",
    "c2 = np.array([[1,0,0],\n",
    "              [0,1,0],\n",
    "              [0,0,0]])\n",
    "c3 = np.array([[0,0,0],\n",
    "              [0,1,0],\n",
    "              [0,0,1]])\n",
    "c4 = np.array([[0,0,0],\n",
    "              [0,1,0],\n",
    "              [0,0,0]])\n",
    "c5 = np.array([[0,0,0],\n",
    "              [0,0,0],\n",
    "              [0,0,1]])\n",
    "xy = np.concatenate([\n",
    "    np.dot(np.dot(tcs[:6,], c5), c5.T),\n",
    "    np.dot(np.dot(tcs[6:12,], c5), c5.T),\n",
    "    np.dot(np.dot(tcs[12:,], c5), c5.T)], axis=0)\n",
    "plt.imshow(xy)\n",
    "rdm = squareform(pdist(xy))\n",
    "plt.imshow(rdm)\n"
   ]
  },
  {
   "attachments": {},
   "cell_type": "markdown",
   "metadata": {},
   "source": [
    "# grid"
   ]
  },
  {
   "cell_type": "code",
   "execution_count": 163,
   "metadata": {},
   "outputs": [
    {
     "data": {
      "text/plain": [
       "<matplotlib.image.AxesImage at 0x7fa33c536880>"
      ]
     },
     "execution_count": 163,
     "metadata": {},
     "output_type": "execute_result"
    },
    {
     "data": {
      "image/png": "[encoded data removed]",
      "text/plain": [
       "<Figure size 640x480 with 1 Axes>"
      ]
     },
     "metadata": {},
     "output_type": "display_data"
    }
   ],
   "source": [
    "\n",
    "stim = np.array([1,0,-1])\n",
    "cue = np.array([ 1, 1, 1, -1, -1, -1])\n",
    "task = np.array([1, 0, -1])\n",
    "t = np.repeat(task, 6)\n",
    "s = np.tile(stim, 6)\n",
    "c = np.tile(cue, 3)\n",
    "\n",
    "tcs = np.vstack((t,c,s)).T\n",
    "plt.imshow(tcs)\n",
    "rdm = squareform(pdist(tcs))\n",
    "plt.imshow(rdm)\n"
   ]
  },
  {
   "attachments": {},
   "cell_type": "markdown",
   "metadata": {},
   "source": [
    "# rotation grid"
   ]
  },
  {
   "cell_type": "code",
   "execution_count": 184,
   "metadata": {},
   "outputs": [
    {
     "data": {
      "text/plain": [
       "<matplotlib.image.AxesImage at 0x7fa33d7ef340>"
      ]
     },
     "execution_count": 184,
     "metadata": {},
     "output_type": "execute_result"
    },
    {
     "data": {
      "image/png": "[encoded data removed]",
      "text/plain": [
       "<Figure size 640x480 with 1 Axes>"
      ]
     },
     "metadata": {},
     "output_type": "display_data"
    }
   ],
   "source": [
    "stim = np.array([1,0,-1])\n",
    "cue = np.array([ 1, 1, 1, -1, -1, -1])\n",
    "task = np.array([1, 0, -1])\n",
    "t = np.repeat(task, 6)\n",
    "s = np.tile(stim, 6)\n",
    "c = np.tile(cue, 3)\n",
    "\n",
    "tcs = np.vstack((t,c,s)).T\n",
    "plt.imshow(tcs)\n",
    "\n",
    "c1 = np.array([[1,0,0],\n",
    "              [0,0,0],\n",
    "              [0,0,1]])\n",
    "c2 = np.array([[1,0,0],\n",
    "              [0,1,0],\n",
    "              [0,0,0]])\n",
    "c3 = np.array([[0,0,0],\n",
    "              [0,1,0],\n",
    "              [0,0,1]])\n",
    "c4 = np.array([[0,0,0],\n",
    "              [0,1,0],\n",
    "              [0,0,0]])\n",
    "c5 = np.array([[0,0,0],\n",
    "              [0,0,0],\n",
    "              [0,0,1]])\n",
    "rot = np.array([[1,0,0],\n",
    "                [0, np.cos(np.deg2rad(90)), np.sin(np.deg2rad(90))],\n",
    "                [0, -np.sin(np.deg2rad(90)), np.cos(np.deg2rad(90))]])\n",
    "\n",
    "xy = np.concatenate([\n",
    "    np.dot(tcs[:6,], rot),\n",
    "    tcs[6:12,],\n",
    "    tcs[12:,]],\n",
    "    axis=0)\n",
    "plt.imshow(xy)\n",
    "rdm = squareform(pdist(xy))\n",
    "plt.imshow(rdm)\n"
   ]
  },
  {
   "attachments": {},
   "cell_type": "markdown",
   "metadata": {},
   "source": [
    "# diagnoal"
   ]
  },
  {
   "cell_type": "code",
   "execution_count": 177,
   "metadata": {},
   "outputs": [
    {
     "data": {
      "text/plain": [
       "<matplotlib.image.AxesImage at 0x7fa33cf71730>"
      ]
     },
     "execution_count": 177,
     "metadata": {},
     "output_type": "execute_result"
    },
    {
     "data": {
      "image/png": "[encoded data removed]",
      "text/plain": [
       "<Figure size 640x480 with 1 Axes>"
      ]
     },
     "metadata": {},
     "output_type": "display_data"
    }
   ],
   "source": [
    "\n",
    "stim = np.array([1,0,-1])\n",
    "cue = np.array([ 1, 1, 1, -1, -1, -1])\n",
    "task = np.array([1, 0, -1])\n",
    "t = np.repeat(task, 6)\n",
    "s = np.tile(stim, 6)\n",
    "c = np.tile(cue, 3)\n",
    "\n",
    "tcs = np.vstack((t,c,s)).T\n",
    "plt.imshow(tcs)\n",
    "P = np.array([[1,0],[0, np.cos(np.deg2rad(45))],[0, np.sin(np.deg2rad(45))]])\n",
    "xy = np.dot(tcs, P)\n",
    "\n",
    "# xy = np.dot(np.dot(tcs, rot), rot.T)\n",
    "plt.imshow(xy)\n",
    "rdm = squareform(pdist(xy))\n",
    "plt.imshow(rdm)\n"
   ]
  },
  {
   "cell_type": "code",
   "execution_count": 175,
   "metadata": {},
   "outputs": [
    {
     "data": {
      "text/plain": [
       "(6, 3)"
      ]
     },
     "execution_count": 175,
     "metadata": {},
     "output_type": "execute_result"
    }
   ],
   "source": [
    "tcs[6:12,].shape"
   ]
  },
  {
   "cell_type": "code",
   "execution_count": 174,
   "metadata": {},
   "outputs": [
    {
     "data": {
      "text/plain": [
       "(6, 2)"
      ]
     },
     "execution_count": 174,
     "metadata": {},
     "output_type": "execute_result"
    }
   ],
   "source": [
    "np.dot(tcs[:6,], P).shape"
   ]
  },
  {
   "attachments": {},
   "cell_type": "markdown",
   "metadata": {},
   "source": [
    "# par"
   ]
  },
  {
   "cell_type": "code",
   "execution_count": 188,
   "metadata": {},
   "outputs": [
    {
     "data": {
      "text/plain": [
       "<matplotlib.image.AxesImage at 0x7fa33cf6e880>"
      ]
     },
     "execution_count": 188,
     "metadata": {},
     "output_type": "execute_result"
    },
    {
     "data": {
      "image/png": "[encoded data removed]",
      "text/plain": [
       "<Figure size 640x480 with 1 Axes>"
      ]
     },
     "metadata": {},
     "output_type": "display_data"
    }
   ],
   "source": [
    "stim = np.array([1,0,-1])\n",
    "cue = np.array([ 1, 1, 1, -1, -1, -1])\n",
    "task = np.array([1, 0, -1])\n",
    "t = np.repeat(task, 6)\n",
    "s = np.tile(stim, 6)\n",
    "c = np.tile(cue, 3)\n",
    "\n",
    "tcs = np.vstack((t,c,s)).T\n",
    "plt.imshow(tcs)\n",
    "# rdm = squareform(pdist(tcs))\n",
    "# plt.imshow(rdm)\n",
    "\n",
    "\n",
    "c1 = np.array([[1,0,0],\n",
    "              [0,0,0],\n",
    "              [0,0,1]])\n",
    "c2 = np.array([[1,0,0],\n",
    "              [0,1,0],\n",
    "              [0,0,0]])\n",
    "c3 = np.array([[0,0,0],\n",
    "              [0,1,0],\n",
    "              [0,0,1]])\n",
    "c4 = np.array([[0,0,0],\n",
    "              [0,1,0],\n",
    "              [0,0,0]])\n",
    "c5 = np.array([[0,0,0],\n",
    "              [0,0,0],\n",
    "              [0,0,1]])\n",
    "rot = np.array([[1,0,0],\n",
    "                [0, np.cos(np.deg2rad(90)), np.sin(np.deg2rad(90))],\n",
    "                [0, -np.sin(np.deg2rad(90)), np.cos(np.deg2rad(90))]])\n",
    "result = np.dot(np.dot(tcs[:6,], c1), rot)\n",
    "xy = np.concatenate([\n",
    "    result,\n",
    "    np.dot(tcs[6:12,], c2),\n",
    "    np.dot(tcs[12:,], c2)], axis=0)\n",
    "\n",
    "# xy = np.dot(np.dot(tcs, rot), rot.T)\n",
    "plt.imshow(xy)\n",
    "rdm = squareform(pdist(xy))\n",
    "plt.imshow(rdm)\n"
   ]
  },
  {
   "cell_type": "code",
   "execution_count": 161,
   "metadata": {},
   "outputs": [
    {
     "data": {
      "text/plain": [
       "<matplotlib.image.AxesImage at 0x7fa33c4fec70>"
      ]
     },
     "execution_count": 161,
     "metadata": {},
     "output_type": "execute_result"
    },
    {
     "data": {
      "image/png": "[encoded data removed]",
      "text/plain": [
       "<Figure size 640x480 with 1 Axes>"
      ]
     },
     "metadata": {},
     "output_type": "display_data"
    }
   ],
   "source": [
    "plt.imshow(xy)"
   ]
  },
  {
   "cell_type": "code",
   "execution_count": 95,
   "metadata": {},
   "outputs": [
    {
     "data": {
      "text/plain": [
       "<matplotlib.image.AxesImage at 0x7fa335f9bfa0>"
      ]
     },
     "execution_count": 95,
     "metadata": {},
     "output_type": "execute_result"
    },
    {
     "data": {
      "image/png": "[encoded data removed]",
      "text/plain": [
       "<Figure size 640x480 with 1 Axes>"
      ]
     },
     "metadata": {},
     "output_type": "display_data"
    }
   ],
   "source": [
    "stim = np.array([1, 0, -1])\n",
    "cue = np.array([ 1, 1, 1, -1, -1, -1])\n",
    "task = np.array([1, 0, -1])\n",
    "t = np.repeat(task, 6)\n",
    "s = np.tile(stim, 2)\n",
    "c = np.tile(cue, 1)\n",
    "s_2d = s.reshape(-1, 1)\n",
    "c_2d = c.reshape(-1, 1)\n",
    "t_2d = t.reshape(-1, 1)\n",
    "\n",
    "c1 = np.array([[np.cos(np.deg2rad(45)), np.sin(np.deg2rad(45))],\n",
    "              [-np.sin(np.deg2rad(45)), np.cos(np.deg2rad(45))]])\n",
    "\n",
    "c2 = np.array([[np.cos(np.deg2rad(45)), -np.sin(np.deg2rad(45))],\n",
    "              [np.sin(np.deg2rad(45)), np.cos(np.deg2rad(45))]])\n",
    "c0 = np.eye(2)\n",
    "\n",
    "xy = np.concatenate([\n",
    "    np.dot(np.dot(np.concatenate([s_2d, c_2d], axis=1), c0), c0.T),\n",
    "    np.dot(np.dot(np.concatenate([s_2d, c_2d], axis=1), c1), c1.T), \n",
    "    np.dot(np.dot(np.concatenate([s_2d, c_2d], axis=1), c2), c2.T)], axis=0)\n",
    "cs = np.vstack((c,s)).T\n",
    "plt.imshow(xy)\n",
    "rdm = squareform(pdist(xy))\n",
    "plt.imshow(rdm)"
   ]
  },
  {
   "cell_type": "code",
   "execution_count": 65,
   "metadata": {},
   "outputs": [
    {
     "data": {
      "text/plain": [
       "<matplotlib.image.AxesImage at 0x7fa33422d6d0>"
      ]
     },
     "execution_count": 65,
     "metadata": {},
     "output_type": "execute_result"
    },
    {
     "data": {
      "image/png": "[encoded data removed]",
      "text/plain": [
       "<Figure size 640x480 with 1 Axes>"
      ]
     },
     "metadata": {},
     "output_type": "display_data"
    }
   ],
   "source": [
    "import numpy as np\n",
    "\n",
    "# Generate the meshgrid\n",
    "t,c,s= np.meshgrid(np.arange(-1, 2),np.arange(0, 2),  np.arange(-1,2))\n",
    "stim = np.array([-1, 0, 1])\n",
    "cue = np.array([-1, -1, -1, 1, 1, 1])\n",
    "np.tile(stim, 4)\n",
    "np.tile(cue, 2)\n",
    "# Define the rotation matrices\n",
    "c1 = np.array([[np.cos(np.deg2rad(45)), np.sin(np.deg2rad(45))],\n",
    "              [-np.sin(np.deg2rad(45)), np.cos(np.deg2rad(45))]])\n",
    "\n",
    "c2 = np.array([[np.cos(np.deg2rad(45)), -np.sin(np.deg2rad(45))],\n",
    "              [np.sin(np.deg2rad(45)), np.cos(np.deg2rad(45))]])\n",
    "\n",
    "c3 = np.array([[np.cos(np.deg2rad(270)), -np.sin(np.deg2rad(270))],\n",
    "              [np.sin(np.deg2rad(270)), np.cos(np.deg2rad(270))]])\n",
    "\n",
    "c4 = np.array([[np.cos(np.deg2rad(90)), -np.sin(np.deg2rad(90))],\n",
    "              [np.sin(np.deg2rad(90)), np.cos(np.deg2rad(90))]])\n",
    "\n",
    "c5 = np.array([[np.cos(np.deg2rad(135)), -np.sin(np.deg2rad(135))],\n",
    "              [np.sin(np.deg2rad(135)), np.cos(np.deg2rad(135))]])\n",
    "\n",
    "c6 = np.array([[np.cos(np.deg2rad(270)), -np.sin(np.deg2rad(270))],\n",
    "              [np.sin(np.deg2rad(270)), np.cos(np.deg2rad(270))]])\n",
    "# Reshape l and b into 2D arrays\n",
    "\n",
    "s_2d = s.reshape(-1, 1)\n",
    "c_2d = c.reshape(-1, 1)\n",
    "t_2d = t.reshape(-1, 1)\n",
    "# Create xy\n",
    "# xy = np.hstack((xy, np.vstack((np.ones_like(s_2d), 2*np.ones_like(b_2d))))) # add offset\n",
    "\n",
    "xy = np.concatenate([np.dot(np.dot(np.concatenate([l_2d, b_2d], axis=1), c1), c1.T), \n",
    "                      np.dot(np.dot(np.concatenate([l_2d, b_2d], axis=1), c2), c2.T)], axis=0)\n",
    "# task_xy = np.vstack((xy, np.dot(xy, c5), xy))\n",
    "task_xy = np.vstack((xy,xy,xy))\n",
    "# task_xy = np.hstack((task_xy, np.vstack((np.ones_like(b), 2*np.ones_like(b))))) # add offset\n",
    "\n",
    "# plt.imshow(task_xy)\n",
    "\n",
    "# from scipy.spatial.distance import pdist, squareform\n",
    "\n",
    "# rdm = squareform(pdist(task_xy))\n",
    "# plt.imshow(rdm)\n",
    "xyz_cue = np.hstack((  s_2d,   c_2d, t_2d, )) # ,t_2d))\n",
    "plt.imshow(xyz_cue)\n",
    "# rdm = squareform(pdist(xyz_cue))\n",
    "# plt.imshow(rdm)"
   ]
  },
  {
   "cell_type": "code",
   "execution_count": null,
   "metadata": {},
   "outputs": [],
   "source": [
    "xyz_cue = np.hstack((s_2d, c_2d, t_2d))\n",
    "plt.imshow(xyz_cue)\n",
    "rdm = squareform(pdist(xyz_cue))\n",
    "plt.imshow(rdm)"
   ]
  },
  {
   "cell_type": "code",
   "execution_count": 82,
   "metadata": {},
   "outputs": [
    {
     "data": {
      "text/plain": [
       "(18, 2)"
      ]
     },
     "execution_count": 82,
     "metadata": {},
     "output_type": "execute_result"
    }
   ],
   "source": [
    "embedding[0:ii_half,[1,2]].shape"
   ]
  },
  {
   "cell_type": "code",
   "execution_count": 2,
   "metadata": {},
   "outputs": [
    {
     "ename": "NameError",
     "evalue": "name 'rotate' is not defined",
     "output_type": "error",
     "traceback": [
      "\u001b[0;31m---------------------------------------------------------------------------\u001b[0m",
      "\u001b[0;31mNameError\u001b[0m                                 Traceback (most recent call last)",
      "Cell \u001b[0;32mIn[2], line 5\u001b[0m\n\u001b[1;32m      3\u001b[0m \u001b[39m# plot results\u001b[39;00m\n\u001b[1;32m      4\u001b[0m get_ipython()\u001b[39m.\u001b[39mrun_line_magic(\u001b[39m'\u001b[39m\u001b[39mmatplotlib\u001b[39m\u001b[39m'\u001b[39m, \u001b[39m'\u001b[39m\u001b[39minline\u001b[39m\u001b[39m'\u001b[39m)\n\u001b[0;32m----> 5\u001b[0m xyz_rot \u001b[39m=\u001b[39m rotate(xyz_cue,\u001b[39m0\u001b[39m,axis\u001b[39m=\u001b[39m\u001b[39m'\u001b[39m\u001b[39mx\u001b[39m\u001b[39m'\u001b[39m)\n\u001b[1;32m      6\u001b[0m xyz_rot \u001b[39m=\u001b[39m rotate(xyz_rot,\u001b[39m0\u001b[39m,axis\u001b[39m=\u001b[39m\u001b[39m'\u001b[39m\u001b[39my\u001b[39m\u001b[39m'\u001b[39m)\n\u001b[1;32m      7\u001b[0m xyz_rot \u001b[39m=\u001b[39m rotate(xyz_rot,\u001b[39m0\u001b[39m,axis\u001b[39m=\u001b[39m\u001b[39m'\u001b[39m\u001b[39mz\u001b[39m\u001b[39m'\u001b[39m)\n",
      "\u001b[0;31mNameError\u001b[0m: name 'rotate' is not defined"
     ]
    }
   ],
   "source": [
    "import pickle\n",
    "\n",
    "# plot results\n",
    "%matplotlib inline\n",
    "xyz_rot = rotate(xyz_cue,0,axis='x')\n",
    "xyz_rot = rotate(xyz_rot,0,axis='y')\n",
    "xyz_rot = rotate(xyz_rot,0,axis='z')\n",
    "\n",
    "mm = 1/25.4\n",
    "fig = plt.figure(1,figsize=(50*mm, 25*mm), dpi=300, facecolor='w', edgecolor='k')\n",
    "\n",
    "# plot_MDS_embeddings_2D(xyz_rot,fig,fig_id=1,axlims=.5,flipdims=True,flipcols=True)\n",
    "\n",
    "       \n",
    "fig_id = 1\n",
    "axlims=.5;flipdims=True;flipcols=True\n",
    "\n",
    "if flipcols==True:\n",
    "    col1 = (0, 0, .5)\n",
    "    col2 = (255/255,102/255,0)\n",
    "else:\n",
    "    col1 = (255/255,102/255,0)\n",
    "    col2 = (0, 0, .5)\n",
    "monk = False\n",
    "if monk==True:\n",
    "    n_items = 6\n",
    "    ii_half = 36\n",
    "else:            \n",
    "    n_items = 4\n",
    "    ii_half = 16\n",
    "embedding = xyz_rot\n",
    "plt.subplot(1,2,1)    \n",
    "plot_grid2(embedding[0:ii_half,[0,1]],line_width=.5,line_colour=col1,fig_id=fig_id, n_items=n_items)\n",
    "scatter_mds_2(embedding[0:ii_half,[0,1]],fig_id=fig_id,task_id='a',flipdims=flipdims,items_per_dim=n_items,flipcols=flipcols)\n",
    "plot_grid2(embedding[ii_half:,[0,1]],line_width=.5,line_colour=col2,fig_id=fig_id,n_items=n_items)\n",
    "scatter_mds_2(embedding[ii_half:,[0,1]],fig_id=fig_id,task_id='b',flipdims=flipdims,items_per_dim=n_items,flipcols=flipcols)\n",
    "ax = plt.gca()\n",
    "ax.set_xlim([-axlims,axlims])\n",
    "ax.set_ylim([-axlims,axlims])    \n",
    "ax.xaxis.set_ticks([])\n",
    "ax.yaxis.set_ticks([])\n",
    "plt.xlabel('dim 1',fontsize=6)\n",
    "plt.ylabel('dim 2',fontsize=6)\n",
    "ax = plt.gca()\n",
    "ax.spines['right'].set_visible(False)\n",
    "ax.spines['top'].set_visible(False)\n",
    "ax.set_aspect('equal', 'box')\n",
    "\n",
    "plt.subplot(1,2,2)\n",
    "plot_grid2(embedding[0:ii_half,[1,2]],line_width=.5,line_colour=col1,fig_id=fig_id,n_items=n_items)\n",
    "scatter_mds_2(embedding[0:ii_half,[1,2]],fig_id=fig_id,task_id='a',flipdims=flipdims,items_per_dim=n_items,flipcols=flipcols)\n",
    "plot_grid2(embedding[ii_half:,[1,2]],line_width=.5,line_colour=col2,fig_id=fig_id,n_items=n_items)\n",
    "scatter_mds_2(embedding[ii_half:,[1,2]],fig_id=fig_id,task_id='b',flipdims=flipdims,items_per_dim=n_items,flipcols=flipcols)\n",
    "ax = plt.gca()\n",
    "ax.set_xlim([-axlims,axlims])\n",
    "ax.set_ylim([-axlims,axlims])\n",
    "ax.xaxis.set_ticks([])\n",
    "ax.yaxis.set_ticks([])\n",
    "plt.xlabel('dim 2',fontsize=6)\n",
    "plt.ylabel('dim 3',fontsize=6)\n",
    "ax = plt.gca()\n",
    "ax.spines['right'].set_visible(False)\n",
    "ax.spines['top'].set_visible(False)\n",
    "ax.set_aspect('equal', 'box')"
   ]
  },
  {
   "cell_type": "code",
   "execution_count": 28,
   "metadata": {},
   "outputs": [
    {
     "data": {
      "image/png": "[encoded data removed]",
      "text/plain": [
       "<Figure size 640x480 with 1 Axes>"
      ]
     },
     "metadata": {},
     "output_type": "display_data"
    }
   ],
   "source": [
    "import matplotlib.pyplot as plt\n",
    "import numpy as np\n",
    "\n",
    "# Define the rotation matrix\n",
    "c1 = np.array([[np.cos(np.deg2rad(45)), np.sin(np.deg2rad(45))],\n",
    "              [-np.sin(np.deg2rad(45)), np.cos(np.deg2rad(45))]])\n",
    "\n",
    "# Define the original unit vectors\n",
    "v1 = np.array([1,0])\n",
    "v2 = np.array([0,1])\n",
    "\n",
    "# Rotate the unit vectors\n",
    "rotated_v1 = c1 @ v1\n",
    "rotated_v2 = c1 @ v2\n",
    "\n",
    "# Plot the original and rotated unit vectors\n",
    "plt.quiver([0, 0], [0, 0], [1, 0], [0, 1], color=['b','b'], angles='xy', scale_units='xy', scale=1)\n",
    "plt.quiver([0, 0], [0, 0], rotated_v1[0], rotated_v1[1], color='orange', angles='xy', scale_units='xy', scale=1)\n",
    "plt.quiver([0, 0], [0, 0], rotated_v2[0], rotated_v2[1], color='orange', angles='xy', scale_units='xy', scale=1)\n",
    "plt.xlim([-1.5, 1.5])\n",
    "plt.ylim([-1.5, 1.5])\n",
    "plt.title('Visualization of 2D Rotation Matrix')\n",
    "plt.show()\n"
   ]
  },
  {
   "attachments": {},
   "cell_type": "markdown",
   "metadata": {},
   "source": [
    "## plot MDS"
   ]
  },
  {
   "cell_type": "code",
   "execution_count": 14,
   "metadata": {},
   "outputs": [
    {
     "ename": "NameError",
     "evalue": "name 'rdm' is not defined",
     "output_type": "error",
     "traceback": [
      "\u001b[0;31m---------------------------------------------------------------------------\u001b[0m",
      "\u001b[0;31mNameError\u001b[0m                                 Traceback (most recent call last)",
      "Cell \u001b[0;32mIn[14], line 2\u001b[0m\n\u001b[1;32m      1\u001b[0m \u001b[39m# https://github.com/summerfieldlab/Flesch_etal_Neuron/blob/main/Analysis/AllFigures/plot_figures.ipynb\u001b[39;00m\n\u001b[0;32m----> 2\u001b[0m xyz \u001b[39m=\u001b[39m rdm\n\u001b[1;32m      3\u001b[0m get_ipython()\u001b[39m.\u001b[39mrun_line_magic(\u001b[39m'\u001b[39m\u001b[39mmatplotlib\u001b[39m\u001b[39m'\u001b[39m, \u001b[39m'\u001b[39m\u001b[39minline\u001b[39m\u001b[39m'\u001b[39m)\n\u001b[1;32m      4\u001b[0m \u001b[39mimport\u001b[39;00m \u001b[39mmath\u001b[39;00m\n",
      "\u001b[0;31mNameError\u001b[0m: name 'rdm' is not defined"
     ]
    }
   ],
   "source": [
    "# https://github.com/summerfieldlab/Flesch_etal_Neuron/blob/main/Analysis/AllFigures/plot_figures.ipynb\n",
    "xyz = rdm\n",
    "%matplotlib inline\n",
    "import math\n",
    "from sklearn.manifold import MDS\n",
    "from sklearn import linear_model\n",
    "def rotate(X, theta, axis='x'):\n",
    "    '''Rotate multidimensional array `X` `theta` degrees around axis `axis`'''\n",
    "    theta = theta * (math.pi/180)  # convert to radians\n",
    "    c, s = np.cos(theta), np.sin(theta)\n",
    "    if axis == 'x': return np.dot(X, np.array([\n",
    "        [1.,  0,  0],\n",
    "        [0 ,  c, -s],\n",
    "        [0 ,  s,  c]\n",
    "        ]))\n",
    "    elif axis == 'y': return np.dot(X, np.array([\n",
    "        [c,  0,  -s],\n",
    "        [0,  1,   0],\n",
    "        [s,  0,   c]\n",
    "        ]))\n",
    "    elif axis == 'z': return np.dot(X, np.array([\n",
    "        [c, -s,  0 ],\n",
    "        [s,  c,  0 ],\n",
    "        [0,  0,  1.],\n",
    "        ]))\n",
    "xyz_rot = rotate(xyz,0,axis='x')\n",
    "xyz_rot = rotate(xyz_rot,0,axis='y')\n",
    "xyz_rot = rotate(xyz_rot,0,axis='z')\n",
    "mm = 1/25.4\n",
    "fig = plt.figure(1,figsize=(50*mm, 25*mm), dpi=300, facecolor='w', edgecolor='k')\n",
    "\n",
    "plot_MDS_embeddings_2D(xyz_rot,fig,fig_id=1,axlims=.5,flipdims=True,flipcols=True)"
   ]
  },
  {
   "cell_type": "code",
   "execution_count": 12,
   "metadata": {},
   "outputs": [
    {
     "ename": "NameError",
     "evalue": "name 'xyz_rot' is not defined",
     "output_type": "error",
     "traceback": [
      "\u001b[0;31m---------------------------------------------------------------------------\u001b[0m",
      "\u001b[0;31mNameError\u001b[0m                                 Traceback (most recent call last)",
      "Cell \u001b[0;32mIn[12], line 1\u001b[0m\n\u001b[0;32m----> 1\u001b[0m xyz_rot\n",
      "\u001b[0;31mNameError\u001b[0m: name 'xyz_rot' is not defined"
     ]
    }
   ],
   "source": [
    "xyz_rot"
   ]
  },
  {
   "cell_type": "code",
   "execution_count": 15,
   "metadata": {},
   "outputs": [
    {
     "ename": "NameError",
     "evalue": "name 'rotate' is not defined",
     "output_type": "error",
     "traceback": [
      "\u001b[0;31m---------------------------------------------------------------------------\u001b[0m",
      "\u001b[0;31mNameError\u001b[0m                                 Traceback (most recent call last)",
      "Cell \u001b[0;32mIn[15], line 6\u001b[0m\n\u001b[1;32m      4\u001b[0m \u001b[39m# plot results\u001b[39;00m\n\u001b[1;32m      5\u001b[0m get_ipython()\u001b[39m.\u001b[39mrun_line_magic(\u001b[39m'\u001b[39m\u001b[39mmatplotlib\u001b[39m\u001b[39m'\u001b[39m, \u001b[39m'\u001b[39m\u001b[39minline\u001b[39m\u001b[39m'\u001b[39m)\n\u001b[0;32m----> 6\u001b[0m xyz_rot \u001b[39m=\u001b[39m rotate(xyz,\u001b[39m0\u001b[39m,axis\u001b[39m=\u001b[39m\u001b[39m'\u001b[39m\u001b[39mx\u001b[39m\u001b[39m'\u001b[39m)\n\u001b[1;32m      7\u001b[0m xyz_rot \u001b[39m=\u001b[39m rotate(xyz_rot,\u001b[39m0\u001b[39m,axis\u001b[39m=\u001b[39m\u001b[39m'\u001b[39m\u001b[39my\u001b[39m\u001b[39m'\u001b[39m)\n\u001b[1;32m      8\u001b[0m xyz_rot \u001b[39m=\u001b[39m rotate(xyz_rot,\u001b[39m0\u001b[39m,axis\u001b[39m=\u001b[39m\u001b[39m'\u001b[39m\u001b[39mz\u001b[39m\u001b[39m'\u001b[39m)\n",
      "\u001b[0;31mNameError\u001b[0m: name 'rotate' is not defined"
     ]
    }
   ],
   "source": [
    "import pickle\n",
    "with open('/Users/h/Downloads/mds_embedding_leftEVC.pickle','rb') as f:\n",
    "        xyz = pickle.load(f)\n",
    "# plot results\n",
    "%matplotlib inline\n",
    "xyz_rot = rotate(xyz,0,axis='x')\n",
    "xyz_rot = rotate(xyz_rot,0,axis='y')\n",
    "xyz_rot = rotate(xyz_rot,0,axis='z')\n",
    "\n",
    "mm = 1/25.4\n",
    "fig = plt.figure(1,figsize=(50*mm, 25*mm), dpi=300, facecolor='w', edgecolor='k')\n",
    "\n",
    "plot_MDS_embeddings_2D(xyz_rot,fig,fig_id=1,axlims=.5,flipdims=True,flipcols=True)"
   ]
  },
  {
   "cell_type": "code",
   "execution_count": 49,
   "metadata": {},
   "outputs": [
    {
     "data": {
      "text/plain": [
       "<matplotlib.image.AxesImage at 0x7f9693007d00>"
      ]
     },
     "execution_count": 49,
     "metadata": {},
     "output_type": "execute_result"
    },
    {
     "data": {
      "image/png": "[encoded data removed]",
      "text/plain": [
       "<Figure size 640x480 with 1 Axes>"
      ]
     },
     "metadata": {},
     "output_type": "display_data"
    }
   ],
   "source": [
    "plt.imshow(xyz)"
   ]
  },
  {
   "attachments": {},
   "cell_type": "markdown",
   "metadata": {},
   "source": [
    "# gridiness"
   ]
  },
  {
   "cell_type": "code",
   "execution_count": 280,
   "metadata": {},
   "outputs": [
    {
     "data": {
      "text/plain": [
       "<matplotlib.image.AxesImage at 0x7fe2e467df10>"
      ]
     },
     "execution_count": 280,
     "metadata": {},
     "output_type": "execute_result"
    },
    {
     "data": {
      "image/png": "[encoded data removed]",
      "text/plain": [
       "<Figure size 640x480 with 1 Axes>"
      ]
     },
     "metadata": {},
     "output_type": "display_data"
    }
   ],
   "source": [
    "import numpy as np\n",
    "\n",
    "# Generate the meshgrid\n",
    "b, l = np.meshgrid(np.arange(-1, 2), np.arange(-1,1 ))\n",
    "\n",
    "# Define the rotation matrices\n",
    "c1 = np.array([[np.cos(np.deg2rad(270)), np.sin(np.deg2rad(0))],\n",
    "              [-np.sin(np.deg2rad(0)), np.cos(np.deg2rad(270))]])\n",
    "c2 = np.array([[np.cos(np.deg2rad(0)), -np.sin(np.deg2rad(0))],\n",
    "              [np.sin(np.deg2rad(0)), np.cos(np.deg2rad(0))]])\n",
    "\n",
    "# Reshape l and b into 2D arrays\n",
    "l_2d = l.reshape(-1, 1)\n",
    "b_2d = b.reshape(-1, 1)\n",
    "\n",
    "# Create xy\n",
    "xy = np.concatenate([np.dot(np.dot(np.concatenate([l_2d, b_2d], axis=1), c1), c1.T), \n",
    "                      np.dot(np.dot(np.concatenate([l_2d, b_2d], axis=1), c2), c2.T)], axis=0)\n",
    "plt.imshow(xy)\n",
    "\n",
    "from scipy.spatial.distance import pdist, squareform\n",
    "\n",
    "rdm = squareform(pdist(xy))\n",
    "plt.imshow(rdm)\n"
   ]
  },
  {
   "cell_type": "code",
   "execution_count": 296,
   "metadata": {},
   "outputs": [
    {
     "ename": "ValueError",
     "evalue": "shapes (25,2) and (1,2) not aligned: 2 (dim 1) != 1 (dim 0)",
     "output_type": "error",
     "traceback": [
      "\u001b[0;31m---------------------------------------------------------------------------\u001b[0m",
      "\u001b[0;31mValueError\u001b[0m                                Traceback (most recent call last)",
      "Cell \u001b[0;32mIn[296], line 10\u001b[0m\n\u001b[1;32m      7\u001b[0m l_reshaped \u001b[39m=\u001b[39m l\u001b[39m.\u001b[39mreshape((\u001b[39m-\u001b[39m\u001b[39m1\u001b[39m, \u001b[39m1\u001b[39m))\n\u001b[1;32m      8\u001b[0m b_reshaped \u001b[39m=\u001b[39m b\u001b[39m.\u001b[39mreshape((\u001b[39m-\u001b[39m\u001b[39m1\u001b[39m, \u001b[39m1\u001b[39m))\n\u001b[0;32m---> 10\u001b[0m xy \u001b[39m=\u001b[39m np\u001b[39m.\u001b[39mconcatenate((np\u001b[39m.\u001b[39;49mdot(np\u001b[39m.\u001b[39;49mconcatenate((l_reshaped, b_reshaped), axis\u001b[39m=\u001b[39;49m\u001b[39m1\u001b[39;49m), c1),\n\u001b[1;32m     11\u001b[0m                       np\u001b[39m.\u001b[39mdot(np\u001b[39m.\u001b[39mconcatenate((l_reshaped, b_reshaped), axis\u001b[39m=\u001b[39m\u001b[39m1\u001b[39m), c2)),\n\u001b[1;32m     12\u001b[0m                      axis\u001b[39m=\u001b[39m\u001b[39m0\u001b[39m)\n\u001b[1;32m     14\u001b[0m \u001b[39m# if boundID == 3 or boundID == 4:\u001b[39;00m\n\u001b[1;32m     15\u001b[0m \u001b[39m#     xy[25:, :] = xy[25:, :] @ np.array([[np.cos(np.deg2rad(270)), -np.sin(np.deg2rad(270))],\u001b[39;00m\n\u001b[1;32m     16\u001b[0m \u001b[39m#                                          [np.sin(np.deg2rad(270)), np.cos(np.deg2rad(270))]])\u001b[39;00m\n\u001b[1;32m     17\u001b[0m \u001b[39m# else:\u001b[39;00m\n\u001b[1;32m     18\u001b[0m \u001b[39m#     xy[25:, :] = xy[25:, :] @ np.array([[np.cos(np.deg2rad(90)), -np.sin(np.deg2rad(90))],\u001b[39;00m\n\u001b[1;32m     19\u001b[0m \u001b[39m#                                          [np.sin(np.deg2rad(90)), np.cos(np.deg2rad(90))]])\u001b[39;00m\n\u001b[1;32m     21\u001b[0m xy \u001b[39m=\u001b[39m np\u001b[39m.\u001b[39mhstack((xy, np\u001b[39m.\u001b[39mvstack((np\u001b[39m.\u001b[39mones_like(b), \u001b[39m2\u001b[39m\u001b[39m*\u001b[39mnp\u001b[39m.\u001b[39mones_like(b))))) \u001b[39m# add offset\u001b[39;00m\n",
      "File \u001b[0;32m<__array_function__ internals>:180\u001b[0m, in \u001b[0;36mdot\u001b[0;34m(*args, **kwargs)\u001b[0m\n",
      "\u001b[0;31mValueError\u001b[0m: shapes (25,2) and (1,2) not aligned: 2 (dim 1) != 1 (dim 0)"
     ]
    }
   ],
   "source": [
    "b, l = np.meshgrid(np.arange(-2, 3), np.arange(-2, 3))\n",
    "b = b.flatten()\n",
    "l = l.flatten()\n",
    "c1 = np.array([np.cos(np.deg2rad(0)), np.sin(np.deg2rad(0))]).reshape((1, 2))\n",
    "c2 = np.array([np.cos(np.deg2rad(90)), np.sin(np.deg2rad(90))]).reshape((1, 2))\n",
    "\n",
    "l_reshaped = l.reshape((-1, 1))\n",
    "b_reshaped = b.reshape((-1, 1))\n",
    "\n",
    "xy = np.concatenate((np.dot(np.concatenate((l_reshaped, b_reshaped), axis=1), c1),\n",
    "                      np.dot(np.concatenate((l_reshaped, b_reshaped), axis=1), c2)),\n",
    "                     axis=0)\n",
    "\n",
    "# if boundID == 3 or boundID == 4:\n",
    "#     xy[25:, :] = xy[25:, :] @ np.array([[np.cos(np.deg2rad(270)), -np.sin(np.deg2rad(270))],\n",
    "#                                          [np.sin(np.deg2rad(270)), np.cos(np.deg2rad(270))]])\n",
    "# else:\n",
    "#     xy[25:, :] = xy[25:, :] @ np.array([[np.cos(np.deg2rad(90)), -np.sin(np.deg2rad(90))],\n",
    "#                                          [np.sin(np.deg2rad(90)), np.cos(np.deg2rad(90))]])\n",
    "\n",
    "xy = np.hstack((xy, np.vstack((np.ones_like(b), 2*np.ones_like(b))))) # add offset\n",
    "rdm = squareform(pdist(xy))\n"
   ]
  },
  {
   "cell_type": "code",
   "execution_count": 268,
   "metadata": {},
   "outputs": [
    {
     "data": {
      "text/plain": [
       "(25, 2)"
      ]
     },
     "execution_count": 268,
     "metadata": {},
     "output_type": "execute_result"
    }
   ],
   "source": [
    "xy.shape"
   ]
  },
  {
   "attachments": {},
   "cell_type": "markdown",
   "metadata": {},
   "source": [
    "# rotate"
   ]
  },
  {
   "cell_type": "code",
   "execution_count": 257,
   "metadata": {},
   "outputs": [
    {
     "ename": "ValueError",
     "evalue": "A 2-dimensional array must be passed.",
     "output_type": "error",
     "traceback": [
      "\u001b[0;31m---------------------------------------------------------------------------\u001b[0m",
      "\u001b[0;31mValueError\u001b[0m                                Traceback (most recent call last)",
      "Cell \u001b[0;32mIn[257], line 24\u001b[0m\n\u001b[1;32m     20\u001b[0m     plt\u001b[39m.\u001b[39mimshow(xy)\n\u001b[1;32m     22\u001b[0m \u001b[39mfrom\u001b[39;00m \u001b[39mscipy\u001b[39;00m\u001b[39m.\u001b[39;00m\u001b[39mspatial\u001b[39;00m\u001b[39m.\u001b[39;00m\u001b[39mdistance\u001b[39;00m \u001b[39mimport\u001b[39;00m pdist, squareform\n\u001b[0;32m---> 24\u001b[0m rdm \u001b[39m=\u001b[39m squareform(pdist(task_xy))\n\u001b[1;32m     25\u001b[0m plt\u001b[39m.\u001b[39mimshow(rdm)\n",
      "File \u001b[0;32m~/anaconda3/envs/spacetop_datalad/lib/python3.9/site-packages/scipy/spatial/distance.py:2214\u001b[0m, in \u001b[0;36mpdist\u001b[0;34m(X, metric, out, **kwargs)\u001b[0m\n\u001b[1;32m   2212\u001b[0m s \u001b[39m=\u001b[39m X\u001b[39m.\u001b[39mshape\n\u001b[1;32m   2213\u001b[0m \u001b[39mif\u001b[39;00m \u001b[39mlen\u001b[39m(s) \u001b[39m!=\u001b[39m \u001b[39m2\u001b[39m:\n\u001b[0;32m-> 2214\u001b[0m     \u001b[39mraise\u001b[39;00m \u001b[39mValueError\u001b[39;00m(\u001b[39m'\u001b[39m\u001b[39mA 2-dimensional array must be passed.\u001b[39m\u001b[39m'\u001b[39m)\n\u001b[1;32m   2216\u001b[0m m, n \u001b[39m=\u001b[39m s\n\u001b[1;32m   2218\u001b[0m \u001b[39mif\u001b[39;00m callable(metric):\n",
      "\u001b[0;31mValueError\u001b[0m: A 2-dimensional array must be passed."
     ]
    },
    {
     "data": {
      "image/png": "[encoded data removed]",
      "text/plain": [
       "<Figure size 640x480 with 1 Axes>"
      ]
     },
     "metadata": {},
     "output_type": "display_data"
    }
   ],
   "source": [
    "import numpy as np\n",
    "\n",
    "# Generate the meshgrid\n",
    "b, l = np.meshgrid(np.arange(-1, 2), np.arange(-1,1 ))\n",
    "\n",
    "# Define the rotation matrices\n",
    "c1 = np.array([[np.cos(np.deg2rad(45)), np.sin(np.deg2rad(45))],\n",
    "              [-np.sin(np.deg2rad(45)), np.cos(np.deg2rad(45))]])\n",
    "c2 = np.array([[np.cos(np.deg2rad(45)), -np.sin(np.deg2rad(45))],\n",
    "              [np.sin(np.deg2rad(45)), np.cos(np.deg2rad(45))]])\n",
    "\n",
    "# Reshape l and b into 2D arrays\n",
    "l_2d = l.reshape(-1, 1)\n",
    "b_2d = b.reshape(-1, 1)\n",
    "for task in [1,2,3]:\n",
    "# Create xy\n",
    "    xy = np.concatenate([np.dot(np.dot(np.concatenate([l_2d, b_2d], axis=1), c1), c1.T), \n",
    "                        np.dot(np.dot(np.concatenate([l_2d, b_2d], axis=1), c2), c2.T)], axis=0)\n",
    "    task_xy = np.vstack(xy)\n",
    "    plt.imshow(xy)\n",
    "\n",
    "from scipy.spatial.distance import pdist, squareform\n",
    "\n",
    "rdm = squareform(pdist(task_xy))\n",
    "plt.imshow(rdm)\n"
   ]
  },
  {
   "cell_type": "code",
   "execution_count": 259,
   "metadata": {},
   "outputs": [
    {
     "data": {
      "text/plain": [
       "<matplotlib.image.AxesImage at 0x7fe2e3e178e0>"
      ]
     },
     "execution_count": 259,
     "metadata": {},
     "output_type": "execute_result"
    },
    {
     "data": {
      "image/png": "[encoded data removed]",
      "text/plain": [
       "<Figure size 640x480 with 1 Axes>"
      ]
     },
     "metadata": {},
     "output_type": "display_data"
    }
   ],
   "source": [
    "plt.imshow(l_2d)"
   ]
  },
  {
   "attachments": {},
   "cell_type": "markdown",
   "metadata": {},
   "source": [
    "# factorized - rotated"
   ]
  },
  {
   "cell_type": "code",
   "execution_count": 243,
   "metadata": {},
   "outputs": [
    {
     "ename": "ValueError",
     "evalue": "shapes (25,2,1) and (2,) not aligned: 1 (dim 2) != 2 (dim 0)",
     "output_type": "error",
     "traceback": [
      "\u001b[0;31m---------------------------------------------------------------------------\u001b[0m",
      "\u001b[0;31mValueError\u001b[0m                                Traceback (most recent call last)",
      "Cell \u001b[0;32mIn[243], line 15\u001b[0m\n\u001b[1;32m     11\u001b[0m \u001b[39m# for ii in range(len(params.num.goodSubjects)):\u001b[39;00m\n\u001b[1;32m     12\u001b[0m \u001b[39m#     subID = params.num.goodSubjects[ii]\u001b[39;00m\n\u001b[1;32m     13\u001b[0m     \u001b[39m# define xy coordinates\u001b[39;00m\n\u001b[1;32m     14\u001b[0m \u001b[39mfor\u001b[39;00m boundID \u001b[39min\u001b[39;00m [\u001b[39m1\u001b[39m,\u001b[39m2\u001b[39m,\u001b[39m3\u001b[39m]:\n\u001b[0;32m---> 15\u001b[0m     xy \u001b[39m=\u001b[39m np\u001b[39m.\u001b[39mconcatenate((np\u001b[39m.\u001b[39;49mdot(np\u001b[39m.\u001b[39;49mconcatenate((l_2d[:, \u001b[39mNone\u001b[39;49;00m], b_2d[:, \u001b[39mNone\u001b[39;49;00m]), axis\u001b[39m=\u001b[39;49m\u001b[39m1\u001b[39;49m), c1) \u001b[39m@\u001b[39m c1\u001b[39m.\u001b[39mT,\n\u001b[1;32m     16\u001b[0m                          np\u001b[39m.\u001b[39mdot(np\u001b[39m.\u001b[39mconcatenate((l_2d[:, \u001b[39mNone\u001b[39;00m], b_2d[:, \u001b[39mNone\u001b[39;00m]), axis\u001b[39m=\u001b[39m\u001b[39m1\u001b[39m), c2) \u001b[39m@\u001b[39m c2\u001b[39m.\u001b[39mT))\n\u001b[1;32m     18\u001b[0m     \u001b[39m# rotate vectors if necessary\u001b[39;00m\n\u001b[1;32m     19\u001b[0m     \u001b[39mif\u001b[39;00m boundID \u001b[39m==\u001b[39m \u001b[39m3\u001b[39m \u001b[39mor\u001b[39;00m boundID \u001b[39m==\u001b[39m \u001b[39m4\u001b[39m:\n",
      "File \u001b[0;32m<__array_function__ internals>:180\u001b[0m, in \u001b[0;36mdot\u001b[0;34m(*args, **kwargs)\u001b[0m\n",
      "\u001b[0;31mValueError\u001b[0m: shapes (25,2,1) and (2,) not aligned: 1 (dim 2) != 2 (dim 0)"
     ]
    }
   ],
   "source": [
    "import numpy as np\n",
    "from scipy.spatial.distance import pdist, squareform\n",
    "\n",
    "b, l = np.meshgrid(np.arange(-2, 3), np.arange(-2, 3))\n",
    "b = b.ravel()\n",
    "l = l.ravel()\n",
    "c1 = np.array([np.cos(np.deg2rad(0)), np.sin(np.deg2rad(0))])\n",
    "c2 = np.array([np.cos(np.deg2rad(90)), np.sin(np.deg2rad(90))])\n",
    "l_2d = l.reshape(-1, 1)\n",
    "b_2d = b.reshape(-1, 1)\n",
    "# for ii in range(len(params.num.goodSubjects)):\n",
    "#     subID = params.num.goodSubjects[ii]\n",
    "    # define xy coordinates\n",
    "for boundID in [1,2,3]:\n",
    "    xy = np.concatenate((np.dot(np.concatenate((l_2d[:, None], b_2d[:, None]), axis=1), c1) @ c1.T,\n",
    "                         np.dot(np.concatenate((l_2d[:, None], b_2d[:, None]), axis=1), c2) @ c2.T))\n",
    "\n",
    "    # rotate vectors if necessary\n",
    "    if boundID == 3 or boundID == 4:\n",
    "        xy[12:, :] = xy[12:, :] @ np.array([[np.cos(np.deg2rad(270)), -np.sin(np.deg2rad(270))],\n",
    "                                             [np.sin(np.deg2rad(270)), np.cos(np.deg2rad(270))]])\n",
    "    else:\n",
    "        xy[12:, :] = xy[12:, :] @ np.array([[np.cos(np.deg2rad(90)), -np.sin(np.deg2rad(90))],\n",
    "                                             [np.sin(np.deg2rad(90)), np.cos(np.deg2rad(90))]])\n",
    "\n",
    "    # add offset\n",
    "    xy = np.hstack((xy, \n",
    "                    np.vstack((np.ones((len(b))), 2*np.ones((len(b))))))).T\n",
    "\n",
    "    # compute rdm\n",
    "    rdm = np.sqrt(np.sum((xy[:, None, :] - xy[None, :, :])**2, axis=-1))\n",
    "\n",
    "plt.imshow(rdm)\n",
    "    # rdm2 = helper_expandRDM(rdm, params.num.runs)\n",
    "    # rdms[ii, :, :] = rdm2\n"
   ]
  },
  {
   "cell_type": "code",
   "execution_count": 246,
   "metadata": {},
   "outputs": [
    {
     "ename": "ValueError",
     "evalue": "shapes (25,2,1) and (2,1) not aligned: 1 (dim 2) != 2 (dim 0)",
     "output_type": "error",
     "traceback": [
      "\u001b[0;31m---------------------------------------------------------------------------\u001b[0m",
      "\u001b[0;31mValueError\u001b[0m                                Traceback (most recent call last)",
      "Cell \u001b[0;32mIn[246], line 14\u001b[0m\n\u001b[1;32m     12\u001b[0m rdms \u001b[39m=\u001b[39m []\n\u001b[1;32m     13\u001b[0m \u001b[39mfor\u001b[39;00m boundID \u001b[39min\u001b[39;00m [\u001b[39m1\u001b[39m, \u001b[39m2\u001b[39m, \u001b[39m3\u001b[39m]:\n\u001b[0;32m---> 14\u001b[0m     xy \u001b[39m=\u001b[39m np\u001b[39m.\u001b[39mconcatenate((np\u001b[39m.\u001b[39;49mdot(np\u001b[39m.\u001b[39;49mconcatenate((l_2d[:, \u001b[39mNone\u001b[39;49;00m], b_2d[:, \u001b[39mNone\u001b[39;49;00m]), axis\u001b[39m=\u001b[39;49m\u001b[39m1\u001b[39;49m), np\u001b[39m.\u001b[39;49mreshape(c1, (\u001b[39m2\u001b[39;49m,\u001b[39m1\u001b[39;49m))) \u001b[39m@\u001b[39m np\u001b[39m.\u001b[39mreshape(c1, (\u001b[39m1\u001b[39m,\u001b[39m2\u001b[39m)),\n\u001b[1;32m     15\u001b[0m                          np\u001b[39m.\u001b[39mdot(np\u001b[39m.\u001b[39mconcatenate((l_2d[:, \u001b[39mNone\u001b[39;00m], b_2d[:, \u001b[39mNone\u001b[39;00m]), axis\u001b[39m=\u001b[39m\u001b[39m1\u001b[39m), np\u001b[39m.\u001b[39mreshape(c2, (\u001b[39m2\u001b[39m,\u001b[39m1\u001b[39m))) \u001b[39m@\u001b[39m np\u001b[39m.\u001b[39mreshape(c2, (\u001b[39m1\u001b[39m,\u001b[39m2\u001b[39m))))\n\u001b[1;32m     17\u001b[0m     \u001b[39m# rotate vectors if necessary\u001b[39;00m\n\u001b[1;32m     18\u001b[0m     \u001b[39mif\u001b[39;00m boundID \u001b[39m==\u001b[39m \u001b[39m3\u001b[39m \u001b[39mor\u001b[39;00m boundID \u001b[39m==\u001b[39m \u001b[39m4\u001b[39m:\n",
      "File \u001b[0;32m<__array_function__ internals>:180\u001b[0m, in \u001b[0;36mdot\u001b[0;34m(*args, **kwargs)\u001b[0m\n",
      "\u001b[0;31mValueError\u001b[0m: shapes (25,2,1) and (2,1) not aligned: 1 (dim 2) != 2 (dim 0)"
     ]
    }
   ],
   "source": [
    "import numpy as np\n",
    "from scipy.spatial.distance import pdist, squareform\n",
    "\n",
    "b, l = np.meshgrid(np.arange(-2, 3), np.arange(-2, 3))\n",
    "b = b.ravel()\n",
    "l = l.ravel()\n",
    "c1 = np.array([np.cos(np.deg2rad(0)), np.sin(np.deg2rad(0))])\n",
    "c2 = np.array([np.cos(np.deg2rad(90)), np.sin(np.deg2rad(90))])\n",
    "l_2d = l.reshape(-1, 1)\n",
    "b_2d = b.reshape(-1, 1)\n",
    "\n",
    "rdms = []\n",
    "for boundID in [1, 2, 3]:\n",
    "    xy = np.concatenate((np.dot(np.concatenate((l_2d[:, None], b_2d[:, None]), axis=1), np.reshape(c1, (2,1))) @ np.reshape(c1, (1,2)),\n",
    "                         np.dot(np.concatenate((l_2d[:, None], b_2d[:, None]), axis=1), np.reshape(c2, (2,1))) @ np.reshape(c2, (1,2))))\n",
    "\n",
    "    # rotate vectors if necessary\n",
    "    if boundID == 3 or boundID == 4:\n",
    "        xy[12:, :] = xy[12:, :] @ np.array([[np.cos(np.deg2rad(270)), -np.sin(np.deg2rad(270))],\n",
    "                                             [np.sin(np.deg2rad(270)), np.cos(np.deg2rad(270))]])\n",
    "    else:\n",
    "        xy[12:, :] = xy[12:, :] @ np.array([[np.cos(np.deg2rad(90)), -np.sin(np.deg2rad(90))],\n",
    "                                             [np.sin(np.deg2rad(90)), np.cos(np.deg2rad(90))]])\n",
    "\n",
    "    # add offset\n",
    "    xy = np.hstack((xy, \n",
    "                    np.vstack((np.ones((len(b))), 2*np.ones((len(b))))))).T\n",
    "\n",
    "    # compute rdm\n",
    "    rdm = np.sqrt(np.sum((xy[:, None, :] - xy[None, :, :])**2, axis=-1))\n",
    "\n",
    "    rdms.append(rdm)\n",
    "\n",
    "plt.imshow(rdms[0])\n"
   ]
  },
  {
   "cell_type": "code",
   "execution_count": 224,
   "metadata": {},
   "outputs": [],
   "source": [
    "rdm = squareform(pdist(xy))"
   ]
  },
  {
   "cell_type": "code",
   "execution_count": 323,
   "metadata": {},
   "outputs": [
    {
     "data": {
      "text/plain": [
       "<matplotlib.image.AxesImage at 0x7fe2e5f87490>"
      ]
     },
     "execution_count": 323,
     "metadata": {},
     "output_type": "execute_result"
    },
    {
     "data": {
      "image/png": "[encoded data removed]",
      "text/plain": [
       "<Figure size 640x480 with 1 Axes>"
      ]
     },
     "metadata": {},
     "output_type": "display_data"
    }
   ],
   "source": [
    "import numpy as np\n",
    "\n",
    "# Generate the meshgrid\n",
    "b, l = np.meshgrid(np.arange(-1, 2), np.arange(-1, 1))\n",
    "\n",
    "# Define the rotation matrices\n",
    "c1 = np.array([[np.cos(np.deg2rad(45)), np.sin(np.deg2rad(45))],\n",
    "              [-np.sin(np.deg2rad(45)), np.cos(np.deg2rad(45))]])\n",
    "c2 = np.array([[np.cos(np.deg2rad(45)), -np.sin(np.deg2rad(45))],\n",
    "              [np.sin(np.deg2rad(45)), np.cos(np.deg2rad(45))]])\n",
    "\n",
    "# Reshape l and b into 2D arrays\n",
    "l_2d = l.reshape(-1, 1)\n",
    "b_2d = b.reshape(-1, 1)\n",
    "\n",
    "# Create xy\n",
    "xy = np.concatenate([np.dot(np.dot(np.concatenate([l_2d, b_2d], axis=1), c1), c1.T), \n",
    "                      np.dot(np.dot(np.concatenate([l_2d, b_2d], axis=1), c2), c2.T)], axis=0)\n",
    "\n",
    "from scipy.spatial.distance import pdist, squareform\n",
    "\n",
    "rdm = squareform(pdist(xy))\n",
    "plt.imshow(rdm)"
   ]
  },
  {
   "attachments": {},
   "cell_type": "markdown",
   "metadata": {},
   "source": [
    "gridiness"
   ]
  },
  {
   "cell_type": "code",
   "execution_count": 219,
   "metadata": {},
   "outputs": [
    {
     "data": {
      "text/plain": [
       "<matplotlib.image.AxesImage at 0x7fe2e29d23d0>"
      ]
     },
     "execution_count": 219,
     "metadata": {},
     "output_type": "execute_result"
    },
    {
     "data": {
      "image/png": "[encoded data removed]",
      "text/plain": [
       "<Figure size 640x480 with 1 Axes>"
      ]
     },
     "metadata": {},
     "output_type": "display_data"
    }
   ],
   "source": [
    "import numpy as np\n",
    "\n",
    "# Generate the meshgrid\n",
    "b, l = np.meshgrid(np.arange(-1, 2), np.arange(-1,1 ))\n",
    "\n",
    "# Define the rotation matrices\n",
    "c1 = np.array([[np.cos(np.deg2rad(270)), -np.sin(np.deg2rad(270))],\n",
    "              [-np.sin(np.deg2rad(270)), np.cos(np.deg2rad(270))]])\n",
    "c2 = np.array([[np.cos(np.deg2rad(90)), -np.sin(np.deg2rad(90))],\n",
    "              [-np.sin(np.deg2rad(90)), np.cos(np.deg2rad(90))]])\n",
    "\n",
    "# Reshape l and b into 2D arrays\n",
    "l_2d = l.reshape(-1, 1)\n",
    "b_2d = b.reshape(-1, 1)\n",
    "\n",
    "# Create xy\n",
    "xy = np.concatenate([np.dot(np.dot(np.concatenate([l_2d, b_2d], axis=1), c1), c1.T), \n",
    "                      np.dot(np.dot(np.concatenate([l_2d, b_2d], axis=1), c2), c2.T)], axis=0)\n",
    "plt.imshow(xy)\n",
    "\n",
    "from scipy.spatial.distance import pdist, squareform\n",
    "\n",
    "rdm = squareform(pdist(xy))\n",
    "plt.imshow(rdm)\n"
   ]
  },
  {
   "cell_type": "code",
   "execution_count": 174,
   "metadata": {},
   "outputs": [],
   "source": [
    "rotation_matrix = np.array([[np.cos(np.deg2rad(270)), -np.sin(np.deg2rad(270))], [np.sin(np.deg2rad(270)), np.cos(np.deg2rad(270))]])\n",
    "l @ rotation_matrix"
   ]
  },
  {
   "cell_type": "code",
   "execution_count": 173,
   "metadata": {},
   "outputs": [
    {
     "ename": "ValueError",
     "evalue": "matmul: Input operand 1 has a mismatch in its core dimension 0, with gufunc signature (n?,k),(k,m?)->(n?,m?) (size 2 is different from 25)",
     "output_type": "error",
     "traceback": [
      "\u001b[0;31m---------------------------------------------------------------------------\u001b[0m",
      "\u001b[0;31mValueError\u001b[0m                                Traceback (most recent call last)",
      "Cell \u001b[0;32mIn[173], line 26\u001b[0m\n\u001b[1;32m     24\u001b[0m \u001b[39melse\u001b[39;00m:\n\u001b[1;32m     25\u001b[0m     rotation_matrix \u001b[39m=\u001b[39m np\u001b[39m.\u001b[39marray([[np\u001b[39m.\u001b[39mcos(np\u001b[39m.\u001b[39mdeg2rad(\u001b[39m90\u001b[39m)), \u001b[39m-\u001b[39mnp\u001b[39m.\u001b[39msin(np\u001b[39m.\u001b[39mdeg2rad(\u001b[39m90\u001b[39m))], [np\u001b[39m.\u001b[39msin(np\u001b[39m.\u001b[39mdeg2rad(\u001b[39m90\u001b[39m)), np\u001b[39m.\u001b[39mcos(np\u001b[39m.\u001b[39mdeg2rad(\u001b[39m90\u001b[39m))]])\n\u001b[0;32m---> 26\u001b[0m     xy[\u001b[39m25\u001b[39m:, :] \u001b[39m=\u001b[39m xy[\u001b[39m25\u001b[39;49m:, :] \u001b[39m@\u001b[39;49m rotation_matrix\n\u001b[1;32m     28\u001b[0m \u001b[39m# Add offset\u001b[39;00m\n\u001b[1;32m     29\u001b[0m xy \u001b[39m=\u001b[39m np\u001b[39m.\u001b[39mhstack((xy, np\u001b[39m.\u001b[39mvstack((np\u001b[39m.\u001b[39mones((\u001b[39mlen\u001b[39m(b), \u001b[39m1\u001b[39m)), \u001b[39m2\u001b[39m \u001b[39m*\u001b[39m np\u001b[39m.\u001b[39mones((\u001b[39mlen\u001b[39m(b), \u001b[39m1\u001b[39m))))))\n",
      "\u001b[0;31mValueError\u001b[0m: matmul: Input operand 1 has a mismatch in its core dimension 0, with gufunc signature (n?,k),(k,m?)->(n?,m?) (size 2 is different from 25)"
     ]
    }
   ],
   "source": [
    "import numpy as np\n",
    "from scipy.spatial.distance import pdist, squareform\n",
    "\n",
    "# Define grid coordinates\n",
    "b, l = np.meshgrid(np.arange(-2, 3), np.arange(-2, 3))\n",
    "b = b.flatten()\n",
    "l = l.flatten()\n",
    "goodSubjects = ['sub-0061']\n",
    "# Initialize array to store RDMs\n",
    "rdms = np.zeros((1, 25, 25))\n",
    "\n",
    "# for ii in range(len(goodSubjects)):\n",
    "ii = 1\n",
    "# subID = goodSubjects[ii]\n",
    "boundID = 1 #rsData[subID]['code'][-1]\n",
    "\n",
    "# Create grid\n",
    "xy = np.vstack((np.vstack((l, b)), np.vstack((l, b))))\n",
    "\n",
    "# Rotate grid based on boundID\n",
    "if boundID == 3 or boundID == 4:\n",
    "    rotation_matrix = np.array([[np.cos(np.deg2rad(270)), -np.sin(np.deg2rad(270))], [np.sin(np.deg2rad(270)), np.cos(np.deg2rad(270))]])\n",
    "    xy[25:, :] = xy[25:, :] @ rotation_matrix\n",
    "else:\n",
    "    rotation_matrix = np.array([[np.cos(np.deg2rad(90)), -np.sin(np.deg2rad(90))], [np.sin(np.deg2rad(90)), np.cos(np.deg2rad(90))]])\n",
    "    xy[25:, :] = xy[25:, :] @ rotation_matrix\n",
    "\n",
    "# Add offset\n",
    "xy = np.hstack((xy, np.vstack((np.ones((len(b), 1)), 2 * np.ones((len(b), 1))))))\n",
    "\n",
    "# Compute RDM\n",
    "rdm = squareform(pdist(xy))\n",
    "\n",
    "# Expand RDM\n",
    "rdm2 = helper_expandRDM(rdm, params.num.runs)\n",
    "\n",
    "# Store results\n",
    "rdms[ii, :, :] = rdm2\n",
    "\n",
    "modelRDMs[1]['rdms'] = rdms\n",
    "modelRDMs[1]['name'] = 'gridiness - rotated'"
   ]
  }
 ],
 "metadata": {
  "kernelspec": {
   "display_name": "spacetop_datalad",
   "language": "python",
   "name": "python3"
  },
  "language_info": {
   "codemirror_mode": {
    "name": "ipython",
    "version": 3
   },
   "file_extension": ".py",
   "mimetype": "text/x-python",
   "name": "python",
   "nbconvert_exporter": "python",
   "pygments_lexer": "ipython3",
   "version": "3.9.16"
  },
  "orig_nbformat": 4
 },
 "nbformat": 4,
 "nbformat_minor": 2
}
