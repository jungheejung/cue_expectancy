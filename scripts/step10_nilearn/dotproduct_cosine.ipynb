{
 "cells": [
  {
   "cell_type": "code",
   "execution_count": null,
   "metadata": {},
   "outputs": [],
   "source": [
    "## signal\n",
    "* dot product\n",
    "* cosine similarity\n",
    "* correlation"
   ]
  },
  {
   "cell_type": "code",
   "execution_count": null,
   "metadata": {},
   "outputs": [],
   "source": []
  },
  {
   "attachments": {},
   "cell_type": "markdown",
   "metadata": {},
   "source": [
    "Resources\n",
    "* https://developers.google.com/machine-learning/clustering/similarity/measuring-similarity"
   ]
  }
 ],
 "metadata": {
  "kernelspec": {
   "display_name": "spacetop_datalad",
   "language": "python",
   "name": "python3"
  },
  "language_info": {
   "name": "python",
   "version": "3.9.12"
  },
  "orig_nbformat": 4,
  "vscode": {
   "interpreter": {
    "hash": "84c6315c5c633ad37de61bf1803ac3fc9b8c165790b101d56c165935d734a051"
   }
  }
 },
 "nbformat": 4,
 "nbformat_minor": 2
}
