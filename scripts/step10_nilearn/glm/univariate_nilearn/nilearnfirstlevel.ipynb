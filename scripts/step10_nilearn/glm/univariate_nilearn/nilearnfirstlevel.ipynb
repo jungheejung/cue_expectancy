{
 "cells": [
  {
   "cell_type": "code",
   "execution_count": null,
   "metadata": {},
   "outputs": [],
   "source": []
  },
  {
   "attachments": {},
   "cell_type": "markdown",
   "metadata": {},
   "source": [
    "Purpose of this notebook:\n",
    "https://nilearn.github.io/dev/auto_examples/02_decoding/plot_haxby_glm_decoding.html#sphx-glr-auto-examples-02-decoding-plot-haxby-glm-decoding-py\n",
    "\n",
    "https://nilearn.github.io/dev/auto_examples/04_glm_first_level/plot_design_matrix.html#sphx-glr-auto-examples-04-glm-first-level-plot-design-matrix-py"
   ]
  },
  {
   "cell_type": "code",
   "execution_count": null,
   "metadata": {},
   "outputs": [],
   "source": [
    "# By default 2nd subject will be fetched\n",
    "import numpy as np\n",
    "import pandas as pd\n",
    "from nilearn import datasets\n",
    "\n",
    "haxby_dataset = datasets.fetch_haxby()\n",
    "\n",
    "# repetition has to be known\n",
    "TR = 2.5"
   ]
  },
  {
   "attachments": {},
   "cell_type": "markdown",
   "metadata": {},
   "source": [
    "### Load the behavioral data"
   ]
  },
  {
   "cell_type": "code",
   "execution_count": null,
   "metadata": {},
   "outputs": [],
   "source": [
    "# Load target information as string and give a numerical identifier to each\n",
    "behavioral = pd.read_csv(haxby_dataset.session_target[0], sep=\" \")\n",
    "conditions = behavioral[\"labels\"].values\n",
    "\n",
    "# Record these as an array of sessions\n",
    "sessions = behavioral[\"chunks\"].values\n",
    "unique_sessions = behavioral[\"chunks\"].unique()\n",
    "\n",
    "# fMRI data: a unique file for each session\n",
    "func_filename = haxby_dataset.func[0]"
   ]
  },
  {
   "attachments": {},
   "cell_type": "markdown",
   "metadata": {},
   "source": [
    "### Build a proper event structure for each session"
   ]
  },
  {
   "cell_type": "code",
   "execution_count": null,
   "metadata": {},
   "outputs": [],
   "source": [
    "events = {}\n",
    "# events will take  the form of a dictionary of Dataframes, one per session\n",
    "for session in unique_sessions:\n",
    "    # get the condition label per session\n",
    "    conditions_session = conditions[sessions == session]\n",
    "    # get the number of scans per session, then the corresponding\n",
    "    # vector of frame times\n",
    "    n_scans = len(conditions_session)\n",
    "    frame_times = TR * np.arange(n_scans)\n",
    "    # each event last the full TR\n",
    "    duration = TR * np.ones(n_scans)\n",
    "    # Define the events object\n",
    "    events_ = pd.DataFrame(\n",
    "        {\n",
    "            \"onset\": frame_times,\n",
    "            \"trial_type\": conditions_session,\n",
    "            \"duration\": duration,\n",
    "        }\n",
    "    )\n",
    "    # remove the rest condition and insert into the dictionary\n",
    "    events[session] = events_[events_.trial_type != \"rest\"]"
   ]
  },
  {
   "cell_type": "code",
   "execution_count": null,
   "metadata": {},
   "outputs": [],
   "source": [
    "\n",
    "# TODO:\n",
    "# * extract corresponding files\n",
    "# ev-01, ev-02, ev-03, ev-04\n",
    "# concatenate into pandas\n",
    "# add motion regressor\n",
    "fmriprep_dir = '/dartfs-hpc/rc/lab/C/CANlab/labdata/data/spacetop_data/derivatives/fmriprep/results/fmriprep'\n",
    "\n",
    "fmri_file = os.path.join(fmriprep_dir, sub, ses, 'func', f'{sub}_{ses}_task-social_acq-mb8_run-{run_num}_space-MNI152NLin2009cAsym_desc-preproc_bold.nii.gz')\n",
    "confounds_file = os.path.join(fmriprep_dir, sub, ses, 'func', f'{sub}_{ses}_task-social_acq-mb8_run-{run_num}_desc-confounds_timeseries.tsv')\n",
    "confounds = pd.read_csv(confounds_file, sep = '\\t')\n",
    "filter_col = [col for col in confounds if col.startswith('motion')]\n",
    "default_csf_24dof = ['csf', 'trans_x', 'trans_x_derivative1', 'trans_x_power2', 'trans_x_derivative1_power2',\n",
    "                            'trans_y', 'trans_y_derivative1', 'trans_y_derivative1_power2', 'trans_y_power2',\n",
    "                            'trans_z', 'trans_z_derivative1', 'trans_z_derivative1_power2', 'trans_z_power2', \n",
    "                            'rot_x', 'rot_x_derivative1', 'rot_x_derivative1_power2', 'rot_x_power2', \n",
    "                            'rot_y', 'rot_y_derivative1', 'rot_y_derivative1_power2', 'rot_y_power2', \n",
    "                            'rot_z', 'rot_z_derivative1', 'rot_z_derivative1_power2', 'rot_z_power2']\n",
    "filter_col.extend(default_csf_24dof)\n",
    "dummy = pd.DataFrame(np.eye(len(confounds))).loc[:,0:5]\n",
    "dummy.rename(columns = {0:'dummy_00',\n",
    "                    1:'dummy_01',\n",
    "                    2:'dummy_02',3:'dummy_03',4:'dummy_04',5:'dummy_05'}, inplace=True)"
   ]
  },
  {
   "cell_type": "code",
   "execution_count": null,
   "metadata": {},
   "outputs": [],
   "source": [
    "\n",
    "# sub-0099_ses-04_run-06_runtype-cognitive_ev-01_evtype-cue_pmod-none.txt\n",
    "# sub-0099_ses-04_run-06_runtype-cognitive_ev-02_evtype-expect_pmod-none.txt\n",
    "# sub-0099_ses-04_run-06_runtype-cognitive_ev-03_evtype-stimulus_pmod-cue.txt\n",
    "# sub-0099_ses-04_run-06_runtype-cognitive_ev-03_evtype-stimulus_pmod-expectdemean.txt\n",
    "# sub-0099_ses-04_run-06_runtype-cognitive_ev-03_evtype-stimulus_pmod-none.txt\n",
    "# sub-0099_ses-04_run-06_runtype-cognitive_ev-03_evtype-stimulus_pmod-outcomedemean.txt\n",
    "# sub-0099_ses-04_run-06_runtype-cognitive_ev-03_evtype-stimulus_pmod-stimintensity.txt\n",
    "# sub-0099_ses-04_run-06_runtype-cognitive_ev-04_evtype-outcome_pmod-none.txt\n",
    "\n",
    "\n",
    "sub-0099_ses-04_run-05_runtype-pain_ev-01_evtype-cue_pmod-none.txt\n",
    "sub-0099_ses-04_run-05_runtype-pain_ev-02_evtype-expect_pmod-none.txt\n",
    "sub-0099_ses-04_run-05_runtype-pain_ev-03_evtype-stimulus_ttltype-plateau_pmod-none.txt\n",
    "sub-0099_ses-04_run-05_runtype-pain_ev-04_evtype-outcome_pmod-none.txt\n",
    "\n",
    "# load dataframe and subset based on conditions\n",
    "events_ = pd.DataFrame(\n",
    "    {\n",
    "        \"onset\": frame_times,\n",
    "        \"trial_type\": conditions_session,\n",
    "        \"duration\": duration,\n",
    "    }\n",
    ")"
   ]
  }
 ],
 "metadata": {
  "language_info": {
   "name": "python"
  },
  "orig_nbformat": 4
 },
 "nbformat": 4,
 "nbformat_minor": 2
}
