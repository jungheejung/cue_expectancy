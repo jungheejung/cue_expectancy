{
 "cells": [
  {
   "cell_type": "code",
   "execution_count": 12,
   "metadata": {},
   "outputs": [],
   "source": [
    "from neuromaps.datasets import fetch_annotation, available_tags\n",
    "from nilearn import image\n",
    "from neuromaps.resampling import resample_images\n",
    "from neuromaps.stats import compare_images\n"
   ]
  },
  {
   "cell_type": "code",
   "execution_count": 41,
   "metadata": {},
   "outputs": [
    {
     "name": "stdout",
     "output_type": "stream",
     "text": [
      "('abagen', 'genepc1', 'fsaverage', '10k')\n",
      "('aghourian2017', 'feobv', 'MNI152', '1mm')\n",
      "('alarkurtti2015', 'raclopride', 'MNI152', '3mm')\n",
      "('bedard2019', 'feobv', 'MNI152', '1mm')\n",
      "('beliveau2017', 'az10419369', 'MNI152', '1mm')\n",
      "('beliveau2017', 'az10419369', 'fsaverage', '164k')\n",
      "('beliveau2017', 'cimbi36', 'MNI152', '1mm')\n",
      "('beliveau2017', 'cimbi36', 'fsaverage', '164k')\n",
      "('beliveau2017', 'cumi101', 'MNI152', '1mm')\n",
      "('beliveau2017', 'cumi101', 'fsaverage', '164k')\n",
      "('beliveau2017', 'dasb', 'MNI152', '1mm')\n",
      "('beliveau2017', 'dasb', 'fsaverage', '164k')\n",
      "('beliveau2017', 'sb207145', 'MNI152', '1mm')\n",
      "('beliveau2017', 'sb207145', 'fsaverage', '164k')\n",
      "('ding2010', 'mrb', 'MNI152', '1mm')\n",
      "('dubois2015', 'abp688', 'MNI152', '1mm')\n",
      "('dukart2018', 'flumazenil', 'MNI152', '3mm')\n",
      "('dukart2018', 'fpcit', 'MNI152', '3mm')\n",
      "('fazio2016', 'madam', 'MNI152', '3mm')\n",
      "('finnema2016', 'ucbj', 'MNI152', '1mm')\n",
      "('gallezot2010', 'p943', 'MNI152', '1mm')\n",
      "('gallezot2017', 'gsk189254', 'MNI152', '1mm')\n",
      "('hcps1200', 'megalpha', 'fsLR', '4k')\n",
      "('hcps1200', 'megbeta', 'fsLR', '4k')\n",
      "('hcps1200', 'megdelta', 'fsLR', '4k')\n",
      "('hcps1200', 'meggamma1', 'fsLR', '4k')\n",
      "('hcps1200', 'meggamma2', 'fsLR', '4k')\n",
      "('hcps1200', 'megtheta', 'fsLR', '4k')\n",
      "('hcps1200', 'megtimescale', 'fsLR', '4k')\n",
      "('hcps1200', 'myelinmap', 'fsLR', '32k')\n",
      "('hcps1200', 'thickness', 'fsLR', '32k')\n",
      "('hesse2017', 'methylreboxetine', 'MNI152', '3mm')\n",
      "('hill2010', 'devexp', 'fsLR', '164k')\n",
      "('hill2010', 'evoexp', 'fsLR', '164k')\n",
      "('hillmer2016', 'flubatine', 'MNI152', '1mm')\n",
      "('jaworska2020', 'fallypride', 'MNI152', '1mm')\n",
      "('kaller2017', 'sch23390', 'MNI152', '3mm')\n",
      "('kantonen2020', 'carfentanil', 'MNI152', '3mm')\n",
      "('laurikainen2018', 'fmpepd2', 'MNI152', '1mm')\n",
      "('margulies2016', 'fcgradient01', 'fsLR', '32k')\n",
      "('margulies2016', 'fcgradient02', 'fsLR', '32k')\n",
      "('margulies2016', 'fcgradient03', 'fsLR', '32k')\n",
      "('margulies2016', 'fcgradient04', 'fsLR', '32k')\n",
      "('margulies2016', 'fcgradient05', 'fsLR', '32k')\n",
      "('margulies2016', 'fcgradient06', 'fsLR', '32k')\n",
      "('margulies2016', 'fcgradient07', 'fsLR', '32k')\n",
      "('margulies2016', 'fcgradient08', 'fsLR', '32k')\n",
      "('margulies2016', 'fcgradient09', 'fsLR', '32k')\n",
      "('margulies2016', 'fcgradient10', 'fsLR', '32k')\n",
      "('mueller2013', 'intersubjvar', 'fsLR', '164k')\n",
      "('naganawa2020', 'lsn3172176', 'MNI152', '1mm')\n",
      "('neurosynth', 'cogpc1', 'MNI152', '2mm')\n",
      "('norgaard2021', 'flumazenil', 'MNI152', '1mm')\n",
      "('norgaard2021', 'flumazenil', 'fsaverage', '164k')\n",
      "('normandin2015', 'omar', 'MNI152', '1mm')\n",
      "('radnakrishnan2018', 'gsk215083', 'MNI152', '1mm')\n",
      "('raichle', 'cbf', 'fsLR', '164k')\n",
      "('raichle', 'cbv', 'fsLR', '164k')\n",
      "('raichle', 'cmr02', 'fsLR', '164k')\n",
      "('raichle', 'cmruglu', 'fsLR', '164k')\n",
      "('reardon2018', 'scalinghcp', 'civet', '41k')\n",
      "('reardon2018', 'scalingnih', 'civet', '41k')\n",
      "('reardon2018', 'scalingpnc', 'civet', '41k')\n",
      "('rosaneto', 'abp688', 'MNI152', '1mm')\n",
      "('sandiego2015', 'flb457', 'MNI152', '1mm')\n",
      "('sasaki2012', 'fepe2i', 'MNI152', '1mm')\n",
      "('satterthwaite2014', 'meancbf', 'MNI152', '1mm')\n",
      "('savli2012', 'altanserin', 'MNI152', '3mm')\n",
      "('savli2012', 'dasb', 'MNI152', '3mm')\n",
      "('savli2012', 'p943', 'MNI152', '3mm')\n",
      "('savli2012', 'way100635', 'MNI152', '3mm')\n",
      "('smart2019', 'abp688', 'MNI152', '1mm')\n",
      "('smith2017', 'flb457', 'MNI152', '1mm')\n",
      "('sydnor2021', 'SAaxis', 'fsLR', '32k')\n",
      "('tuominen', 'feobv', 'MNI152', '2mm')\n",
      "('turtonen2020', 'carfentanil', 'MNI152', '1mm')\n",
      "('xu2020', 'FChomology', 'fsLR', '32k')\n",
      "('xu2020', 'evoexp', 'fsLR', '32k')\n"
     ]
    }
   ],
   "source": [
    "for annotation in available_annotations():\n",
    "    print(annotation)"
   ]
  },
  {
   "cell_type": "code",
   "execution_count": null,
   "metadata": {},
   "outputs": [],
   "source": []
  },
  {
   "cell_type": "code",
   "execution_count": null,
   "metadata": {},
   "outputs": [],
   "source": [
    "neurosynth = fetch_annotation(source='neurosynth')\n",
    "print(neurosynth)"
   ]
  },
  {
   "cell_type": "code",
   "execution_count": 23,
   "metadata": {},
   "outputs": [
    {
     "name": "stdout",
     "output_type": "stream",
     "text": [
      "('neurosynth', 'cogpc1', 'MNI152', '2mm')\n"
     ]
    }
   ],
   "source": [
    "for annotation in available_annotations(source='neurosynth'):\n",
    "    print(annotation)"
   ]
  },
  {
   "cell_type": "code",
   "execution_count": 40,
   "metadata": {},
   "outputs": [
    {
     "name": "stdout",
     "output_type": "stream",
     "text": [
      "('margulies2016', 'fcgradient01', 'fsLR', '32k')\n",
      "('margulies2016', 'fcgradient02', 'fsLR', '32k')\n",
      "('margulies2016', 'fcgradient03', 'fsLR', '32k')\n",
      "('margulies2016', 'fcgradient04', 'fsLR', '32k')\n",
      "('margulies2016', 'fcgradient05', 'fsLR', '32k')\n",
      "('margulies2016', 'fcgradient06', 'fsLR', '32k')\n",
      "('margulies2016', 'fcgradient07', 'fsLR', '32k')\n",
      "('margulies2016', 'fcgradient08', 'fsLR', '32k')\n",
      "('margulies2016', 'fcgradient09', 'fsLR', '32k')\n",
      "('margulies2016', 'fcgradient10', 'fsLR', '32k')\n"
     ]
    }
   ],
   "source": [
    "margulies_annot  = fetch_annotation(source='margulies2016')\n",
    "for annotation in available_annotations(source='margulies2016'):\n",
    "    print(annotation)"
   ]
  },
  {
   "cell_type": "code",
   "execution_count": 34,
   "metadata": {},
   "outputs": [],
   "source": [
    "margulies_annot  = fetch_annotation(source='margulies2016')"
   ]
  },
  {
   "cell_type": "code",
   "execution_count": 38,
   "metadata": {},
   "outputs": [],
   "source": [
    "mar01 = margulies[('margulies2016', 'fcgradient01', 'fsLR', '32k')]\n",
    "mar02 = margulies[('margulies2016', 'fcgradient02', 'fsLR', '32k')]"
   ]
  },
  {
   "cell_type": "code",
   "execution_count": 8,
   "metadata": {},
   "outputs": [
    {
     "name": "stdout",
     "output_type": "stream",
     "text": [
      "['ASL', 'MEG', 'MRI', 'PET', 'fMRI', 'functional', 'genetics', 'meta-analysis', 'receptors', 'structural']\n"
     ]
    }
   ],
   "source": [
    "print(available_tags())"
   ]
  },
  {
   "cell_type": "code",
   "execution_count": 13,
   "metadata": {},
   "outputs": [],
   "source": [
    "high_cue = '/Users/h/Documents/projects_local/sandbox/cue/sub-avg_ses-avg_run-avg_task-pain_event-stimulus_cuetype-high.nii.gz'\n",
    "cueH = image.load_img(high_cue)"
   ]
  },
  {
   "cell_type": "code",
   "execution_count": 37,
   "metadata": {},
   "outputs": [
    {
     "name": "stdout",
     "output_type": "stream",
     "text": [
      "r = 0.170\n"
     ]
    }
   ],
   "source": [
    "\n",
    "mar01_res, cue_res = resample_images(src=mar01, trg=cueH,\n",
    "                                  src_space='fsLR', trg_space='MNI152',\n",
    "                                  method='linear', resampling='downsample_only')\n",
    "\n",
    "\n",
    "corr = compare_images(mar01_res, cue_res, metric='pearsonr')\n",
    "print(f'r = {corr:.3f}')"
   ]
  },
  {
   "cell_type": "code",
   "execution_count": 39,
   "metadata": {},
   "outputs": [
    {
     "name": "stdout",
     "output_type": "stream",
     "text": [
      "r = -0.432\n"
     ]
    }
   ],
   "source": [
    "\n",
    "mar02_res, cue_res = resample_images(src=mar02, trg=cueH,\n",
    "                                  src_space='fsLR', trg_space='MNI152',\n",
    "                                  method='linear', resampling='downsample_only')\n",
    "\n",
    "\n",
    "corr = compare_images(mar02_res, cue_res, metric='pearsonr')\n",
    "print(f'r = {corr:.3f}')"
   ]
  },
  {
   "cell_type": "code",
   "execution_count": 19,
   "metadata": {},
   "outputs": [
    {
     "name": "stdout",
     "output_type": "stream",
     "text": [
      "True\n"
     ]
    }
   ],
   "source": [
    "print(cueH == cue_res)"
   ]
  }
 ],
 "metadata": {
  "kernelspec": {
   "display_name": "spacetop",
   "language": "python",
   "name": "python3"
  },
  "language_info": {
   "codemirror_mode": {
    "name": "ipython",
    "version": 3
   },
   "file_extension": ".py",
   "mimetype": "text/x-python",
   "name": "python",
   "nbconvert_exporter": "python",
   "pygments_lexer": "ipython3",
   "version": "3.11.3"
  },
  "orig_nbformat": 4
 },
 "nbformat": 4,
 "nbformat_minor": 2
}
