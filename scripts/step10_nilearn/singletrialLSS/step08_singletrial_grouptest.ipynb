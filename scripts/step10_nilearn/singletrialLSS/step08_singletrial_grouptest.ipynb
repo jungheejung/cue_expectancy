{
 "cells": [
  {
   "cell_type": "code",
   "execution_count": null,
   "metadata": {},
   "outputs": [],
   "source": [
    "## load single trials\n",
    "## average them baseed on condition of interest\n",
    "## average them within participants\n",
    "## calculate mean map\n",
    "\n",
    "contrast between high and low image\n"
   ]
  }
 ],
 "metadata": {
  "language_info": {
   "name": "python"
  },
  "orig_nbformat": 4
 },
 "nbformat": 4,
 "nbformat_minor": 2
}
