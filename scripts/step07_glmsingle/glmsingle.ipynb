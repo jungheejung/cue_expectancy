{
 "cells": [
  {
   "cell_type": "code",
   "execution_count": 1,
   "id": "99cb5e5f",
   "metadata": {},
   "outputs": [],
   "source": [
    "import numpy as np\n",
    "import pandas as pd\n",
    "import scipy\n",
    "import scipy.stats as stats\n",
    "import scipy.io as sio\n",
    "import matplotlib.pyplot as plt\n",
    "import nibabel as nib\n",
    "import nilearn\n",
    "from nilearn import image\n",
    "from pathlib import Path \n",
    "import itertools\n",
    "\n",
    "import os, sys, glob, re\n",
    "from os.path import join, exists, split\n",
    "import urllib.request\n",
    "import copy\n",
    "import warnings\n",
    "from tqdm import tqdm\n",
    "from pprint import pprint\n",
    "warnings.filterwarnings('ignore')\n",
    "import time\n",
    "\n",
    "import glmsingle\n",
    "from glmsingle.glmsingle import GLM_single"
   ]
  },
  {
   "cell_type": "code",
   "execution_count": 2,
   "id": "d7f925c0",
   "metadata": {},
   "outputs": [],
   "source": [
    "__author__ = \"Heejung Jung\"\n",
    "__copyright__ = \"Spatial Topology Project\"\n",
    "__credits__ = [\"Heejung\"] # people who reported bug fixes, made suggestions, etc. but did not actually write the code.\n",
    "__license__ = \"MIT\"\n",
    "__version__ = \"0.0.1\"\n",
    "__maintainer__ = \"Heejung Jung\"\n",
    "__email__ = \"heejung.jung@colorado.edu\"\n",
    "__status__ = \"Development\" "
   ]
  },
  {
   "cell_type": "code",
   "execution_count": 3,
   "id": "98edb9c6",
   "metadata": {},
   "outputs": [],
   "source": [
    "cluster = 1\n",
    "if cluster:\n",
    "    glmsingle_dir = '/dartfs-hpc/rc/lab/C/CANlab/modules/GLMsingle'\n",
    "#     fmriprep_dir = '/dartfs-hpc/rc/lab/C/CANlab/labdata/data/spacetop/derivatives/fmriprep'\n",
    "    fmriprep_dir = '/dartfs-hpc/rc/lab/C/CANlab/labdata/data/spacetop_data/derivatives/fmriprep/results/fmriprep'\n",
    "    current_dir = os.getcwd()\n",
    "    main_dir = Path(current_dir).parents[1] # discovery: /dartfs-hpc/rc/lab/C/CANlab/labdata/projects/spacetop_projects_social\n",
    "else:\n",
    "    glmsingle_dir = '/dartfs-hpc/rc/lab/C/CANlab/modules/GLMsingle'\n",
    "    fmriprep_dir = '/Volumes/spacetop/derivatives/fmriprep'\n",
    "    main_dir = '/Volumes/spacetop_projects_social'"
   ]
  },
  {
   "cell_type": "code",
   "execution_count": 4,
   "id": "74eeccac",
   "metadata": {},
   "outputs": [],
   "source": [
    "main_dir = '/dartfs-hpc/rc/lab/C/CANlab/labdata/projects/spacetop_projects_social'"
   ]
  },
  {
   "cell_type": "code",
   "execution_count": 5,
   "id": "ca62ccea",
   "metadata": {},
   "outputs": [
    {
     "name": "stdout",
     "output_type": "stream",
     "text": [
      "directory to save example dataset:\n",
      "\t/dartfs-hpc/rc/lab/C/CANlab/labdata/projects/spacetop_projects_social/analysis/fmri/glmsingle/data\n",
      "\n",
      "directory to save example1 outputs:\n",
      "\t/dartfs-hpc/rc/lab/C/CANlab/labdata/projects/spacetop_projects_social/analysis/fmri/glmsingle/output\n",
      "\n"
     ]
    }
   ],
   "source": [
    "datadir = join(main_dir,'analysis','fmri','glmsingle','data')\n",
    "outputdir = join(main_dir,'analysis','fmri','glmsingle','output')\n",
    "Path(datadir).mkdir(parents=True, exist_ok=True)\n",
    "Path(outputdir).mkdir(parents=True, exist_ok=True)\n",
    "print(f'directory to save example dataset:\\n\\t{datadir}\\n')\n",
    "print(f'directory to save example1 outputs:\\n\\t{outputdir}\\n')"
   ]
  },
  {
   "cell_type": "code",
   "execution_count": 6,
   "id": "b845663b",
   "metadata": {},
   "outputs": [],
   "source": [
    "onset_dir = '/dartfs-hpc/rc/lab/C/CANlab/labdata/projects/spacetop_projects_social/data/d03_onset/onset02_SPM'\n",
    "# structure onset_dir/{sub}/{ses}/sub-0061_ses-04_task-social_run-03-pain_events_ttl.tsv"
   ]
  },
  {
   "cell_type": "code",
   "execution_count": 24,
   "id": "5cb3aa36",
   "metadata": {},
   "outputs": [],
   "source": [
    "tl_key = 'plateau'\n",
    "sub_ind = [61]\n",
    "#ses = 'ses-04'\n",
    "ttl_key = 'plateau'\n",
    "task = 'pain'\n",
    "ses_list = [1,3,4]\n",
    "ttl_dir = {\n",
    "    'early':'d06_singletrial_SPM_01-pain-early',\n",
    "    'late':'d06_singletrial_SPM_02-pain-late',\n",
    "    'post':'d06_singletrial_SPM_03-pain-post',\n",
    "    'plateau':'d06_singletrial_SPM_04-pain-plateau'\n",
    "}\n",
    "# ses = sys.argv[2]\n",
    "design = []\n",
    "extra = []\n",
    "data = []\n",
    "ses_indicator = []"
   ]
  },
  {
   "cell_type": "code",
   "execution_count": 10,
   "id": "145b0eb5",
   "metadata": {},
   "outputs": [
    {
     "data": {
      "text/plain": [
       "[(61, 1), (61, 3), (61, 4)]"
      ]
     },
     "execution_count": 10,
     "metadata": {},
     "output_type": "execute_result"
    }
   ],
   "source": [
    "sub_ses"
   ]
  },
  {
   "cell_type": "code",
   "execution_count": 8,
   "id": "aca41058",
   "metadata": {},
   "outputs": [],
   "source": [
    "sub_ses = list(itertools.product(sub_ind, ses_list))\n",
    "for i, (sub_ind, ses_ind) in enumerate(sub_ses):\n",
    "    sub = f'sub-{sub_ind:04d}'\n",
    "    ses = f'ses-{ses_ind:02d}'\n",
    "#    /sub-0061/ses-04/sub-0061_ses-04_task-social_run-06-pain_events_ttl.tsv\n",
    "    beh_list = sorted(glob.glob(join(onset_dir,  sub, ses,  f\"{sub}_{ses}_task-social_run-*-pain_events_ttl.tsv\")))\n",
    "    #beh_list = glob.glob(join(main_dir, 'data', 'dartmouth', 'd02_preprocessed', sub, ses,  f\"{sub}_{ses}_task-social_run-*-pain_beh.csv\"))\n",
    "    Path(join(datadir, sub)).mkdir(parents=True, exist_ok=True)\n",
    "    Path(join(outputdir, sub)).mkdir(parents=True, exist_ok=True)\n"
   ]
  },
  {
   "cell_type": "code",
   "execution_count": 9,
   "id": "2548fb06",
   "metadata": {},
   "outputs": [
    {
     "data": {
      "text/plain": [
       "['/dartfs-hpc/rc/lab/C/CANlab/labdata/projects/spacetop_projects_social/data/d03_onset/onset02_SPM/sub-0061/ses-04/sub-0061_ses-04_task-social_run-03-pain_events_ttl.tsv',\n",
       " '/dartfs-hpc/rc/lab/C/CANlab/labdata/projects/spacetop_projects_social/data/d03_onset/onset02_SPM/sub-0061/ses-04/sub-0061_ses-04_task-social_run-06-pain_events_ttl.tsv']"
      ]
     },
     "execution_count": 9,
     "metadata": {},
     "output_type": "execute_result"
    }
   ],
   "source": [
    "beh_list"
   ]
  },
  {
   "cell_type": "code",
   "execution_count": 88,
   "id": "f02e16a7",
   "metadata": {},
   "outputs": [],
   "source": [
    "beh_fname = beh_list[0]"
   ]
  },
  {
   "cell_type": "code",
   "execution_count": 89,
   "id": "7ee65f7c",
   "metadata": {},
   "outputs": [],
   "source": [
    "    ses_num = int(re.findall('\\d+', [match for match in os.path.basename(beh_fname).split('_') if \"ses\" in match][0])[0])\n",
    "    run_num = int(re.findall('\\d+', [match for match in os.path.basename(beh_fname).split('_') if \"run\" in match][0])[0])\n",
    "    ses = 'ses-{:02d}'.format(ses_num)\n",
    "    run = 'run-{:02d}'.format(run_num)\n",
    "\n",
    "    # load csv and clean \n",
    "#     beh = pd.read_csv(beh_fname)\n",
    "    # ttl = pd.read_csv(join(main_dir, 'data', 'dartmouth', ttl_dir[ttl_key], sub, f\"{sub}_singletrial_{ttl_key}.csv\"))\n",
    "    ttl = pd.read_csv(join(main_dir, 'data', 'd03_onset', 'onset03_SPMsingletrial_24dof', sub, f\"{sub}_singletrial_{ttl_key}.csv\"))\n",
    "    # NOTE: select only trials that start with \"stim\"\n",
    "    run_df = ttl[((ttl['ses'] == ses_num)& (ttl['run'] == run_num) & (ttl['ev'] == 'stim'))]\n",
    "    run_df.insert(2, 'cond_name', np.nan)\n",
    "    # building <design> from glmsingle _______________________________________________________________\n",
    "    run_df.loc[((run_df['cue_type'] == 'low_cue') & (run_df['stim_type']  =='low_stim')), 'cond_name'] = int(0)\n",
    "    run_df.loc[((run_df['cue_type'] == 'low_cue') & (run_df['stim_type']  =='med_stim')), 'cond_name'] = int(1)\n",
    "    run_df.loc[((run_df['cue_type'] == 'low_cue') & (run_df['stim_type']  =='high_stim')),'cond_name'] = int(2)\n",
    "    run_df.loc[((run_df['cue_type'] == 'high_cue') & (run_df['stim_type'] =='low_stim')), 'cond_name'] = int(3)\n",
    "    run_df.loc[((run_df['cue_type'] == 'high_cue') & (run_df['stim_type'] =='med_stim')), 'cond_name'] = int(4)\n",
    "    run_df.loc[((run_df['cue_type'] == 'high_cue') & (run_df['stim_type'] =='high_stim')),'cond_name'] = int(5)\n"
   ]
  },
  {
   "cell_type": "code",
   "execution_count": 90,
   "id": "19ef78e1",
   "metadata": {},
   "outputs": [
    {
     "data": {
      "text/html": [
       "<div>\n",
       "<style scoped>\n",
       "    .dataframe tbody tr th:only-of-type {\n",
       "        vertical-align: middle;\n",
       "    }\n",
       "\n",
       "    .dataframe tbody tr th {\n",
       "        vertical-align: top;\n",
       "    }\n",
       "\n",
       "    .dataframe thead th {\n",
       "        text-align: right;\n",
       "    }\n",
       "</style>\n",
       "<table border=\"1\" class=\"dataframe\">\n",
       "  <thead>\n",
       "    <tr style=\"text-align: right;\">\n",
       "      <th></th>\n",
       "      <th>Unnamed: 0</th>\n",
       "      <th>index</th>\n",
       "      <th>cond_name</th>\n",
       "      <th>nifti_name</th>\n",
       "      <th>sub</th>\n",
       "      <th>ses</th>\n",
       "      <th>run</th>\n",
       "      <th>run_type</th>\n",
       "      <th>ev</th>\n",
       "      <th>num</th>\n",
       "      <th>...</th>\n",
       "      <th>dur</th>\n",
       "      <th>mod</th>\n",
       "      <th>regressor</th>\n",
       "      <th>cue_type</th>\n",
       "      <th>stim_type</th>\n",
       "      <th>expect_rating</th>\n",
       "      <th>actual_rating</th>\n",
       "      <th>cue_con</th>\n",
       "      <th>stim_lin</th>\n",
       "      <th>stim_quad</th>\n",
       "    </tr>\n",
       "  </thead>\n",
       "  <tbody>\n",
       "    <tr>\n",
       "      <th>740</th>\n",
       "      <td>740</td>\n",
       "      <td>12</td>\n",
       "      <td>3.0</td>\n",
       "      <td>sub-0061_ses-04_run-03-pain-plateau_ev-stim-0001</td>\n",
       "      <td>61</td>\n",
       "      <td>4</td>\n",
       "      <td>3</td>\n",
       "      <td>pain-plateau</td>\n",
       "      <td>stim</td>\n",
       "      <td>1.0</td>\n",
       "      <td>...</td>\n",
       "      <td>5</td>\n",
       "      <td>1.0</td>\n",
       "      <td>True</td>\n",
       "      <td>high_cue</td>\n",
       "      <td>low_stim</td>\n",
       "      <td>68.787380</td>\n",
       "      <td>60.603947</td>\n",
       "      <td>1.0</td>\n",
       "      <td>-1.0</td>\n",
       "      <td>1.0</td>\n",
       "    </tr>\n",
       "    <tr>\n",
       "      <th>741</th>\n",
       "      <td>741</td>\n",
       "      <td>13</td>\n",
       "      <td>1.0</td>\n",
       "      <td>sub-0061_ses-04_run-03-pain-plateau_ev-stim-0002</td>\n",
       "      <td>61</td>\n",
       "      <td>4</td>\n",
       "      <td>3</td>\n",
       "      <td>pain-plateau</td>\n",
       "      <td>stim</td>\n",
       "      <td>2.0</td>\n",
       "      <td>...</td>\n",
       "      <td>5</td>\n",
       "      <td>1.0</td>\n",
       "      <td>True</td>\n",
       "      <td>low_cue</td>\n",
       "      <td>med_stim</td>\n",
       "      <td>114.196253</td>\n",
       "      <td>46.952509</td>\n",
       "      <td>-1.0</td>\n",
       "      <td>0.0</td>\n",
       "      <td>-2.0</td>\n",
       "    </tr>\n",
       "    <tr>\n",
       "      <th>742</th>\n",
       "      <td>742</td>\n",
       "      <td>14</td>\n",
       "      <td>5.0</td>\n",
       "      <td>sub-0061_ses-04_run-03-pain-plateau_ev-stim-0003</td>\n",
       "      <td>61</td>\n",
       "      <td>4</td>\n",
       "      <td>3</td>\n",
       "      <td>pain-plateau</td>\n",
       "      <td>stim</td>\n",
       "      <td>3.0</td>\n",
       "      <td>...</td>\n",
       "      <td>5</td>\n",
       "      <td>1.0</td>\n",
       "      <td>True</td>\n",
       "      <td>high_cue</td>\n",
       "      <td>high_stim</td>\n",
       "      <td>29.859016</td>\n",
       "      <td>15.275487</td>\n",
       "      <td>1.0</td>\n",
       "      <td>1.0</td>\n",
       "      <td>1.0</td>\n",
       "    </tr>\n",
       "    <tr>\n",
       "      <th>743</th>\n",
       "      <td>743</td>\n",
       "      <td>15</td>\n",
       "      <td>2.0</td>\n",
       "      <td>sub-0061_ses-04_run-03-pain-plateau_ev-stim-0004</td>\n",
       "      <td>61</td>\n",
       "      <td>4</td>\n",
       "      <td>3</td>\n",
       "      <td>pain-plateau</td>\n",
       "      <td>stim</td>\n",
       "      <td>4.0</td>\n",
       "      <td>...</td>\n",
       "      <td>5</td>\n",
       "      <td>1.0</td>\n",
       "      <td>True</td>\n",
       "      <td>low_cue</td>\n",
       "      <td>high_stim</td>\n",
       "      <td>91.840195</td>\n",
       "      <td>40.702613</td>\n",
       "      <td>-1.0</td>\n",
       "      <td>1.0</td>\n",
       "      <td>1.0</td>\n",
       "    </tr>\n",
       "    <tr>\n",
       "      <th>744</th>\n",
       "      <td>744</td>\n",
       "      <td>16</td>\n",
       "      <td>3.0</td>\n",
       "      <td>sub-0061_ses-04_run-03-pain-plateau_ev-stim-0005</td>\n",
       "      <td>61</td>\n",
       "      <td>4</td>\n",
       "      <td>3</td>\n",
       "      <td>pain-plateau</td>\n",
       "      <td>stim</td>\n",
       "      <td>5.0</td>\n",
       "      <td>...</td>\n",
       "      <td>5</td>\n",
       "      <td>1.0</td>\n",
       "      <td>True</td>\n",
       "      <td>high_cue</td>\n",
       "      <td>low_stim</td>\n",
       "      <td>83.166563</td>\n",
       "      <td>25.641006</td>\n",
       "      <td>1.0</td>\n",
       "      <td>-1.0</td>\n",
       "      <td>1.0</td>\n",
       "    </tr>\n",
       "    <tr>\n",
       "      <th>745</th>\n",
       "      <td>745</td>\n",
       "      <td>17</td>\n",
       "      <td>4.0</td>\n",
       "      <td>sub-0061_ses-04_run-03-pain-plateau_ev-stim-0006</td>\n",
       "      <td>61</td>\n",
       "      <td>4</td>\n",
       "      <td>3</td>\n",
       "      <td>pain-plateau</td>\n",
       "      <td>stim</td>\n",
       "      <td>6.0</td>\n",
       "      <td>...</td>\n",
       "      <td>5</td>\n",
       "      <td>1.0</td>\n",
       "      <td>True</td>\n",
       "      <td>high_cue</td>\n",
       "      <td>med_stim</td>\n",
       "      <td>33.261429</td>\n",
       "      <td>2.318401</td>\n",
       "      <td>1.0</td>\n",
       "      <td>0.0</td>\n",
       "      <td>-2.0</td>\n",
       "    </tr>\n",
       "    <tr>\n",
       "      <th>746</th>\n",
       "      <td>746</td>\n",
       "      <td>18</td>\n",
       "      <td>2.0</td>\n",
       "      <td>sub-0061_ses-04_run-03-pain-plateau_ev-stim-0007</td>\n",
       "      <td>61</td>\n",
       "      <td>4</td>\n",
       "      <td>3</td>\n",
       "      <td>pain-plateau</td>\n",
       "      <td>stim</td>\n",
       "      <td>7.0</td>\n",
       "      <td>...</td>\n",
       "      <td>5</td>\n",
       "      <td>1.0</td>\n",
       "      <td>True</td>\n",
       "      <td>low_cue</td>\n",
       "      <td>high_stim</td>\n",
       "      <td>17.998695</td>\n",
       "      <td>8.359153</td>\n",
       "      <td>-1.0</td>\n",
       "      <td>1.0</td>\n",
       "      <td>1.0</td>\n",
       "    </tr>\n",
       "    <tr>\n",
       "      <th>747</th>\n",
       "      <td>747</td>\n",
       "      <td>19</td>\n",
       "      <td>4.0</td>\n",
       "      <td>sub-0061_ses-04_run-03-pain-plateau_ev-stim-0008</td>\n",
       "      <td>61</td>\n",
       "      <td>4</td>\n",
       "      <td>3</td>\n",
       "      <td>pain-plateau</td>\n",
       "      <td>stim</td>\n",
       "      <td>8.0</td>\n",
       "      <td>...</td>\n",
       "      <td>5</td>\n",
       "      <td>1.0</td>\n",
       "      <td>True</td>\n",
       "      <td>high_cue</td>\n",
       "      <td>med_stim</td>\n",
       "      <td>42.614056</td>\n",
       "      <td>16.103584</td>\n",
       "      <td>1.0</td>\n",
       "      <td>0.0</td>\n",
       "      <td>-2.0</td>\n",
       "    </tr>\n",
       "    <tr>\n",
       "      <th>748</th>\n",
       "      <td>748</td>\n",
       "      <td>20</td>\n",
       "      <td>0.0</td>\n",
       "      <td>sub-0061_ses-04_run-03-pain-plateau_ev-stim-0009</td>\n",
       "      <td>61</td>\n",
       "      <td>4</td>\n",
       "      <td>3</td>\n",
       "      <td>pain-plateau</td>\n",
       "      <td>stim</td>\n",
       "      <td>9.0</td>\n",
       "      <td>...</td>\n",
       "      <td>5</td>\n",
       "      <td>1.0</td>\n",
       "      <td>True</td>\n",
       "      <td>low_cue</td>\n",
       "      <td>low_stim</td>\n",
       "      <td>81.902508</td>\n",
       "      <td>16.039943</td>\n",
       "      <td>-1.0</td>\n",
       "      <td>-1.0</td>\n",
       "      <td>1.0</td>\n",
       "    </tr>\n",
       "    <tr>\n",
       "      <th>749</th>\n",
       "      <td>749</td>\n",
       "      <td>21</td>\n",
       "      <td>0.0</td>\n",
       "      <td>sub-0061_ses-04_run-03-pain-plateau_ev-stim-0010</td>\n",
       "      <td>61</td>\n",
       "      <td>4</td>\n",
       "      <td>3</td>\n",
       "      <td>pain-plateau</td>\n",
       "      <td>stim</td>\n",
       "      <td>10.0</td>\n",
       "      <td>...</td>\n",
       "      <td>5</td>\n",
       "      <td>1.0</td>\n",
       "      <td>True</td>\n",
       "      <td>low_cue</td>\n",
       "      <td>low_stim</td>\n",
       "      <td>4.610649</td>\n",
       "      <td>44.183876</td>\n",
       "      <td>-1.0</td>\n",
       "      <td>-1.0</td>\n",
       "      <td>1.0</td>\n",
       "    </tr>\n",
       "    <tr>\n",
       "      <th>750</th>\n",
       "      <td>750</td>\n",
       "      <td>22</td>\n",
       "      <td>5.0</td>\n",
       "      <td>sub-0061_ses-04_run-03-pain-plateau_ev-stim-0011</td>\n",
       "      <td>61</td>\n",
       "      <td>4</td>\n",
       "      <td>3</td>\n",
       "      <td>pain-plateau</td>\n",
       "      <td>stim</td>\n",
       "      <td>11.0</td>\n",
       "      <td>...</td>\n",
       "      <td>5</td>\n",
       "      <td>1.0</td>\n",
       "      <td>True</td>\n",
       "      <td>high_cue</td>\n",
       "      <td>high_stim</td>\n",
       "      <td>66.769842</td>\n",
       "      <td>27.909290</td>\n",
       "      <td>1.0</td>\n",
       "      <td>1.0</td>\n",
       "      <td>1.0</td>\n",
       "    </tr>\n",
       "    <tr>\n",
       "      <th>751</th>\n",
       "      <td>751</td>\n",
       "      <td>23</td>\n",
       "      <td>1.0</td>\n",
       "      <td>sub-0061_ses-04_run-03-pain-plateau_ev-stim-0012</td>\n",
       "      <td>61</td>\n",
       "      <td>4</td>\n",
       "      <td>3</td>\n",
       "      <td>pain-plateau</td>\n",
       "      <td>stim</td>\n",
       "      <td>12.0</td>\n",
       "      <td>...</td>\n",
       "      <td>5</td>\n",
       "      <td>1.0</td>\n",
       "      <td>True</td>\n",
       "      <td>low_cue</td>\n",
       "      <td>med_stim</td>\n",
       "      <td>21.070745</td>\n",
       "      <td>13.029195</td>\n",
       "      <td>-1.0</td>\n",
       "      <td>0.0</td>\n",
       "      <td>-2.0</td>\n",
       "    </tr>\n",
       "  </tbody>\n",
       "</table>\n",
       "<p>12 rows × 21 columns</p>\n",
       "</div>"
      ],
      "text/plain": [
       "     Unnamed: 0  index  cond_name  \\\n",
       "740         740     12        3.0   \n",
       "741         741     13        1.0   \n",
       "742         742     14        5.0   \n",
       "743         743     15        2.0   \n",
       "744         744     16        3.0   \n",
       "745         745     17        4.0   \n",
       "746         746     18        2.0   \n",
       "747         747     19        4.0   \n",
       "748         748     20        0.0   \n",
       "749         749     21        0.0   \n",
       "750         750     22        5.0   \n",
       "751         751     23        1.0   \n",
       "\n",
       "                                           nifti_name  sub  ses  run  \\\n",
       "740  sub-0061_ses-04_run-03-pain-plateau_ev-stim-0001   61    4    3   \n",
       "741  sub-0061_ses-04_run-03-pain-plateau_ev-stim-0002   61    4    3   \n",
       "742  sub-0061_ses-04_run-03-pain-plateau_ev-stim-0003   61    4    3   \n",
       "743  sub-0061_ses-04_run-03-pain-plateau_ev-stim-0004   61    4    3   \n",
       "744  sub-0061_ses-04_run-03-pain-plateau_ev-stim-0005   61    4    3   \n",
       "745  sub-0061_ses-04_run-03-pain-plateau_ev-stim-0006   61    4    3   \n",
       "746  sub-0061_ses-04_run-03-pain-plateau_ev-stim-0007   61    4    3   \n",
       "747  sub-0061_ses-04_run-03-pain-plateau_ev-stim-0008   61    4    3   \n",
       "748  sub-0061_ses-04_run-03-pain-plateau_ev-stim-0009   61    4    3   \n",
       "749  sub-0061_ses-04_run-03-pain-plateau_ev-stim-0010   61    4    3   \n",
       "750  sub-0061_ses-04_run-03-pain-plateau_ev-stim-0011   61    4    3   \n",
       "751  sub-0061_ses-04_run-03-pain-plateau_ev-stim-0012   61    4    3   \n",
       "\n",
       "         run_type    ev   num  ... dur  mod  regressor  cue_type  stim_type  \\\n",
       "740  pain-plateau  stim   1.0  ...   5  1.0       True  high_cue   low_stim   \n",
       "741  pain-plateau  stim   2.0  ...   5  1.0       True   low_cue   med_stim   \n",
       "742  pain-plateau  stim   3.0  ...   5  1.0       True  high_cue  high_stim   \n",
       "743  pain-plateau  stim   4.0  ...   5  1.0       True   low_cue  high_stim   \n",
       "744  pain-plateau  stim   5.0  ...   5  1.0       True  high_cue   low_stim   \n",
       "745  pain-plateau  stim   6.0  ...   5  1.0       True  high_cue   med_stim   \n",
       "746  pain-plateau  stim   7.0  ...   5  1.0       True   low_cue  high_stim   \n",
       "747  pain-plateau  stim   8.0  ...   5  1.0       True  high_cue   med_stim   \n",
       "748  pain-plateau  stim   9.0  ...   5  1.0       True   low_cue   low_stim   \n",
       "749  pain-plateau  stim  10.0  ...   5  1.0       True   low_cue   low_stim   \n",
       "750  pain-plateau  stim  11.0  ...   5  1.0       True  high_cue  high_stim   \n",
       "751  pain-plateau  stim  12.0  ...   5  1.0       True   low_cue   med_stim   \n",
       "\n",
       "    expect_rating  actual_rating  cue_con  stim_lin  stim_quad  \n",
       "740     68.787380      60.603947      1.0      -1.0        1.0  \n",
       "741    114.196253      46.952509     -1.0       0.0       -2.0  \n",
       "742     29.859016      15.275487      1.0       1.0        1.0  \n",
       "743     91.840195      40.702613     -1.0       1.0        1.0  \n",
       "744     83.166563      25.641006      1.0      -1.0        1.0  \n",
       "745     33.261429       2.318401      1.0       0.0       -2.0  \n",
       "746     17.998695       8.359153     -1.0       1.0        1.0  \n",
       "747     42.614056      16.103584      1.0       0.0       -2.0  \n",
       "748     81.902508      16.039943     -1.0      -1.0        1.0  \n",
       "749      4.610649      44.183876     -1.0      -1.0        1.0  \n",
       "750     66.769842      27.909290      1.0       1.0        1.0  \n",
       "751     21.070745      13.029195     -1.0       0.0       -2.0  \n",
       "\n",
       "[12 rows x 21 columns]"
      ]
     },
     "execution_count": 90,
     "metadata": {},
     "output_type": "execute_result"
    }
   ],
   "source": [
    "run_df"
   ]
  },
  {
   "cell_type": "code",
   "execution_count": 91,
   "id": "647b6525",
   "metadata": {},
   "outputs": [],
   "source": [
    "beh = pd.read_csv(beh_fname, sep = '\\t')"
   ]
  },
  {
   "cell_type": "code",
   "execution_count": 92,
   "id": "cc3c45d4",
   "metadata": {},
   "outputs": [
    {
     "data": {
      "text/html": [
       "<div>\n",
       "<style scoped>\n",
       "    .dataframe tbody tr th:only-of-type {\n",
       "        vertical-align: middle;\n",
       "    }\n",
       "\n",
       "    .dataframe tbody tr th {\n",
       "        vertical-align: top;\n",
       "    }\n",
       "\n",
       "    .dataframe thead th {\n",
       "        text-align: right;\n",
       "    }\n",
       "</style>\n",
       "<table border=\"1\" class=\"dataframe\">\n",
       "  <thead>\n",
       "    <tr style=\"text-align: right;\">\n",
       "      <th></th>\n",
       "      <th>event01_cue_onset</th>\n",
       "      <th>event02_expect_displayonset</th>\n",
       "      <th>event03_stimulus_displayonset</th>\n",
       "      <th>event04_actual_displayonset</th>\n",
       "      <th>param_cue_type</th>\n",
       "      <th>param_stimulus_type</th>\n",
       "      <th>event02_expect_RT</th>\n",
       "      <th>event02_expect_angle</th>\n",
       "      <th>event04_actual_RT</th>\n",
       "      <th>event04_actual_angle</th>\n",
       "      <th>...</th>\n",
       "      <th>event04_actual_angle_demean</th>\n",
       "      <th>TTL1</th>\n",
       "      <th>TTL2</th>\n",
       "      <th>TTL3</th>\n",
       "      <th>TTL4</th>\n",
       "      <th>event03_stim_earlyphase_0-4500ms</th>\n",
       "      <th>event03_stim_latephase_4500-9000ms</th>\n",
       "      <th>event03_stim_poststim_9000-135000ms</th>\n",
       "      <th>event03_stim_ttl-plateau</th>\n",
       "      <th>event03_stim_ttl-plateau-dur</th>\n",
       "    </tr>\n",
       "  </thead>\n",
       "  <tbody>\n",
       "    <tr>\n",
       "      <th>0</th>\n",
       "      <td>8.08187</td>\n",
       "      <td>9.99925</td>\n",
       "      <td>21.36786</td>\n",
       "      <td>39.59362</td>\n",
       "      <td>high_cue</td>\n",
       "      <td>low_stim</td>\n",
       "      <td>4.000000</td>\n",
       "      <td>68.787380</td>\n",
       "      <td>2.155150</td>\n",
       "      <td>60.603947</td>\n",
       "      <td>...</td>\n",
       "      <td>60.603947</td>\n",
       "      <td>21.88800</td>\n",
       "      <td>24.58325</td>\n",
       "      <td>29.58225</td>\n",
       "      <td>32.85125</td>\n",
       "      <td>21.88800</td>\n",
       "      <td>26.38800</td>\n",
       "      <td>30.88800</td>\n",
       "      <td>24.58325</td>\n",
       "      <td>4.99900</td>\n",
       "    </tr>\n",
       "    <tr>\n",
       "      <th>1</th>\n",
       "      <td>52.38172</td>\n",
       "      <td>54.99937</td>\n",
       "      <td>67.03637</td>\n",
       "      <td>83.89348</td>\n",
       "      <td>low_cue</td>\n",
       "      <td>med_stim</td>\n",
       "      <td>2.134315</td>\n",
       "      <td>114.196253</td>\n",
       "      <td>2.055446</td>\n",
       "      <td>46.952509</td>\n",
       "      <td>...</td>\n",
       "      <td>46.952509</td>\n",
       "      <td>67.56975</td>\n",
       "      <td>70.43400</td>\n",
       "      <td>75.43400</td>\n",
       "      <td>78.93700</td>\n",
       "      <td>67.56975</td>\n",
       "      <td>72.06975</td>\n",
       "      <td>76.56975</td>\n",
       "      <td>70.43400</td>\n",
       "      <td>5.00000</td>\n",
       "    </tr>\n",
       "    <tr>\n",
       "      <th>2</th>\n",
       "      <td>93.19695</td>\n",
       "      <td>96.09803</td>\n",
       "      <td>103.60471</td>\n",
       "      <td>116.38893</td>\n",
       "      <td>high_cue</td>\n",
       "      <td>high_stim</td>\n",
       "      <td>2.967906</td>\n",
       "      <td>29.859016</td>\n",
       "      <td>3.126508</td>\n",
       "      <td>15.275487</td>\n",
       "      <td>...</td>\n",
       "      <td>15.275487</td>\n",
       "      <td>104.15150</td>\n",
       "      <td>107.19175</td>\n",
       "      <td>112.19200</td>\n",
       "      <td>115.82975</td>\n",
       "      <td>104.15150</td>\n",
       "      <td>108.65150</td>\n",
       "      <td>113.15150</td>\n",
       "      <td>107.19175</td>\n",
       "      <td>5.00025</td>\n",
       "    </tr>\n",
       "    <tr>\n",
       "      <th>3</th>\n",
       "      <td>123.39154</td>\n",
       "      <td>126.69277</td>\n",
       "      <td>132.72173</td>\n",
       "      <td>142.99885</td>\n",
       "      <td>low_cue</td>\n",
       "      <td>high_stim</td>\n",
       "      <td>2.372714</td>\n",
       "      <td>91.840195</td>\n",
       "      <td>1.500699</td>\n",
       "      <td>40.702613</td>\n",
       "      <td>...</td>\n",
       "      <td>40.702613</td>\n",
       "      <td>133.26250</td>\n",
       "      <td>136.30175</td>\n",
       "      <td>141.30200</td>\n",
       "      <td>145.10525</td>\n",
       "      <td>133.26250</td>\n",
       "      <td>137.76250</td>\n",
       "      <td>142.26250</td>\n",
       "      <td>136.30175</td>\n",
       "      <td>5.00025</td>\n",
       "    </tr>\n",
       "    <tr>\n",
       "      <th>4</th>\n",
       "      <td>151.28527</td>\n",
       "      <td>153.10262</td>\n",
       "      <td>165.13918</td>\n",
       "      <td>177.69512</td>\n",
       "      <td>high_cue</td>\n",
       "      <td>low_stim</td>\n",
       "      <td>2.267674</td>\n",
       "      <td>83.166563</td>\n",
       "      <td>2.120284</td>\n",
       "      <td>25.641006</td>\n",
       "      <td>...</td>\n",
       "      <td>25.641006</td>\n",
       "      <td>165.67400</td>\n",
       "      <td>168.40300</td>\n",
       "      <td>173.40325</td>\n",
       "      <td>176.75625</td>\n",
       "      <td>165.67400</td>\n",
       "      <td>170.17400</td>\n",
       "      <td>174.67400</td>\n",
       "      <td>168.40300</td>\n",
       "      <td>5.00025</td>\n",
       "    </tr>\n",
       "    <tr>\n",
       "      <th>5</th>\n",
       "      <td>188.38244</td>\n",
       "      <td>190.49990</td>\n",
       "      <td>196.53703</td>\n",
       "      <td>207.48957</td>\n",
       "      <td>high_cue</td>\n",
       "      <td>med_stim</td>\n",
       "      <td>2.134362</td>\n",
       "      <td>33.261429</td>\n",
       "      <td>3.109264</td>\n",
       "      <td>2.318401</td>\n",
       "      <td>...</td>\n",
       "      <td>2.318401</td>\n",
       "      <td>197.07550</td>\n",
       "      <td>199.97075</td>\n",
       "      <td>204.97100</td>\n",
       "      <td>208.59325</td>\n",
       "      <td>197.07550</td>\n",
       "      <td>201.57550</td>\n",
       "      <td>206.07550</td>\n",
       "      <td>199.97075</td>\n",
       "      <td>5.00025</td>\n",
       "    </tr>\n",
       "    <tr>\n",
       "      <th>6</th>\n",
       "      <td>218.19356</td>\n",
       "      <td>220.29434</td>\n",
       "      <td>228.21128</td>\n",
       "      <td>239.18472</td>\n",
       "      <td>low_cue</td>\n",
       "      <td>high_stim</td>\n",
       "      <td>3.254457</td>\n",
       "      <td>17.998695</td>\n",
       "      <td>3.484743</td>\n",
       "      <td>8.359153</td>\n",
       "      <td>...</td>\n",
       "      <td>8.359153</td>\n",
       "      <td>228.75150</td>\n",
       "      <td>231.81075</td>\n",
       "      <td>236.81100</td>\n",
       "      <td>240.56525</td>\n",
       "      <td>228.75150</td>\n",
       "      <td>233.25150</td>\n",
       "      <td>237.75150</td>\n",
       "      <td>231.81075</td>\n",
       "      <td>5.00025</td>\n",
       "    </tr>\n",
       "    <tr>\n",
       "      <th>7</th>\n",
       "      <td>246.18733</td>\n",
       "      <td>248.68827</td>\n",
       "      <td>255.74343</td>\n",
       "      <td>268.29558</td>\n",
       "      <td>high_cue</td>\n",
       "      <td>med_stim</td>\n",
       "      <td>1.627363</td>\n",
       "      <td>42.614056</td>\n",
       "      <td>1.436579</td>\n",
       "      <td>16.103584</td>\n",
       "      <td>...</td>\n",
       "      <td>16.103584</td>\n",
       "      <td>256.28300</td>\n",
       "      <td>259.18325</td>\n",
       "      <td>264.18225</td>\n",
       "      <td>267.75125</td>\n",
       "      <td>256.28300</td>\n",
       "      <td>260.78300</td>\n",
       "      <td>265.28300</td>\n",
       "      <td>259.18325</td>\n",
       "      <td>4.99900</td>\n",
       "    </tr>\n",
       "    <tr>\n",
       "      <th>8</th>\n",
       "      <td>277.58237</td>\n",
       "      <td>280.70020</td>\n",
       "      <td>290.53677</td>\n",
       "      <td>305.19267</td>\n",
       "      <td>low_cue</td>\n",
       "      <td>low_stim</td>\n",
       "      <td>1.317251</td>\n",
       "      <td>81.902508</td>\n",
       "      <td>2.306131</td>\n",
       "      <td>16.039943</td>\n",
       "      <td>...</td>\n",
       "      <td>16.039943</td>\n",
       "      <td>291.06950</td>\n",
       "      <td>293.80850</td>\n",
       "      <td>298.80875</td>\n",
       "      <td>302.17725</td>\n",
       "      <td>291.06950</td>\n",
       "      <td>295.56950</td>\n",
       "      <td>300.06950</td>\n",
       "      <td>293.80850</td>\n",
       "      <td>5.00025</td>\n",
       "    </tr>\n",
       "    <tr>\n",
       "      <th>9</th>\n",
       "      <td>309.69435</td>\n",
       "      <td>311.99521</td>\n",
       "      <td>318.02274</td>\n",
       "      <td>330.78555</td>\n",
       "      <td>low_cue</td>\n",
       "      <td>low_stim</td>\n",
       "      <td>2.336914</td>\n",
       "      <td>4.610649</td>\n",
       "      <td>2.801334</td>\n",
       "      <td>44.183876</td>\n",
       "      <td>...</td>\n",
       "      <td>44.183876</td>\n",
       "      <td>318.55550</td>\n",
       "      <td>321.30475</td>\n",
       "      <td>326.30475</td>\n",
       "      <td>329.70900</td>\n",
       "      <td>318.55550</td>\n",
       "      <td>323.05550</td>\n",
       "      <td>327.55550</td>\n",
       "      <td>321.30475</td>\n",
       "      <td>5.00000</td>\n",
       "    </tr>\n",
       "    <tr>\n",
       "      <th>10</th>\n",
       "      <td>339.18868</td>\n",
       "      <td>342.28984</td>\n",
       "      <td>352.60115</td>\n",
       "      <td>366.89902</td>\n",
       "      <td>high_cue</td>\n",
       "      <td>high_stim</td>\n",
       "      <td>3.209052</td>\n",
       "      <td>66.769842</td>\n",
       "      <td>2.217789</td>\n",
       "      <td>27.909290</td>\n",
       "      <td>...</td>\n",
       "      <td>27.909290</td>\n",
       "      <td>353.14700</td>\n",
       "      <td>356.23625</td>\n",
       "      <td>361.23650</td>\n",
       "      <td>365.00050</td>\n",
       "      <td>353.14700</td>\n",
       "      <td>357.64700</td>\n",
       "      <td>362.14700</td>\n",
       "      <td>356.23625</td>\n",
       "      <td>5.00025</td>\n",
       "    </tr>\n",
       "    <tr>\n",
       "      <th>11</th>\n",
       "      <td>371.68413</td>\n",
       "      <td>374.00166</td>\n",
       "      <td>380.01599</td>\n",
       "      <td>394.79275</td>\n",
       "      <td>low_cue</td>\n",
       "      <td>med_stim</td>\n",
       "      <td>1.500686</td>\n",
       "      <td>21.070745</td>\n",
       "      <td>3.689441</td>\n",
       "      <td>13.029195</td>\n",
       "      <td>...</td>\n",
       "      <td>13.029195</td>\n",
       "      <td>380.55300</td>\n",
       "      <td>383.45250</td>\n",
       "      <td>388.45250</td>\n",
       "      <td>392.05550</td>\n",
       "      <td>380.55300</td>\n",
       "      <td>385.05300</td>\n",
       "      <td>389.55300</td>\n",
       "      <td>383.45250</td>\n",
       "      <td>5.00000</td>\n",
       "    </tr>\n",
       "  </tbody>\n",
       "</table>\n",
       "<p>12 rows × 24 columns</p>\n",
       "</div>"
      ],
      "text/plain": [
       "    event01_cue_onset  event02_expect_displayonset  \\\n",
       "0             8.08187                      9.99925   \n",
       "1            52.38172                     54.99937   \n",
       "2            93.19695                     96.09803   \n",
       "3           123.39154                    126.69277   \n",
       "4           151.28527                    153.10262   \n",
       "5           188.38244                    190.49990   \n",
       "6           218.19356                    220.29434   \n",
       "7           246.18733                    248.68827   \n",
       "8           277.58237                    280.70020   \n",
       "9           309.69435                    311.99521   \n",
       "10          339.18868                    342.28984   \n",
       "11          371.68413                    374.00166   \n",
       "\n",
       "    event03_stimulus_displayonset  event04_actual_displayonset param_cue_type  \\\n",
       "0                        21.36786                     39.59362       high_cue   \n",
       "1                        67.03637                     83.89348        low_cue   \n",
       "2                       103.60471                    116.38893       high_cue   \n",
       "3                       132.72173                    142.99885        low_cue   \n",
       "4                       165.13918                    177.69512       high_cue   \n",
       "5                       196.53703                    207.48957       high_cue   \n",
       "6                       228.21128                    239.18472        low_cue   \n",
       "7                       255.74343                    268.29558       high_cue   \n",
       "8                       290.53677                    305.19267        low_cue   \n",
       "9                       318.02274                    330.78555        low_cue   \n",
       "10                      352.60115                    366.89902       high_cue   \n",
       "11                      380.01599                    394.79275        low_cue   \n",
       "\n",
       "   param_stimulus_type  event02_expect_RT  event02_expect_angle  \\\n",
       "0             low_stim           4.000000             68.787380   \n",
       "1             med_stim           2.134315            114.196253   \n",
       "2            high_stim           2.967906             29.859016   \n",
       "3            high_stim           2.372714             91.840195   \n",
       "4             low_stim           2.267674             83.166563   \n",
       "5             med_stim           2.134362             33.261429   \n",
       "6            high_stim           3.254457             17.998695   \n",
       "7             med_stim           1.627363             42.614056   \n",
       "8             low_stim           1.317251             81.902508   \n",
       "9             low_stim           2.336914              4.610649   \n",
       "10           high_stim           3.209052             66.769842   \n",
       "11            med_stim           1.500686             21.070745   \n",
       "\n",
       "    event04_actual_RT  event04_actual_angle  ...  event04_actual_angle_demean  \\\n",
       "0            2.155150             60.603947  ...                    60.603947   \n",
       "1            2.055446             46.952509  ...                    46.952509   \n",
       "2            3.126508             15.275487  ...                    15.275487   \n",
       "3            1.500699             40.702613  ...                    40.702613   \n",
       "4            2.120284             25.641006  ...                    25.641006   \n",
       "5            3.109264              2.318401  ...                     2.318401   \n",
       "6            3.484743              8.359153  ...                     8.359153   \n",
       "7            1.436579             16.103584  ...                    16.103584   \n",
       "8            2.306131             16.039943  ...                    16.039943   \n",
       "9            2.801334             44.183876  ...                    44.183876   \n",
       "10           2.217789             27.909290  ...                    27.909290   \n",
       "11           3.689441             13.029195  ...                    13.029195   \n",
       "\n",
       "         TTL1       TTL2       TTL3       TTL4  \\\n",
       "0    21.88800   24.58325   29.58225   32.85125   \n",
       "1    67.56975   70.43400   75.43400   78.93700   \n",
       "2   104.15150  107.19175  112.19200  115.82975   \n",
       "3   133.26250  136.30175  141.30200  145.10525   \n",
       "4   165.67400  168.40300  173.40325  176.75625   \n",
       "5   197.07550  199.97075  204.97100  208.59325   \n",
       "6   228.75150  231.81075  236.81100  240.56525   \n",
       "7   256.28300  259.18325  264.18225  267.75125   \n",
       "8   291.06950  293.80850  298.80875  302.17725   \n",
       "9   318.55550  321.30475  326.30475  329.70900   \n",
       "10  353.14700  356.23625  361.23650  365.00050   \n",
       "11  380.55300  383.45250  388.45250  392.05550   \n",
       "\n",
       "    event03_stim_earlyphase_0-4500ms  event03_stim_latephase_4500-9000ms  \\\n",
       "0                           21.88800                            26.38800   \n",
       "1                           67.56975                            72.06975   \n",
       "2                          104.15150                           108.65150   \n",
       "3                          133.26250                           137.76250   \n",
       "4                          165.67400                           170.17400   \n",
       "5                          197.07550                           201.57550   \n",
       "6                          228.75150                           233.25150   \n",
       "7                          256.28300                           260.78300   \n",
       "8                          291.06950                           295.56950   \n",
       "9                          318.55550                           323.05550   \n",
       "10                         353.14700                           357.64700   \n",
       "11                         380.55300                           385.05300   \n",
       "\n",
       "    event03_stim_poststim_9000-135000ms  event03_stim_ttl-plateau  \\\n",
       "0                              30.88800                  24.58325   \n",
       "1                              76.56975                  70.43400   \n",
       "2                             113.15150                 107.19175   \n",
       "3                             142.26250                 136.30175   \n",
       "4                             174.67400                 168.40300   \n",
       "5                             206.07550                 199.97075   \n",
       "6                             237.75150                 231.81075   \n",
       "7                             265.28300                 259.18325   \n",
       "8                             300.06950                 293.80850   \n",
       "9                             327.55550                 321.30475   \n",
       "10                            362.14700                 356.23625   \n",
       "11                            389.55300                 383.45250   \n",
       "\n",
       "    event03_stim_ttl-plateau-dur  \n",
       "0                        4.99900  \n",
       "1                        5.00000  \n",
       "2                        5.00025  \n",
       "3                        5.00025  \n",
       "4                        5.00025  \n",
       "5                        5.00025  \n",
       "6                        5.00025  \n",
       "7                        4.99900  \n",
       "8                        5.00025  \n",
       "9                        5.00000  \n",
       "10                       5.00025  \n",
       "11                       5.00000  \n",
       "\n",
       "[12 rows x 24 columns]"
      ]
     },
     "execution_count": 92,
     "metadata": {},
     "output_type": "execute_result"
    }
   ],
   "source": [
    "beh"
   ]
  },
  {
   "cell_type": "code",
   "execution_count": 93,
   "id": "353377aa",
   "metadata": {},
   "outputs": [],
   "source": [
    "\n",
    "    ev2 = beh['event02_expect_displayonset'] \n",
    "    # ev3 = beh['event03_stimulus_displayonset'] - beh['param_trigger_onset'][0]\n",
    "    ev4 = beh['event04_actual_displayonset'] \n",
    "    design_df = pd.DataFrame(columns = ['order', 'onset', 'condition_type', 'cue', 'stim', 'task'])\n",
    "    onset = beh['TTL2']\n",
    "    df_dict = {'order':list(range(len(run_df))), \n",
    "    'onset':np.array(beh['TTL2']), \n",
    "    'condition_type':run_df['cond_name'].values, \n",
    "    'task':task}\n",
    "    design_df = pd.DataFrame.from_dict(df_dict)\n",
    "    # design_df['condition_name'] = design_df['condition_type'].map(cond_name_inv)\n",
    "    # NOTE: what was I doing here? 09-12-2022\n",
    "    design_df['tr'] = round(design_df['onset'].astype(np.float)/0.46).astype(int)\n"
   ]
  },
  {
   "cell_type": "code",
   "execution_count": 94,
   "id": "f995af53",
   "metadata": {},
   "outputs": [
    {
     "data": {
      "text/html": [
       "<div>\n",
       "<style scoped>\n",
       "    .dataframe tbody tr th:only-of-type {\n",
       "        vertical-align: middle;\n",
       "    }\n",
       "\n",
       "    .dataframe tbody tr th {\n",
       "        vertical-align: top;\n",
       "    }\n",
       "\n",
       "    .dataframe thead th {\n",
       "        text-align: right;\n",
       "    }\n",
       "</style>\n",
       "<table border=\"1\" class=\"dataframe\">\n",
       "  <thead>\n",
       "    <tr style=\"text-align: right;\">\n",
       "      <th></th>\n",
       "      <th>order</th>\n",
       "      <th>onset</th>\n",
       "      <th>condition_type</th>\n",
       "      <th>task</th>\n",
       "      <th>tr</th>\n",
       "    </tr>\n",
       "  </thead>\n",
       "  <tbody>\n",
       "    <tr>\n",
       "      <th>0</th>\n",
       "      <td>0</td>\n",
       "      <td>24.58325</td>\n",
       "      <td>3.0</td>\n",
       "      <td>pain</td>\n",
       "      <td>53</td>\n",
       "    </tr>\n",
       "    <tr>\n",
       "      <th>1</th>\n",
       "      <td>1</td>\n",
       "      <td>70.43400</td>\n",
       "      <td>1.0</td>\n",
       "      <td>pain</td>\n",
       "      <td>153</td>\n",
       "    </tr>\n",
       "    <tr>\n",
       "      <th>2</th>\n",
       "      <td>2</td>\n",
       "      <td>107.19175</td>\n",
       "      <td>5.0</td>\n",
       "      <td>pain</td>\n",
       "      <td>233</td>\n",
       "    </tr>\n",
       "    <tr>\n",
       "      <th>3</th>\n",
       "      <td>3</td>\n",
       "      <td>136.30175</td>\n",
       "      <td>2.0</td>\n",
       "      <td>pain</td>\n",
       "      <td>296</td>\n",
       "    </tr>\n",
       "    <tr>\n",
       "      <th>4</th>\n",
       "      <td>4</td>\n",
       "      <td>168.40300</td>\n",
       "      <td>3.0</td>\n",
       "      <td>pain</td>\n",
       "      <td>366</td>\n",
       "    </tr>\n",
       "    <tr>\n",
       "      <th>5</th>\n",
       "      <td>5</td>\n",
       "      <td>199.97075</td>\n",
       "      <td>4.0</td>\n",
       "      <td>pain</td>\n",
       "      <td>435</td>\n",
       "    </tr>\n",
       "    <tr>\n",
       "      <th>6</th>\n",
       "      <td>6</td>\n",
       "      <td>231.81075</td>\n",
       "      <td>2.0</td>\n",
       "      <td>pain</td>\n",
       "      <td>504</td>\n",
       "    </tr>\n",
       "    <tr>\n",
       "      <th>7</th>\n",
       "      <td>7</td>\n",
       "      <td>259.18325</td>\n",
       "      <td>4.0</td>\n",
       "      <td>pain</td>\n",
       "      <td>563</td>\n",
       "    </tr>\n",
       "    <tr>\n",
       "      <th>8</th>\n",
       "      <td>8</td>\n",
       "      <td>293.80850</td>\n",
       "      <td>0.0</td>\n",
       "      <td>pain</td>\n",
       "      <td>639</td>\n",
       "    </tr>\n",
       "    <tr>\n",
       "      <th>9</th>\n",
       "      <td>9</td>\n",
       "      <td>321.30475</td>\n",
       "      <td>0.0</td>\n",
       "      <td>pain</td>\n",
       "      <td>698</td>\n",
       "    </tr>\n",
       "    <tr>\n",
       "      <th>10</th>\n",
       "      <td>10</td>\n",
       "      <td>356.23625</td>\n",
       "      <td>5.0</td>\n",
       "      <td>pain</td>\n",
       "      <td>774</td>\n",
       "    </tr>\n",
       "    <tr>\n",
       "      <th>11</th>\n",
       "      <td>11</td>\n",
       "      <td>383.45250</td>\n",
       "      <td>1.0</td>\n",
       "      <td>pain</td>\n",
       "      <td>834</td>\n",
       "    </tr>\n",
       "  </tbody>\n",
       "</table>\n",
       "</div>"
      ],
      "text/plain": [
       "    order      onset  condition_type  task   tr\n",
       "0       0   24.58325             3.0  pain   53\n",
       "1       1   70.43400             1.0  pain  153\n",
       "2       2  107.19175             5.0  pain  233\n",
       "3       3  136.30175             2.0  pain  296\n",
       "4       4  168.40300             3.0  pain  366\n",
       "5       5  199.97075             4.0  pain  435\n",
       "6       6  231.81075             2.0  pain  504\n",
       "7       7  259.18325             4.0  pain  563\n",
       "8       8  293.80850             0.0  pain  639\n",
       "9       9  321.30475             0.0  pain  698\n",
       "10     10  356.23625             5.0  pain  774\n",
       "11     11  383.45250             1.0  pain  834"
      ]
     },
     "execution_count": 94,
     "metadata": {},
     "output_type": "execute_result"
    }
   ],
   "source": [
    "design_df"
   ]
  },
  {
   "cell_type": "code",
   "execution_count": 95,
   "id": "d36e5c1f",
   "metadata": {},
   "outputs": [],
   "source": [
    "    dim_x = 872;    dim_y = 6\n",
    "    order_tr = list(design_df[['tr','condition_type']].apply(tuple, axis = 1))\n",
    "    design_mat = np.zeros((dim_x, dim_y), dtype = int)\n",
    "    for el_x, el_y in order_tr:\n",
    "        design_mat[int(el_x), int(el_y)] = 1\n",
    "    design.append(design_mat)"
   ]
  },
  {
   "cell_type": "code",
   "execution_count": 96,
   "id": "1cea2021",
   "metadata": {},
   "outputs": [
    {
     "name": "stdout",
     "output_type": "stream",
     "text": [
      "/dartfs-hpc/rc/lab/C/CANlab/labdata/projects/spacetop_projects_social/data/d04_motion/csf_24dof_dummy_spike/sub-0061/ses-04/sub-0061_ses-04_task-social_run-03_confounds-subset.txt\n"
     ]
    }
   ],
   "source": [
    "    xtra_y = 1;\n",
    "#     rating_onset = pd.concat([ev2,ev4],ignore_index = True)\n",
    "    # motion_fname = join(main_dir, 'data', 'dartmouth', 'd05_motion', sub, ses, f\"{sub}_{ses}_task-social_run-{run}_confounds-subset.txt\")\n",
    "    motion_fname = join(main_dir, 'data', 'd04_motion', 'csf_24dof_dummy_spike', sub, ses, f\"{sub}_{ses}_task-social_{run}_confounds-subset.txt\")\n",
    "    print(motion_fname)\n",
    "    motion_df = pd.read_csv(motion_fname, sep = '\\t', header = None)\n",
    "#     rating_tr = round(rating_onset/0.46).astype(int)\n",
    "    # load motion covariates and concat\n",
    "    rating_df = pd.DataFrame(np.zeros(dim_x), dtype = int)\n",
    "#     for x in rating_tr:\n",
    "#         rating_df.iloc[x-1, 0] = 1\n",
    "    extra_df = pd.concat([rating_df, motion_df], axis = 1)\n",
    "    extra.append(np.array(extra_df))"
   ]
  },
  {
   "cell_type": "code",
   "execution_count": 97,
   "id": "0a8c1030",
   "metadata": {},
   "outputs": [
    {
     "data": {
      "text/plain": [
       "[array([[ 0.00000000e+00,  4.21460218e+03, -6.02041000e-02, ...,\n",
       "          5.61615348e-05,  1.00000000e+00,  0.00000000e+00],\n",
       "        [ 0.00000000e+00,  4.10115529e+03, -6.36510000e-02, ...,\n",
       "          7.57025285e-05,  1.00000000e+00,  0.00000000e+00],\n",
       "        [ 0.00000000e+00,  4.04568609e+03, -6.81348000e-02, ...,\n",
       "          6.78893602e-05,  1.00000000e+00,  0.00000000e+00],\n",
       "        ...,\n",
       "        [ 0.00000000e+00,  3.88086202e+03, -2.03321000e-01, ...,\n",
       "          5.58836983e-05,  0.00000000e+00,  0.00000000e+00],\n",
       "        [ 0.00000000e+00,  3.89119161e+03, -2.08246000e-01, ...,\n",
       "          5.30533054e-05,  0.00000000e+00,  0.00000000e+00],\n",
       "        [ 0.00000000e+00,  3.88555751e+03, -2.11436000e-01, ...,\n",
       "          5.53772617e-05,  0.00000000e+00,  0.00000000e+00]])]"
      ]
     },
     "execution_count": 97,
     "metadata": {},
     "output_type": "execute_result"
    }
   ],
   "source": [
    "extra"
   ]
  },
  {
   "cell_type": "code",
   "execution_count": 99,
   "id": "fca03717",
   "metadata": {},
   "outputs": [],
   "source": [
    "\n",
    "    nii_name = join(fmriprep_dir, sub, ses, 'func', f\"{sub}_{ses}_task-social_acq-mb8_run-{run_num}_space-MNI152NLin2009cAsym_desc-preproc_bold.nii.gz\")\n",
    "    nilearn_data = image.load_img(nii_name) \n",
    "    data.append(nilearn_data.get_fdata())\n",
    "    ses_indicator = []\n",
    "#     ses_indicator.append(ses_num)"
   ]
  },
  {
   "cell_type": "code",
   "execution_count": 100,
   "id": "8bc4ca5c",
   "metadata": {},
   "outputs": [
    {
     "ename": "IndexError",
     "evalue": "list index out of range",
     "output_type": "error",
     "traceback": [
      "\u001b[0;31m---------------------------------------------------------------------------\u001b[0m",
      "\u001b[0;31mIndexError\u001b[0m                                Traceback (most recent call last)",
      "\u001b[0;32m/scratch/ipykernel_15387/2436357273.py\u001b[0m in \u001b[0;36m<module>\u001b[0;34m\u001b[0m\n\u001b[1;32m     13\u001b[0m \u001b[0mplt\u001b[0m\u001b[0;34m.\u001b[0m\u001b[0mylabel\u001b[0m\u001b[0;34m(\u001b[0m\u001b[0;34m'time (TR)'\u001b[0m\u001b[0;34m,\u001b[0m\u001b[0mfontsize\u001b[0m\u001b[0;34m=\u001b[0m\u001b[0;36m16\u001b[0m\u001b[0;34m)\u001b[0m\u001b[0;34m;\u001b[0m\u001b[0;34m\u001b[0m\u001b[0;34m\u001b[0m\u001b[0m\n\u001b[1;32m     14\u001b[0m \u001b[0mplt\u001b[0m\u001b[0;34m.\u001b[0m\u001b[0msubplot\u001b[0m\u001b[0;34m(\u001b[0m\u001b[0;36m122\u001b[0m\u001b[0;34m)\u001b[0m\u001b[0;34m\u001b[0m\u001b[0;34m\u001b[0m\u001b[0m\n\u001b[0;32m---> 15\u001b[0;31m \u001b[0mplt\u001b[0m\u001b[0;34m.\u001b[0m\u001b[0mimshow\u001b[0m\u001b[0;34m(\u001b[0m\u001b[0mdesign\u001b[0m\u001b[0;34m[\u001b[0m\u001b[0;36m1\u001b[0m\u001b[0;34m]\u001b[0m\u001b[0;34m,\u001b[0m\u001b[0morigin\u001b[0m \u001b[0;34m=\u001b[0m \u001b[0;34m'lower'\u001b[0m\u001b[0;34m,\u001b[0m \u001b[0minterpolation\u001b[0m\u001b[0;34m=\u001b[0m\u001b[0;34m'none'\u001b[0m\u001b[0;34m)\u001b[0m\u001b[0;34m\u001b[0m\u001b[0;34m\u001b[0m\u001b[0m\n\u001b[0m\u001b[1;32m     16\u001b[0m \u001b[0mplt\u001b[0m\u001b[0;34m.\u001b[0m\u001b[0mtitle\u001b[0m\u001b[0;34m(\u001b[0m\u001b[0;34m'example design matrix from run 2'\u001b[0m\u001b[0;34m,\u001b[0m\u001b[0mfontsize\u001b[0m\u001b[0;34m=\u001b[0m\u001b[0;36m16\u001b[0m\u001b[0;34m)\u001b[0m\u001b[0;34m\u001b[0m\u001b[0;34m\u001b[0m\u001b[0m\n\u001b[1;32m     17\u001b[0m \u001b[0mplt\u001b[0m\u001b[0;34m.\u001b[0m\u001b[0mxlabel\u001b[0m\u001b[0;34m(\u001b[0m\u001b[0;34m'conditions'\u001b[0m\u001b[0;34m,\u001b[0m\u001b[0mfontsize\u001b[0m\u001b[0;34m=\u001b[0m\u001b[0;36m16\u001b[0m\u001b[0;34m)\u001b[0m\u001b[0;34m\u001b[0m\u001b[0;34m\u001b[0m\u001b[0m\n",
      "\u001b[0;31mIndexError\u001b[0m: list index out of range"
     ]
    },
    {
     "data": {
      "image/png": "[encoded data removed]",
      "text/plain": [
       "<Figure size 2000x2000 with 2 Axes>"
      ]
     },
     "metadata": {},
     "output_type": "display_data"
    }
   ],
   "source": [
    "# %% visualize design\n",
    "def forceAspect(ax,aspect=1):\n",
    "    im = ax.get_images()\n",
    "    extent =  im[0].get_extent()\n",
    "    ax.set_aspect(abs((extent[1]-extent[0])/(extent[3]-extent[2]))/aspect)\n",
    "\n",
    "plt.figure(figsize=(20,20))\n",
    "\n",
    "plt.subplot(121)\n",
    "plt.imshow(design[0],origin = 'lower', interpolation='none')\n",
    "plt.title('example design matrix from run 1',fontsize=16)\n",
    "plt.xlabel('conditions',fontsize=16)\n",
    "plt.ylabel('time (TR)',fontsize=16);\n",
    "plt.subplot(122)\n",
    "plt.imshow(design[1],origin = 'lower', interpolation='none')\n",
    "plt.title('example design matrix from run 2',fontsize=16)\n",
    "plt.xlabel('conditions',fontsize=16)\n",
    "plt.ylabel('time (TR)',fontsize=16);"
   ]
  },
  {
   "cell_type": "code",
   "execution_count": 101,
   "id": "a931e95d",
   "metadata": {},
   "outputs": [
    {
     "ename": "IndexError",
     "evalue": "list index out of range",
     "output_type": "error",
     "traceback": [
      "\u001b[0;31m---------------------------------------------------------------------------\u001b[0m",
      "\u001b[0;31mIndexError\u001b[0m                                Traceback (most recent call last)",
      "\u001b[0;32m/scratch/ipykernel_15387/3259399920.py\u001b[0m in \u001b[0;36m<module>\u001b[0;34m\u001b[0m\n\u001b[1;32m      6\u001b[0m \u001b[0mplt\u001b[0m\u001b[0;34m.\u001b[0m\u001b[0mtitle\u001b[0m\u001b[0;34m(\u001b[0m\u001b[0;34m'example slice from run 1'\u001b[0m\u001b[0;34m,\u001b[0m\u001b[0mfontsize\u001b[0m\u001b[0;34m=\u001b[0m\u001b[0;36m16\u001b[0m\u001b[0;34m)\u001b[0m\u001b[0;34m\u001b[0m\u001b[0;34m\u001b[0m\u001b[0m\n\u001b[1;32m      7\u001b[0m \u001b[0mplt\u001b[0m\u001b[0;34m.\u001b[0m\u001b[0msubplot\u001b[0m\u001b[0;34m(\u001b[0m\u001b[0;36m122\u001b[0m\u001b[0;34m)\u001b[0m\u001b[0;34m\u001b[0m\u001b[0;34m\u001b[0m\u001b[0m\n\u001b[0;32m----> 8\u001b[0;31m \u001b[0mplt\u001b[0m\u001b[0;34m.\u001b[0m\u001b[0mimshow\u001b[0m\u001b[0;34m(\u001b[0m\u001b[0mdata\u001b[0m\u001b[0;34m[\u001b[0m\u001b[0;36m1\u001b[0m\u001b[0;34m]\u001b[0m\u001b[0;34m[\u001b[0m\u001b[0;34m:\u001b[0m\u001b[0;34m,\u001b[0m\u001b[0;34m:\u001b[0m\u001b[0;34m,\u001b[0m\u001b[0;36m0\u001b[0m\u001b[0;34m,\u001b[0m\u001b[0;36m0\u001b[0m\u001b[0;34m]\u001b[0m\u001b[0;34m)\u001b[0m\u001b[0;34m\u001b[0m\u001b[0;34m\u001b[0m\u001b[0m\n\u001b[0m\u001b[1;32m      9\u001b[0m \u001b[0mplt\u001b[0m\u001b[0;34m.\u001b[0m\u001b[0mtitle\u001b[0m\u001b[0;34m(\u001b[0m\u001b[0;34m'example slice from run 2'\u001b[0m\u001b[0;34m,\u001b[0m\u001b[0mfontsize\u001b[0m\u001b[0;34m=\u001b[0m\u001b[0;36m16\u001b[0m\u001b[0;34m)\u001b[0m\u001b[0;34m\u001b[0m\u001b[0;34m\u001b[0m\u001b[0m\n",
      "\u001b[0;31mIndexError\u001b[0m: list index out of range"
     ]
    },
    {
     "data": {
      "image/png": "[encoded data removed]",
      "text/plain": [
       "<Figure size 2000x600 with 2 Axes>"
      ]
     },
     "metadata": {},
     "output_type": "display_data"
    }
   ],
   "source": [
    "# %% visualize data\n",
    "# plot example slice from run 1\n",
    "plt.figure(figsize=(20,6))\n",
    "plt.subplot(121)\n",
    "plt.imshow(data[0][:,:,23,30])\n",
    "plt.title('example slice from run 1',fontsize=16)\n",
    "plt.subplot(122)\n",
    "plt.imshow(data[1][:,:,0,0])\n",
    "plt.title('example slice from run 2',fontsize=16)"
   ]
  },
  {
   "cell_type": "code",
   "execution_count": 36,
   "id": "2f7a6f16",
   "metadata": {},
   "outputs": [
    {
     "name": "stdout",
     "output_type": "stream",
     "text": [
      "* There are 2 runs in total\n",
      "* N = 872 TRs per run\n",
      "* The dimensions of the data for each run are: (73, 86, 73, 872)\n",
      "* The stimulus duration is 5 seconds\n",
      "* XYZ dimensionality is: (73, 86, 73) (one slice only in this example)\n",
      "* Numeric precision of data is: <class 'numpy.float64'>\n"
     ]
    }
   ],
   "source": [
    "stimdur = 5\n",
    "tr = 0.46\n",
    "# print some relevant metadata\n",
    "print(f'* There are {len(data)} runs in total')\n",
    "print(f'* N = {data[0].shape[3]} TRs per run')\n",
    "print(f'* The dimensions of the data for each run are: {data[0].shape}')\n",
    "print(f'* The stimulus duration is {stimdur} seconds')\n",
    "print(f'* XYZ dimensionality is: {data[0].shape[:3]} (one slice only in this example)')\n",
    "print(f'* Numeric precision of data is: {type(data[0][0,0,0,0])}')"
   ]
  },
  {
   "cell_type": "code",
   "execution_count": 25,
   "id": "4c364f8a",
   "metadata": {},
   "outputs": [
    {
     "data": {
      "text/plain": [
       "['/dartfs-hpc/rc/lab/C/CANlab/labdata/projects/spacetop_projects_social/data/d03_onset/onset02_SPM/sub-0061/ses-04/sub-0061_ses-04_task-social_run-03-pain_events_ttl.tsv',\n",
       " '/dartfs-hpc/rc/lab/C/CANlab/labdata/projects/spacetop_projects_social/data/d03_onset/onset02_SPM/sub-0061/ses-04/sub-0061_ses-04_task-social_run-06-pain_events_ttl.tsv']"
      ]
     },
     "execution_count": 25,
     "metadata": {},
     "output_type": "execute_result"
    }
   ],
   "source": [
    "beh_list"
   ]
  },
  {
   "cell_type": "markdown",
   "id": "a886b3dd",
   "metadata": {},
   "source": [
    "# run for loop"
   ]
  },
  {
   "cell_type": "code",
   "execution_count": 26,
   "id": "9147dc02",
   "metadata": {},
   "outputs": [
    {
     "name": "stdout",
     "output_type": "stream",
     "text": [
      "/dartfs-hpc/rc/lab/C/CANlab/labdata/data/spacetop_data/derivatives/fmriprep/results/fmriprep/sub-0061/ses-04/func/sub-0061_ses-04_task-social_acq-mb8_run-3_space-MNI152NLin2009cAsym_desc-preproc_bold.nii.gz\n",
      "/dartfs-hpc/rc/lab/C/CANlab/labdata/data/spacetop_data/derivatives/fmriprep/results/fmriprep/sub-0061/ses-04/func/sub-0061_ses-04_task-social_acq-mb8_run-6_space-MNI152NLin2009cAsym_desc-preproc_bold.nii.gz\n"
     ]
    }
   ],
   "source": [
    "ses_ind = []\n",
    "for beh_fname in beh_list:\n",
    "    # extract info from globbed files\n",
    "    beh_basename = os.path.basename(beh_fname)\n",
    "    ses_num = int(re.findall('\\d+', [match for match in beh_basename.split('_') if \"ses\" in match][0])[0])\n",
    "    run_num = int(re.findall('\\d+', [match for match in beh_basename.split('_') if \"run\" in match][0])[0])\n",
    "    task_name = re.match(\"(run)-(\\d+)-(\\w+)\", [match for match in beh_basename.split('_') if \"run\" in match][0])[3]\n",
    "    ses = 'ses-{:02d}'.format(ses_num)\n",
    "    run = 'run-{:02d}'.format(run_num)\n",
    "\n",
    "    # load csv and clean \n",
    "    beh = pd.read_csv(beh_fname)\n",
    "    # TODO, check if plataeu exists\n",
    "    # ttl = pd.read_csv(join(main_dir, 'data', 'dartmouth', ttl_dir[ttl_key], sub, f\"{sub}_singletrial_{ttl_key}.csv\"))\n",
    "    metafiles = glob.glob(join(main_dir, 'data', 'd03_onset', 'onset03_SPMsingletrial', sub, f\"{sub}_singletrial*.csv\"))\n",
    "    if len(metafiles) > 1:\n",
    "        meta = pd.read_csv(join(main_dir, 'data', 'd03_onset', 'onset03_SPMsingletrial', sub, f\"{sub}_singletrial_plateau.csv\"))\n",
    "    else:\n",
    "        meta = pd.read_csv(join(main_dir, 'data', 'd03_onset', 'onset03_SPMsingletrial', sub, f\"{sub}_singletrial.csv\"))\n",
    "    rating = pd.read_csv(join(main_dir, 'data', 'd03_onset', 'onset03_SPMsingletrial', sub, f\"{sub}_{ses}_{run}_covariate-circularrating.csv\"))\n",
    "    run_df = meta[((meta['ses'] == ses_num)& (meta['run'] == run_num) & (meta['ev'] == 'stim'))]\n",
    "    run_df.insert(2, 'cond_name', np.nan)\n",
    "    # %% building <design> from glmsingle _______________________________________________________________\n",
    "    run_df.loc[((run_df['cue_type'] == 'low_cue') & (run_df['stim_type']  =='low_stim')), 'cond_name'] = int(0)\n",
    "    run_df.loc[((run_df['cue_type'] == 'low_cue') & (run_df['stim_type']  =='med_stim')), 'cond_name'] = int(1)\n",
    "    run_df.loc[((run_df['cue_type'] == 'low_cue') & (run_df['stim_type']  =='high_stim')),'cond_name'] = int(2)\n",
    "    run_df.loc[((run_df['cue_type'] == 'high_cue') & (run_df['stim_type'] =='low_stim')), 'cond_name'] = int(3)\n",
    "    run_df.loc[((run_df['cue_type'] == 'high_cue') & (run_df['stim_type'] =='med_stim')), 'cond_name'] = int(4)\n",
    "    run_df.loc[((run_df['cue_type'] == 'high_cue') & (run_df['stim_type'] =='high_stim')),'cond_name'] = int(5)\n",
    "\n",
    "    design_df = pd.DataFrame(columns = ['order', 'onset', 'condition_type', 'cue', 'stim', 'task'])\n",
    "    onset = run_df['onset']\n",
    "    df_dict = {'order':list(range(len(run_df))), \n",
    "    'onset':np.array(run_df['onset']), \n",
    "    'condition_type':run_df['cond_name'], \n",
    "    'task':task_name}\n",
    "    design_df = pd.DataFrame.from_dict(df_dict)\n",
    "    # design_df['condition_name'] = design_df['condition_type'].map(cond_name_inv)\n",
    "    design_df['tr'] = round(design_df['onset'].apply(lambda x: float(x))/0.46).astype(int) # round(design_df['onset']/0.46).astype(int)\n",
    "    design_df['condition_type'] = design_df['condition_type'].astype(int)\n",
    "    dim_x = 872;    dim_y = 6\n",
    "    order_tr = list(design_df[['tr','condition_type']].apply(tuple, axis = 1))\n",
    "    design_mat = np.zeros((dim_x, dim_y), dtype = int)\n",
    "    for el_x, el_y in order_tr:\n",
    "        design_mat[el_x-1, el_y] = 1\n",
    "    design.append(design_mat)\n",
    "    \n",
    "    xtra_y = 1;\n",
    "    rating_onset = rating['rating']#pd.concat([ev2,ev4],ignore_index = True)\n",
    "    motion_fname = join(main_dir, 'data', 'd03_onset', 'onset03_SPMsingletrial', sub, f\"{sub}_{ses}_task-social_{run}_confounds-subset.txt\")\n",
    "    motion_df = pd.read_csv(motion_fname, sep = '\\t', header = None)\n",
    "    rating_tr = round(rating_onset/0.46).astype(int)\n",
    "    # load motion covariates and concat\n",
    "    rating_df = pd.DataFrame(np.zeros(dim_x), dtype = int)\n",
    "    for x in rating_tr:\n",
    "        rating_df.iloc[x-1, 0] = 1\n",
    "    extra_df = pd.concat([rating_df, motion_df], axis = 1)\n",
    "    extra.append(np.array(extra_df))\n",
    "\n",
    "    nii_name = join(fmriprep_dir, sub, ses, 'func', f\"{sub}_{ses}_task-social_acq-mb8_run-{run_num}_space-MNI152NLin2009cAsym_desc-preproc_bold.nii.gz\")\n",
    "    print(nii_name)\n",
    "    nilearn_data = image.load_img(nii_name) \n",
    "    data.append(nilearn_data.get_fdata())\n",
    "\n",
    "    ses_ind.append(ses_num)"
   ]
  },
  {
   "cell_type": "code",
   "execution_count": 28,
   "id": "506ffc45",
   "metadata": {},
   "outputs": [
    {
     "data": {
      "text/plain": [
       "Text(0.5, 1.0, 'example slice from run 2')"
      ]
     },
     "execution_count": 28,
     "metadata": {},
     "output_type": "execute_result"
    },
    {
     "data": {
      "image/png": "[encoded data removed]",
      "text/plain": [
       "<Figure size 2000x600 with 2 Axes>"
      ]
     },
     "metadata": {},
     "output_type": "display_data"
    }
   ],
   "source": [
    "# %% visualize data\n",
    "# plot example slice from run 1\n",
    "plt.figure(figsize=(20,6))\n",
    "plt.subplot(121)\n",
    "plt.imshow(data[0][:,:,23,31])\n",
    "plt.title('example slice from run 1',fontsize=16)\n",
    "plt.subplot(122)\n",
    "plt.imshow(data[1][:,:,23,31])\n",
    "plt.title('example slice from run 2',fontsize=16)"
   ]
  },
  {
   "cell_type": "code",
   "execution_count": 31,
   "id": "ffdcbe0f",
   "metadata": {},
   "outputs": [
    {
     "data": {
      "text/plain": [
       "array([  615.22617602,   341.44680224,   193.88514899,   258.14080782,\n",
       "         891.98734117,  1719.62002872,  1112.39633863,  -646.73000541,\n",
       "        1050.00994386, -1088.65738671,   328.13473921,  3258.71493997,\n",
       "       -1412.34566237, -1024.68305862,  1220.65250821,  2483.65750942,\n",
       "        -997.11731704,  2822.48507518, -1200.63649189,  -273.33276336,\n",
       "        3358.09799337,  2344.86800279, -1673.31505834, -4048.80156015,\n",
       "        2762.53544796,  3258.60119709,  2743.62229703,    51.15816052,\n",
       "        -173.52222832,  1265.23084171,   702.79349662,  2582.13269073,\n",
       "        2357.25243151,  5291.88124436,  4940.07440475,   969.89409389,\n",
       "        -215.989447  ,   412.29990426, -5794.12414522, -3765.92156492,\n",
       "        2976.69894548,  6616.94989787,  -254.8348816 ,  4955.47687437,\n",
       "        7506.25948671,  2773.70579523,  5505.67788909,  9429.63986976,\n",
       "        6015.6899177 ,   986.90556273,  1297.17441151, -1592.2237348 ,\n",
       "       -3863.1911909 , -5544.68728253, -6375.45733833,  4209.56288865,\n",
       "        3980.60784303,  3606.62624758,  6571.87467846,  3511.43776229,\n",
       "       -3389.42784195, -4823.72833855, -5517.80192135, -6983.872309  ,\n",
       "       -2654.14142922, -2343.94968592, -2319.35455421,  5827.68112732,\n",
       "         -30.19488266, -2404.50585754,  -818.63407563,  1536.81543674,\n",
       "       12725.90591885,  8653.81872049, 11200.73372453, 14334.8169712 ,\n",
       "       17295.19819412, 17195.45677334, 10905.34106027,  4454.7819102 ,\n",
       "        1580.88407402,  1189.45476556,  1593.96880597,   981.23516418,\n",
       "         697.70324107,    58.66572259])"
      ]
     },
     "execution_count": 31,
     "metadata": {},
     "output_type": "execute_result"
    }
   ],
   "source": [
    "sum(data[0][:,:,23,31] - data[1][:,:,23,31])"
   ]
  },
  {
   "cell_type": "code",
   "execution_count": 42,
   "id": "33605f94",
   "metadata": {},
   "outputs": [
    {
     "data": {
      "text/plain": [
       "(872, 10)"
      ]
     },
     "execution_count": 42,
     "metadata": {},
     "output_type": "execute_result"
    }
   ],
   "source": [
    "extra[0].shape"
   ]
  },
  {
   "cell_type": "code",
   "execution_count": 32,
   "id": "7d9311e1",
   "metadata": {},
   "outputs": [
    {
     "data": {
      "text/plain": [
       "(73, 86, 73, 872)"
      ]
     },
     "execution_count": 32,
     "metadata": {},
     "output_type": "execute_result"
    }
   ],
   "source": [
    "data[0].shape"
   ]
  },
  {
   "cell_type": "code",
   "execution_count": 47,
   "id": "ccb0e63f",
   "metadata": {},
   "outputs": [
    {
     "name": "stdout",
     "output_type": "stream",
     "text": [
      "{'R2thresh': 0,\n",
      " 'brainR2': [],\n",
      " 'brainexclude': False,\n",
      " 'brainthresh': [99.0, 0.1],\n",
      " 'chunklen': 50000,\n",
      " 'extra_regressors': False,\n",
      " 'fracs': array([1.  , 0.95, 0.9 , 0.85, 0.8 , 0.75, 0.7 , 0.65, 0.6 , 0.55, 0.5 ,\n",
      "       0.45, 0.4 , 0.35, 0.3 , 0.25, 0.2 , 0.15, 0.1 , 0.05]),\n",
      " 'hrffitmask': 1,\n",
      " 'hrfmodel': 'optimise',\n",
      " 'hrfthresh': 0.5,\n",
      " 'lambda': 0,\n",
      " 'n_boots': 100,\n",
      " 'n_jobs': 1,\n",
      " 'n_pcs': 10,\n",
      " 'numforhrf': 50,\n",
      " 'pcR2cutoff': [],\n",
      " 'pcR2cutoffmask': 1,\n",
      " 'pcstop': 1.05,\n",
      " 'seed': 1666708066.6765726,\n",
      " 'sessionindicator': [1, 1],\n",
      " 'suppressoutput': 0,\n",
      " 'wantautoscale': 1,\n",
      " 'wantfileoutputs': [1, 1, 1, 1],\n",
      " 'wantfracridge': 1,\n",
      " 'wantglmdenoise': 1,\n",
      " 'wantlibrary': 1,\n",
      " 'wantlss': 0,\n",
      " 'wantmemoryoutputs': [1, 1, 1, 1],\n",
      " 'wantparametric': 0,\n",
      " 'wantpercentbold': 1}\n"
     ]
    }
   ],
   "source": [
    "outputdir_glmsingle = join(outputdir,sub, task)\n",
    "Path(join(outputdir_glmsingle)).mkdir(parents=True, exist_ok=True) # (main_dir,'analysis','fmri','glmsingle','output', 'sub-0001', 'task-social')\n",
    "opt = dict()\n",
    "\n",
    "opt['wantlibrary'] = 1\n",
    "opt['wantglmdenoise'] = 1\n",
    "opt['wantfracridge'] = 1\n",
    "\n",
    "opt['wantfileoutputs'] = [1,1,1,1]\n",
    "opt['wantmemoryoutputs'] = [1,1,1,1]\n",
    "opt['sessionindicator'] = [1, 1]\n",
    "opt['extra_regressors'] = False\n",
    "\n",
    "glmsingle_obj = GLM_single(opt)\n",
    "\n",
    "pprint(glmsingle_obj.params) "
   ]
  },
  {
   "cell_type": "code",
   "execution_count": 34,
   "id": "43bc408e",
   "metadata": {},
   "outputs": [
    {
     "name": "stdout",
     "output_type": "stream",
     "text": [
      "loading existing GLMsingle outputs from directory:\n",
      "\t/dartfs-hpc/rc/lab/C/CANlab/labdata/projects/spacetop_projects_social/analysis/fmri/glmsingle/output/sub-0061/pain\n",
      "\telapsed time:  00:00:02\n"
     ]
    }
   ],
   "source": [
    "# this example saves output files to the folder  \"example1outputs/GLMsingle\"\n",
    "# if these outputs don't already exist, we will perform the time-consuming call to GLMsingle;\n",
    "# otherwise, we will just load from disk.\n",
    "\n",
    "start_time = time.time()\n",
    "\n",
    "if not exists(outputdir_glmsingle):\n",
    "\n",
    "    print(f'running GLMsingle...')\n",
    "    \n",
    "    # run GLMsingle\n",
    "    results_glmsingle = glmsingle_obj.fit(\n",
    "       design,\n",
    "       data,\n",
    "       stimdur,\n",
    "       tr,\n",
    "       outputdir=outputdir_glmsingle)\n",
    "    # we assign outputs of GLMsingle to the \"results_glmsingle\" variable.\n",
    "    # note that results_glmsingle['typea'] contains GLM estimates from an ONOFF model,\n",
    "    # where all images are treated as the same condition. these estimates\n",
    "    # could be potentially used to find cortical areas that respond to\n",
    "    # visual stimuli. we want to compare beta weights between conditions\n",
    "    # therefore we are not going to include the ONOFF betas in any analyses of \n",
    "    # voxel reliability\n",
    "    \n",
    "else:\n",
    "    print(f'loading existing GLMsingle outputs from directory:\\n\\t{outputdir_glmsingle}')\n",
    "    \n",
    "    # load existing file outputs if they exist\n",
    "    results_glmsingle = dict()\n",
    "    results_glmsingle['typea'] = np.load(join(outputdir_glmsingle,'TYPEA_ONOFF.npy'),allow_pickle=True).item()\n",
    "    results_glmsingle['typeb'] = np.load(join(outputdir_glmsingle,'TYPEB_FITHRF.npy'),allow_pickle=True).item()\n",
    "    # results_glmsingle['typec'] = np.load(join(outputdir_glmsingle,'TYPEC_FITHRF_GLMDENOISE.npy'),allow_pickle=True).item()\n",
    "#     results_glmsingle['typed'] = np.load(join(outputdir_glmsingle,'TYPED_FITHRF_GLMDENOISE_RR.npy'),allow_pickle=True).item()\n",
    "\n",
    "elapsed_time = time.time() - start_time\n",
    "\n",
    "print(\n",
    "    '\\telapsed time: ',\n",
    "    f'{time.strftime(\"%H:%M:%S\", time.gmtime(elapsed_time))}'\n",
    ")"
   ]
  },
  {
   "cell_type": "code",
   "execution_count": 48,
   "id": "68f84041",
   "metadata": {},
   "outputs": [
    {
     "name": "stdout",
     "output_type": "stream",
     "text": [
      "*** FITTING TYPE-A MODEL (ONOFF) ***\n",
      "\n",
      "fitting model...\n",
      "done.\n",
      "\n",
      "preparing output...\n",
      "done.\n",
      "\n",
      "computing model fits...\n",
      "done.\n",
      "\n",
      "computing R^2...\n",
      "done.\n",
      "\n",
      "computing SNR...\n",
      "done.\n",
      "\n",
      "\n",
      "*** Saving results to /dartfs-hpc/rc/lab/C/CANlab/labdata/projects/spacetop_projects_social/analysis/fmri/glmsingle/output/sub-0061/pain/TYPEA_ONOFF.npy. ***\n",
      "\n"
     ]
    },
    {
     "name": "stderr",
     "output_type": "stream",
     "text": [
      "\r",
      "chunks:   0%|                                                                                       | 0/10 [00:00<?, ?it/s]"
     ]
    },
    {
     "name": "stdout",
     "output_type": "stream",
     "text": [
      "*** Setting brain R2 threshold to 0.6906555352605303 ***\n",
      "\n",
      "*** FITTING TYPE-B MODEL (FITHRF) ***\n",
      "\n"
     ]
    },
    {
     "name": "stderr",
     "output_type": "stream",
     "text": [
      "chunks: 100%|█████████████████████████████████████████████████████████████████████████████| 10/10 [18:42<00:00, 112.21s/it]\n"
     ]
    },
    {
     "name": "stdout",
     "output_type": "stream",
     "text": [
      "\n",
      "*** Saving results to /dartfs-hpc/rc/lab/C/CANlab/labdata/projects/spacetop_projects_social/analysis/fmri/glmsingle/output/sub-0061/pain/TYPEB_FITHRF.npy. ***\n",
      "\n",
      "*** DETERMINING GLMDENOISE REGRESSORS ***\n",
      "\n"
     ]
    },
    {
     "name": "stderr",
     "output_type": "stream",
     "text": [
      "\r",
      "chunks:   0%|                                                                                       | 0/10 [00:00<?, ?it/s]"
     ]
    },
    {
     "name": "stdout",
     "output_type": "stream",
     "text": [
      "*** CROSS-VALIDATING DIFFERENT NUMBERS OF REGRESSORS ***\n",
      "\n"
     ]
    },
    {
     "name": "stderr",
     "output_type": "stream",
     "text": [
      "chunks: 100%|██████████████████████████████████████████████████████████████████████████████| 10/10 [11:08<00:00, 66.90s/it]\n",
      "chunks:   0%|                                                                                       | 0/10 [00:00<?, ?it/s]"
     ]
    },
    {
     "name": "stdout",
     "output_type": "stream",
     "text": [
      "\n",
      "*** FITTING TYPE-C MODEL (GLMDENOISE) ***\n",
      "\n"
     ]
    },
    {
     "name": "stderr",
     "output_type": "stream",
     "text": [
      "chunks: 100%|██████████████████████████████████████████████████████████████████████████████| 10/10 [02:28<00:00, 14.81s/it]\n"
     ]
    },
    {
     "name": "stdout",
     "output_type": "stream",
     "text": [
      "\n",
      "*** Saving results to /dartfs-hpc/rc/lab/C/CANlab/labdata/projects/spacetop_projects_social/analysis/fmri/glmsingle/output/sub-0061/pain/TYPEC_FITHRF_GLMDENOISE.npy. ***\n",
      "\n"
     ]
    },
    {
     "name": "stderr",
     "output_type": "stream",
     "text": [
      "\r",
      "chunks:   0%|                                                                                       | 0/10 [00:00<?, ?it/s]"
     ]
    },
    {
     "name": "stdout",
     "output_type": "stream",
     "text": [
      "*** FITTING TYPE-D MODEL (GLMDENOISE_RR) ***\n",
      "\n"
     ]
    },
    {
     "name": "stderr",
     "output_type": "stream",
     "text": [
      "chunks: 100%|█████████████████████████████████████████████████████████████████████████████| 10/10 [27:05<00:00, 162.58s/it]\n"
     ]
    },
    {
     "name": "stdout",
     "output_type": "stream",
     "text": [
      "\n",
      "*** Saving results to /dartfs-hpc/rc/lab/C/CANlab/labdata/projects/spacetop_projects_social/analysis/fmri/glmsingle/output/sub-0061/pain/TYPED_FITHRF_GLMDENOISE_RR.npy. ***\n",
      "\n",
      "*** All model types done ***\n",
      "\n",
      "*** return model types in results ***\n",
      "\n",
      "\telapsed time:  01:01:29\n"
     ]
    }
   ],
   "source": [
    "# this example saves output files to the folder  \"example1outputs/GLMsingle\"\n",
    "# if these outputs don't already exist, we will perform the time-consuming call to GLMsingle;\n",
    "# otherwise, we will just load from disk.\n",
    "\n",
    "start_time = time.time()\n",
    "\n",
    "results_glmsingle = glmsingle_obj.fit(\n",
    "       design,\n",
    "       data,\n",
    "       stimdur,\n",
    "       tr,\n",
    "       outputdir=outputdir_glmsingle)\n",
    "    # we assign outputs of GLMsingle to the \"results_glmsingle\" variable.\n",
    "    # note that results_glmsingle['typea'] contains GLM estimates from an ONOFF model,\n",
    "    # where all images are treated as the same condition. these estimates\n",
    "    # could be potentially used to find cortical areas that respond to\n",
    "    # visual stimuli. we want to compare beta weights between conditions\n",
    "    # therefore we are not going to include the ONOFF betas in any analyses of \n",
    "    # voxel reliability\n",
    "    \n",
    "elapsed_time = time.time() - start_time\n",
    "\n",
    "print(\n",
    "    '\\telapsed time: ',\n",
    "    f'{time.strftime(\"%H:%M:%S\", time.gmtime(elapsed_time))}'\n",
    ")"
   ]
  },
  {
   "cell_type": "code",
   "execution_count": 63,
   "id": "bf33130e",
   "metadata": {},
   "outputs": [
    {
     "data": {
      "text/plain": [
       "(73, 86, 73)"
      ]
     },
     "execution_count": 63,
     "metadata": {},
     "output_type": "execute_result"
    }
   ],
   "source": [
    "(73, 86, 73, 872)[:3]"
   ]
  },
  {
   "cell_type": "code",
   "execution_count": 78,
   "id": "d0c3be6f",
   "metadata": {},
   "outputs": [],
   "source": [
    "\n",
    "xyz = (73, 86, 73)\n",
    "new_reshape = (73,86,73,24)\n",
    "xyzt = (73, 86, 73, 872)"
   ]
  },
  {
   "cell_type": "code",
   "execution_count": 49,
   "id": "a3c18c61",
   "metadata": {},
   "outputs": [],
   "source": [
    "results_glmsingle = dict()\n",
    "results_glmsingle['typea'] = np.load(join(outputdir_glmsingle,'TYPEA_ONOFF.npy'),allow_pickle=True).item()\n",
    "results_glmsingle['typeb'] = np.load(join(outputdir_glmsingle,'TYPEB_FITHRF.npy'),allow_pickle=True).item()\n",
    "results_glmsingle['typec'] = np.load(join(outputdir_glmsingle,'TYPEC_FITHRF_GLMDENOISE.npy'),allow_pickle=True).item()\n",
    "results_glmsingle['typed'] = np.load(join(outputdir_glmsingle,'TYPED_FITHRF_GLMDENOISE_RR.npy'),allow_pickle=True).item()"
   ]
  },
  {
   "cell_type": "code",
   "execution_count": 71,
   "id": "238923b6",
   "metadata": {},
   "outputs": [],
   "source": [
    "plot_data = results_glmsingle['typed']['betasmd'].reshape((73,86,73,24))"
   ]
  },
  {
   "cell_type": "code",
   "execution_count": 72,
   "id": "4c130d48",
   "metadata": {},
   "outputs": [
    {
     "data": {
      "text/plain": [
       "(73, 86, 73, 24)"
      ]
     },
     "execution_count": 72,
     "metadata": {},
     "output_type": "execute_result"
    }
   ],
   "source": [
    "plot_data.shape"
   ]
  },
  {
   "cell_type": "code",
   "execution_count": 74,
   "id": "3c86c06a",
   "metadata": {},
   "outputs": [
    {
     "data": {
      "text/plain": [
       "Text(0.5, 1.0, 'example slice from run 1')"
      ]
     },
     "execution_count": 74,
     "metadata": {},
     "output_type": "execute_result"
    },
    {
     "data": {
      "image/png": "[encoded data removed]",
      "text/plain": [
       "<Figure size 2000x600 with 1 Axes>"
      ]
     },
     "metadata": {},
     "output_type": "display_data"
    }
   ],
   "source": [
    "# %% visualize data\n",
    "# plot example slice from run 1\n",
    "plt.figure(figsize=(20,6))\n",
    "plt.subplot(121)\n",
    "plt.imshow(plot_data[:,:,23,12])\n",
    "plt.title('example slice from run 1',fontsize=16)\n",
    "# plt.subplot(122)\n",
    "# plt.imshow(data[1][:,:,23,31])\n",
    "# plt.title('example slice from run 2',fontsize=16)"
   ]
  },
  {
   "cell_type": "code",
   "execution_count": 123,
   "id": "c8c58057",
   "metadata": {},
   "outputs": [
    {
     "data": {
      "text/plain": [
       "(73, 86, 73)"
      ]
     },
     "execution_count": 123,
     "metadata": {},
     "output_type": "execute_result"
    }
   ],
   "source": [
    "np.nanmean(np.squeeze(results_glmsingle['typed']['betasmd']),1).reshape(xyz).shape"
   ]
  },
  {
   "cell_type": "code",
   "execution_count": 118,
   "id": "31ccfa7e",
   "metadata": {},
   "outputs": [
    {
     "data": {
      "text/plain": [
       "0.22061005"
      ]
     },
     "execution_count": 118,
     "metadata": {},
     "output_type": "execute_result"
    }
   ],
   "source": [
    "np.nanmean(np.squeeze(results_glmsingle['typed'][plot_fields[i]]))"
   ]
  },
  {
   "cell_type": "code",
   "execution_count": 128,
   "id": "a8970036",
   "metadata": {},
   "outputs": [
    {
     "data": {
      "text/plain": [
       "(458294, 24)"
      ]
     },
     "execution_count": 128,
     "metadata": {},
     "output_type": "execute_result"
    }
   ],
   "source": [
    "results_glmsingle['typed']['betasmd'].shape"
   ]
  },
  {
   "cell_type": "code",
   "execution_count": 130,
   "id": "c8d39ef2",
   "metadata": {},
   "outputs": [
    {
     "data": {
      "text/plain": [
       "(458294,)"
      ]
     },
     "execution_count": 130,
     "metadata": {},
     "output_type": "execute_result"
    }
   ],
   "source": [
    "np.nanmean(np.squeeze(results_glmsingle['typed'][plot_fields[i]]),1).shape"
   ]
  },
  {
   "cell_type": "code",
   "execution_count": 131,
   "id": "2f78d65f",
   "metadata": {},
   "outputs": [
    {
     "name": "stdout",
     "output_type": "stream",
     "text": [
      "0\n",
      "0 finished\n",
      "1\n",
      "1 finished\n",
      "2\n",
      "2 finished\n",
      "3\n",
      "3 finished\n"
     ]
    },
    {
     "data": {
      "image/png": "[encoded data removed]",
      "text/plain": [
       "<Figure size 1200x800 with 8 Axes>"
      ]
     },
     "metadata": {},
     "output_type": "display_data"
    }
   ],
   "source": [
    "# we are going to plot several outputs from the FIT_HRF_GLMdenoise_RR GLM,\n",
    "# which contains the full set of GLMsingle optimizations.\n",
    "\n",
    "# we will plot betas, R2, optimal HRF indices, and the voxel frac values\n",
    "plot_fields = ['betasmd','R2','HRFindex','FRACvalue']\n",
    "colormaps = ['RdBu_r','hot','jet','copper']\n",
    "clims = [[-5,5],[0,85],[0,20],[0,1]]\n",
    "\n",
    "plt.figure(figsize=(12,8))\n",
    "\n",
    "for i in [0,1,2,3]: #range(len(plot_fields)):\n",
    "    \n",
    "    plt.subplot(2,2,i+1)\n",
    "    \n",
    "    if i == 0:\n",
    "        print(i)\n",
    "        # when plotting betas, for simplicity just average across all image presentations\n",
    "        # this will yield a summary of whether voxels tend to increase or decrease their \n",
    "        # activity in response to the experimental stimuli (similar to outputs from \n",
    "        # an ONOFF GLM)\n",
    "        if results_glmsingle['typed'][plot_fields[i]].ndim == 1:\n",
    "            plot_data = np.nanmean(np.squeeze(results_glmsingle['typed'][plot_fields[i]]),1).reshape(xyz)\n",
    "        else:\n",
    "            plot_data = np.nanmean(np.squeeze(results_glmsingle['typed'][plot_fields[i]]),1).reshape(xyz)\n",
    "        titlestr = 'average GLM betas (24 stimuli)'\n",
    "        plt.imshow(plot_data[:,:,23],cmap=colormaps[i],clim=clims[i])\n",
    "        plt.colorbar()\n",
    "        plt.title(titlestr)\n",
    "        plt.axis(False)\n",
    "        print(i, 'finished')\n",
    "    else:\n",
    "        print(i)\n",
    "        # plot all other voxel-wise metrics as outputted from GLMsingle\n",
    "        if results_glmsingle['typed'][plot_fields[i]].ndim == 1:\n",
    "            plot_data = np.squeeze(results_glmsingle['typed'][plot_fields[i]].reshape(xyz))\n",
    "            titlestr = plot_fields[i]\n",
    "            plt.imshow(plot_data[:,:,23],cmap=colormaps[i],clim=clims[i])\n",
    "            plt.colorbar()\n",
    "            plt.title(titlestr)\n",
    "            plt.axis(False)\n",
    "        else:\n",
    "            plot_data = np.squeeze(results_glmsingle['typed'][plot_fields[i]].reshape(new_reshape))\n",
    "            titlestr = plot_fields[i]\n",
    "            plt.imshow(plot_data[:,:23,12],cmap=colormaps[i],clim=clims[i])\n",
    "            plt.colorbar()\n",
    "            plt.title(titlestr)\n",
    "            plt.axis(False)\n",
    "        print(i, 'finished')\n"
   ]
  },
  {
   "cell_type": "code",
   "execution_count": 127,
   "id": "6cb5453b",
   "metadata": {},
   "outputs": [
    {
     "ename": "NameError",
     "evalue": "name 'X' is not defined",
     "output_type": "error",
     "traceback": [
      "\u001b[0;31m---------------------------------------------------------------------------\u001b[0m",
      "\u001b[0;31mNameError\u001b[0m                                 Traceback (most recent call last)",
      "\u001b[0;32m/scratch/ipykernel_15387/1497443304.py\u001b[0m in \u001b[0;36m<module>\u001b[0;34m\u001b[0m\n\u001b[1;32m      4\u001b[0m \u001b[0;34m\u001b[0m\u001b[0m\n\u001b[1;32m      5\u001b[0m \u001b[0;31m# iterate through each run of data\u001b[0m\u001b[0;34m\u001b[0m\u001b[0;34m\u001b[0m\u001b[0;34m\u001b[0m\u001b[0m\n\u001b[0;32m----> 6\u001b[0;31m \u001b[0;32mfor\u001b[0m \u001b[0mr\u001b[0m \u001b[0;32min\u001b[0m \u001b[0mrange\u001b[0m\u001b[0;34m(\u001b[0m\u001b[0mlen\u001b[0m\u001b[0;34m(\u001b[0m\u001b[0mX\u001b[0m\u001b[0;34m[\u001b[0m\u001b[0;34m'data'\u001b[0m\u001b[0;34m]\u001b[0m\u001b[0;34m[\u001b[0m\u001b[0;36m0\u001b[0m\u001b[0;34m]\u001b[0m\u001b[0;34m)\u001b[0m\u001b[0;34m)\u001b[0m\u001b[0;34m:\u001b[0m\u001b[0;34m\u001b[0m\u001b[0;34m\u001b[0m\u001b[0m\n\u001b[0m\u001b[1;32m      7\u001b[0m \u001b[0;34m\u001b[0m\u001b[0m\n\u001b[1;32m      8\u001b[0m     \u001b[0;31m# index into struct, append each run's timeseries data to list\u001b[0m\u001b[0;34m\u001b[0m\u001b[0;34m\u001b[0m\u001b[0;34m\u001b[0m\u001b[0m\n",
      "\u001b[0;31mNameError\u001b[0m: name 'X' is not defined"
     ]
    }
   ],
   "source": [
    "# variables that will contain bold time-series and design matrices from each run\n",
    "data = []\n",
    "design = []\n",
    "\n",
    "# iterate through each run of data\n",
    "for r in range(len(X['data'][0])):\n",
    "    \n",
    "    # index into struct, append each run's timeseries data to list\n",
    "    data.append(X['data'][0,r])\n",
    "    \n",
    "    # convert each run design matrix from sparse array to full numpy array, append\n",
    "    design.append(scipy.sparse.csr_matrix.toarray(X['design'][0,r]))\n",
    "    \n",
    "# get shape of data volume (XYZ) for convenience\n",
    "xyz = data[0].shape[:3]\n",
    "xyzt = data[0].shape\n",
    "\n",
    "# get metadata about stimulus duration and TR\n",
    "stimdur = X['stimdur'][0][0]\n",
    "tr = X['tr'][0][0]\n",
    "\n",
    "# get visual ROI mask identifying occipital cortex\n",
    "roi = X['ROI']"
   ]
  },
  {
   "cell_type": "code",
   "execution_count": 179,
   "id": "440061cf",
   "metadata": {},
   "outputs": [],
   "source": [
    " plot_data = np.nanmean(np.squeeze(results_glmsingle['typeb']['betasmd']),1\n",
    "                       )"
   ]
  },
  {
   "cell_type": "code",
   "execution_count": 180,
   "id": "ff074e40",
   "metadata": {},
   "outputs": [
    {
     "data": {
      "text/plain": [
       "(458294,)"
      ]
     },
     "execution_count": 180,
     "metadata": {},
     "output_type": "execute_result"
    }
   ],
   "source": [
    "plot_data.shape"
   ]
  },
  {
   "cell_type": "code",
   "execution_count": 181,
   "id": "fb88e748",
   "metadata": {},
   "outputs": [
    {
     "ename": "ValueError",
     "evalue": "cannot reshape array of size 5499528 into shape (73,86,73)",
     "output_type": "error",
     "traceback": [
      "\u001b[0;31m---------------------------------------------------------------------------\u001b[0m",
      "\u001b[0;31mValueError\u001b[0m                                Traceback (most recent call last)",
      "\u001b[0;32m/scratch/ipykernel_15387/1009243899.py\u001b[0m in \u001b[0;36m<module>\u001b[0;34m\u001b[0m\n\u001b[0;32m----> 1\u001b[0;31m \u001b[0mplot_data\u001b[0m \u001b[0;34m=\u001b[0m \u001b[0mnp\u001b[0m\u001b[0;34m.\u001b[0m\u001b[0msqueeze\u001b[0m\u001b[0;34m(\u001b[0m\u001b[0mresults_glmsingle\u001b[0m\u001b[0;34m[\u001b[0m\u001b[0;34m'typeb'\u001b[0m\u001b[0;34m]\u001b[0m\u001b[0;34m[\u001b[0m\u001b[0;34m'betasmd'\u001b[0m\u001b[0;34m]\u001b[0m\u001b[0;34m.\u001b[0m\u001b[0mreshape\u001b[0m\u001b[0;34m(\u001b[0m\u001b[0;34m(\u001b[0m\u001b[0;36m73\u001b[0m\u001b[0;34m,\u001b[0m \u001b[0;36m86\u001b[0m\u001b[0;34m,\u001b[0m \u001b[0;36m73\u001b[0m\u001b[0;34m)\u001b[0m\u001b[0;34m)\u001b[0m\u001b[0;34m)\u001b[0m\u001b[0;34m\u001b[0m\u001b[0;34m\u001b[0m\u001b[0m\n\u001b[0m",
      "\u001b[0;31mValueError\u001b[0m: cannot reshape array of size 5499528 into shape (73,86,73)"
     ]
    }
   ],
   "source": [
    "plot_data = np.squeeze(results_glmsingle['typeb']['betasmd'].reshape((73, 86, 73)))"
   ]
  },
  {
   "cell_type": "code",
   "execution_count": 133,
   "id": "224e709b",
   "metadata": {},
   "outputs": [],
   "source": [
    "models = dict()\n",
    "xyz = (73, 86, 73)\n",
    "models['assumehrf'] = results_glmsingle['typeb']['betasmd'].reshape(xyz + (24,))\n",
    "models['fithrf'] = results_glmsingle['typeb']['betasmd']\n",
    "# models['fithrf_glmdenoise'] = results_glmsingle['typec']['betasmd']\n",
    "# models['fithrf_glmdenoise_rr'] = results_glmsingle['typed']['betasmd']"
   ]
  },
  {
   "cell_type": "code",
   "execution_count": 134,
   "id": "37aaa070",
   "metadata": {},
   "outputs": [
    {
     "data": {
      "text/plain": [
       "(73, 86, 73, 24)"
      ]
     },
     "execution_count": 134,
     "metadata": {},
     "output_type": "execute_result"
    }
   ],
   "source": [
    "models['assumehrf'].shape"
   ]
  },
  {
   "cell_type": "code",
   "execution_count": 135,
   "id": "66047978",
   "metadata": {},
   "outputs": [
    {
     "data": {
      "text/plain": [
       "(73, 86, 73)"
      ]
     },
     "execution_count": 135,
     "metadata": {},
     "output_type": "execute_result"
    }
   ],
   "source": [
    "np.nanmean(np.squeeze(models['assumehrf']), axis = 3).shape"
   ]
  },
  {
   "cell_type": "code",
   "execution_count": 136,
   "id": "ac68b75b",
   "metadata": {},
   "outputs": [
    {
     "data": {
      "text/plain": [
       "<matplotlib.image.AxesImage at 0x2abdbdd58e50>"
      ]
     },
     "execution_count": 136,
     "metadata": {},
     "output_type": "execute_result"
    },
    {
     "data": {
      "image/png": "[encoded data removed]",
      "text/plain": [
       "<Figure size 640x480 with 1 Axes>"
      ]
     },
     "metadata": {},
     "output_type": "display_data"
    }
   ],
   "source": [
    "plt.imshow(np.nanmean(np.squeeze(models['assumehrf']), axis = 3)[:,:,23])"
   ]
  },
  {
   "cell_type": "code",
   "execution_count": 137,
   "id": "21aa0809",
   "metadata": {},
   "outputs": [
    {
     "ename": "TypeError",
     "evalue": "Invalid shape (3,) for image data",
     "output_type": "error",
     "traceback": [
      "\u001b[0;31m---------------------------------------------------------------------------\u001b[0m",
      "\u001b[0;31mTypeError\u001b[0m                                 Traceback (most recent call last)",
      "\u001b[0;32m/scratch/ipykernel_4294/3846610238.py\u001b[0m in \u001b[0;36m<module>\u001b[0;34m\u001b[0m\n\u001b[1;32m      1\u001b[0m \u001b[0;31m# plot_data = np.nanmean(np.squeeze(results_glmsingle['typeb']['betasmd']),1)\u001b[0m\u001b[0;34m\u001b[0m\u001b[0;34m\u001b[0m\u001b[0;34m\u001b[0m\u001b[0m\n\u001b[1;32m      2\u001b[0m \u001b[0;31m# plot_data = np.nanmean(np.squeeze(results_glmsingle['typeb']['betasmd'].reshape(73, 86, 73)))\u001b[0m\u001b[0;34m\u001b[0m\u001b[0;34m\u001b[0m\u001b[0;34m\u001b[0m\u001b[0m\n\u001b[0;32m----> 3\u001b[0;31m \u001b[0mplt\u001b[0m\u001b[0;34m.\u001b[0m\u001b[0mimshow\u001b[0m\u001b[0;34m(\u001b[0m\u001b[0mnp\u001b[0m\u001b[0;34m.\u001b[0m\u001b[0mnanmean\u001b[0m\u001b[0;34m(\u001b[0m\u001b[0mnp\u001b[0m\u001b[0;34m.\u001b[0m\u001b[0msqueeze\u001b[0m\u001b[0;34m(\u001b[0m\u001b[0mmodels\u001b[0m\u001b[0;34m[\u001b[0m\u001b[0;34m'assumehrf'\u001b[0m\u001b[0;34m]\u001b[0m\u001b[0;34m)\u001b[0m\u001b[0;34m,\u001b[0m \u001b[0maxis\u001b[0m \u001b[0;34m=\u001b[0m \u001b[0;36m3\u001b[0m\u001b[0;34m)\u001b[0m\u001b[0;34m.\u001b[0m\u001b[0mshape\u001b[0m\u001b[0;34m,\u001b[0m \u001b[0;34m'RdBu_r'\u001b[0m\u001b[0;34m,\u001b[0m \u001b[0mclim\u001b[0m \u001b[0;34m=\u001b[0m \u001b[0;34m[\u001b[0m\u001b[0;34m-\u001b[0m\u001b[0;36m5\u001b[0m\u001b[0;34m,\u001b[0m\u001b[0;36m5\u001b[0m\u001b[0;34m]\u001b[0m\u001b[0;34m)\u001b[0m\u001b[0;34m\u001b[0m\u001b[0;34m\u001b[0m\u001b[0m\n\u001b[0m",
      "\u001b[0;32m~/.conda/envs/spacetop_env/lib/python3.7/site-packages/matplotlib-3.5.0rc1-py3.7-linux-x86_64.egg/matplotlib/_api/deprecation.py\u001b[0m in \u001b[0;36mwrapper\u001b[0;34m(*args, **kwargs)\u001b[0m\n\u001b[1;32m    454\u001b[0m                 \u001b[0;34m\"parameter will become keyword-only %(removal)s.\"\u001b[0m\u001b[0;34m,\u001b[0m\u001b[0;34m\u001b[0m\u001b[0;34m\u001b[0m\u001b[0m\n\u001b[1;32m    455\u001b[0m                 name=name, obj_type=f\"parameter of {func.__name__}()\")\n\u001b[0;32m--> 456\u001b[0;31m         \u001b[0;32mreturn\u001b[0m \u001b[0mfunc\u001b[0m\u001b[0;34m(\u001b[0m\u001b[0;34m*\u001b[0m\u001b[0margs\u001b[0m\u001b[0;34m,\u001b[0m \u001b[0;34m**\u001b[0m\u001b[0mkwargs\u001b[0m\u001b[0;34m)\u001b[0m\u001b[0;34m\u001b[0m\u001b[0;34m\u001b[0m\u001b[0m\n\u001b[0m\u001b[1;32m    457\u001b[0m \u001b[0;34m\u001b[0m\u001b[0m\n\u001b[1;32m    458\u001b[0m     \u001b[0;31m# Don't modify *func*'s signature, as boilerplate.py needs it.\u001b[0m\u001b[0;34m\u001b[0m\u001b[0;34m\u001b[0m\u001b[0;34m\u001b[0m\u001b[0m\n",
      "\u001b[0;32m~/.conda/envs/spacetop_env/lib/python3.7/site-packages/matplotlib-3.5.0rc1-py3.7-linux-x86_64.egg/matplotlib/pyplot.py\u001b[0m in \u001b[0;36mimshow\u001b[0;34m(X, cmap, norm, aspect, interpolation, alpha, vmin, vmax, origin, extent, interpolation_stage, filternorm, filterrad, resample, url, data, **kwargs)\u001b[0m\n\u001b[1;32m   2641\u001b[0m         \u001b[0mfilternorm\u001b[0m\u001b[0;34m=\u001b[0m\u001b[0mfilternorm\u001b[0m\u001b[0;34m,\u001b[0m \u001b[0mfilterrad\u001b[0m\u001b[0;34m=\u001b[0m\u001b[0mfilterrad\u001b[0m\u001b[0;34m,\u001b[0m \u001b[0mresample\u001b[0m\u001b[0;34m=\u001b[0m\u001b[0mresample\u001b[0m\u001b[0;34m,\u001b[0m\u001b[0;34m\u001b[0m\u001b[0;34m\u001b[0m\u001b[0m\n\u001b[1;32m   2642\u001b[0m         \u001b[0murl\u001b[0m\u001b[0;34m=\u001b[0m\u001b[0murl\u001b[0m\u001b[0;34m,\u001b[0m \u001b[0;34m**\u001b[0m\u001b[0;34m(\u001b[0m\u001b[0;34m{\u001b[0m\u001b[0;34m\"data\"\u001b[0m\u001b[0;34m:\u001b[0m \u001b[0mdata\u001b[0m\u001b[0;34m}\u001b[0m \u001b[0;32mif\u001b[0m \u001b[0mdata\u001b[0m \u001b[0;32mis\u001b[0m \u001b[0;32mnot\u001b[0m \u001b[0;32mNone\u001b[0m \u001b[0;32melse\u001b[0m \u001b[0;34m{\u001b[0m\u001b[0;34m}\u001b[0m\u001b[0;34m)\u001b[0m\u001b[0;34m,\u001b[0m\u001b[0;34m\u001b[0m\u001b[0;34m\u001b[0m\u001b[0m\n\u001b[0;32m-> 2643\u001b[0;31m         **kwargs)\n\u001b[0m\u001b[1;32m   2644\u001b[0m     \u001b[0msci\u001b[0m\u001b[0;34m(\u001b[0m\u001b[0m__ret\u001b[0m\u001b[0;34m)\u001b[0m\u001b[0;34m\u001b[0m\u001b[0;34m\u001b[0m\u001b[0m\n\u001b[1;32m   2645\u001b[0m     \u001b[0;32mreturn\u001b[0m \u001b[0m__ret\u001b[0m\u001b[0;34m\u001b[0m\u001b[0;34m\u001b[0m\u001b[0m\n",
      "\u001b[0;32m~/.conda/envs/spacetop_env/lib/python3.7/site-packages/matplotlib-3.5.0rc1-py3.7-linux-x86_64.egg/matplotlib/_api/deprecation.py\u001b[0m in \u001b[0;36mwrapper\u001b[0;34m(*args, **kwargs)\u001b[0m\n\u001b[1;32m    454\u001b[0m                 \u001b[0;34m\"parameter will become keyword-only %(removal)s.\"\u001b[0m\u001b[0;34m,\u001b[0m\u001b[0;34m\u001b[0m\u001b[0;34m\u001b[0m\u001b[0m\n\u001b[1;32m    455\u001b[0m                 name=name, obj_type=f\"parameter of {func.__name__}()\")\n\u001b[0;32m--> 456\u001b[0;31m         \u001b[0;32mreturn\u001b[0m \u001b[0mfunc\u001b[0m\u001b[0;34m(\u001b[0m\u001b[0;34m*\u001b[0m\u001b[0margs\u001b[0m\u001b[0;34m,\u001b[0m \u001b[0;34m**\u001b[0m\u001b[0mkwargs\u001b[0m\u001b[0;34m)\u001b[0m\u001b[0;34m\u001b[0m\u001b[0;34m\u001b[0m\u001b[0m\n\u001b[0m\u001b[1;32m    457\u001b[0m \u001b[0;34m\u001b[0m\u001b[0m\n\u001b[1;32m    458\u001b[0m     \u001b[0;31m# Don't modify *func*'s signature, as boilerplate.py needs it.\u001b[0m\u001b[0;34m\u001b[0m\u001b[0;34m\u001b[0m\u001b[0;34m\u001b[0m\u001b[0m\n",
      "\u001b[0;32m~/.conda/envs/spacetop_env/lib/python3.7/site-packages/matplotlib-3.5.0rc1-py3.7-linux-x86_64.egg/matplotlib/__init__.py\u001b[0m in \u001b[0;36minner\u001b[0;34m(ax, data, *args, **kwargs)\u001b[0m\n\u001b[1;32m   1410\u001b[0m     \u001b[0;32mdef\u001b[0m \u001b[0minner\u001b[0m\u001b[0;34m(\u001b[0m\u001b[0max\u001b[0m\u001b[0;34m,\u001b[0m \u001b[0;34m*\u001b[0m\u001b[0margs\u001b[0m\u001b[0;34m,\u001b[0m \u001b[0mdata\u001b[0m\u001b[0;34m=\u001b[0m\u001b[0;32mNone\u001b[0m\u001b[0;34m,\u001b[0m \u001b[0;34m**\u001b[0m\u001b[0mkwargs\u001b[0m\u001b[0;34m)\u001b[0m\u001b[0;34m:\u001b[0m\u001b[0;34m\u001b[0m\u001b[0;34m\u001b[0m\u001b[0m\n\u001b[1;32m   1411\u001b[0m         \u001b[0;32mif\u001b[0m \u001b[0mdata\u001b[0m \u001b[0;32mis\u001b[0m \u001b[0;32mNone\u001b[0m\u001b[0;34m:\u001b[0m\u001b[0;34m\u001b[0m\u001b[0;34m\u001b[0m\u001b[0m\n\u001b[0;32m-> 1412\u001b[0;31m             \u001b[0;32mreturn\u001b[0m \u001b[0mfunc\u001b[0m\u001b[0;34m(\u001b[0m\u001b[0max\u001b[0m\u001b[0;34m,\u001b[0m \u001b[0;34m*\u001b[0m\u001b[0mmap\u001b[0m\u001b[0;34m(\u001b[0m\u001b[0msanitize_sequence\u001b[0m\u001b[0;34m,\u001b[0m \u001b[0margs\u001b[0m\u001b[0;34m)\u001b[0m\u001b[0;34m,\u001b[0m \u001b[0;34m**\u001b[0m\u001b[0mkwargs\u001b[0m\u001b[0;34m)\u001b[0m\u001b[0;34m\u001b[0m\u001b[0;34m\u001b[0m\u001b[0m\n\u001b[0m\u001b[1;32m   1413\u001b[0m \u001b[0;34m\u001b[0m\u001b[0m\n\u001b[1;32m   1414\u001b[0m         \u001b[0mbound\u001b[0m \u001b[0;34m=\u001b[0m \u001b[0mnew_sig\u001b[0m\u001b[0;34m.\u001b[0m\u001b[0mbind\u001b[0m\u001b[0;34m(\u001b[0m\u001b[0max\u001b[0m\u001b[0;34m,\u001b[0m \u001b[0;34m*\u001b[0m\u001b[0margs\u001b[0m\u001b[0;34m,\u001b[0m \u001b[0;34m**\u001b[0m\u001b[0mkwargs\u001b[0m\u001b[0;34m)\u001b[0m\u001b[0;34m\u001b[0m\u001b[0;34m\u001b[0m\u001b[0m\n",
      "\u001b[0;32m~/.conda/envs/spacetop_env/lib/python3.7/site-packages/matplotlib-3.5.0rc1-py3.7-linux-x86_64.egg/matplotlib/axes/_axes.py\u001b[0m in \u001b[0;36mimshow\u001b[0;34m(self, X, cmap, norm, aspect, interpolation, alpha, vmin, vmax, origin, extent, interpolation_stage, filternorm, filterrad, resample, url, **kwargs)\u001b[0m\n\u001b[1;32m   5436\u001b[0m                               **kwargs)\n\u001b[1;32m   5437\u001b[0m \u001b[0;34m\u001b[0m\u001b[0m\n\u001b[0;32m-> 5438\u001b[0;31m         \u001b[0mim\u001b[0m\u001b[0;34m.\u001b[0m\u001b[0mset_data\u001b[0m\u001b[0;34m(\u001b[0m\u001b[0mX\u001b[0m\u001b[0;34m)\u001b[0m\u001b[0;34m\u001b[0m\u001b[0;34m\u001b[0m\u001b[0m\n\u001b[0m\u001b[1;32m   5439\u001b[0m         \u001b[0mim\u001b[0m\u001b[0;34m.\u001b[0m\u001b[0mset_alpha\u001b[0m\u001b[0;34m(\u001b[0m\u001b[0malpha\u001b[0m\u001b[0;34m)\u001b[0m\u001b[0;34m\u001b[0m\u001b[0;34m\u001b[0m\u001b[0m\n\u001b[1;32m   5440\u001b[0m         \u001b[0;32mif\u001b[0m \u001b[0mim\u001b[0m\u001b[0;34m.\u001b[0m\u001b[0mget_clip_path\u001b[0m\u001b[0;34m(\u001b[0m\u001b[0;34m)\u001b[0m \u001b[0;32mis\u001b[0m \u001b[0;32mNone\u001b[0m\u001b[0;34m:\u001b[0m\u001b[0;34m\u001b[0m\u001b[0;34m\u001b[0m\u001b[0m\n",
      "\u001b[0;32m~/.conda/envs/spacetop_env/lib/python3.7/site-packages/matplotlib-3.5.0rc1-py3.7-linux-x86_64.egg/matplotlib/image.py\u001b[0m in \u001b[0;36mset_data\u001b[0;34m(self, A)\u001b[0m\n\u001b[1;32m    714\u001b[0m                 or self._A.ndim == 3 and self._A.shape[-1] in [3, 4]):\n\u001b[1;32m    715\u001b[0m             raise TypeError(\"Invalid shape {} for image data\"\n\u001b[0;32m--> 716\u001b[0;31m                             .format(self._A.shape))\n\u001b[0m\u001b[1;32m    717\u001b[0m \u001b[0;34m\u001b[0m\u001b[0m\n\u001b[1;32m    718\u001b[0m         \u001b[0;32mif\u001b[0m \u001b[0mself\u001b[0m\u001b[0;34m.\u001b[0m\u001b[0m_A\u001b[0m\u001b[0;34m.\u001b[0m\u001b[0mndim\u001b[0m \u001b[0;34m==\u001b[0m \u001b[0;36m3\u001b[0m\u001b[0;34m:\u001b[0m\u001b[0;34m\u001b[0m\u001b[0;34m\u001b[0m\u001b[0m\n",
      "\u001b[0;31mTypeError\u001b[0m: Invalid shape (3,) for image data"
     ]
    },
    {
     "data": {
      "image/png": "[encoded data removed]",
      "text/plain": [
       "<Figure size 640x480 with 1 Axes>"
      ]
     },
     "metadata": {},
     "output_type": "display_data"
    }
   ],
   "source": [
    "# plot_data = np.nanmean(np.squeeze(results_glmsingle['typeb']['betasmd']),1)\n",
    "# plot_data = np.nanmean(np.squeeze(results_glmsingle['typeb']['betasmd'].reshape(73, 86, 73)))\n",
    "plt.imshow(np.nanmean(np.squeeze(models['assumehrf']), axis = 3).shape, 'RdBu_r', clim = [-5,5])\n"
   ]
  },
  {
   "cell_type": "code",
   "execution_count": null,
   "id": "af04239f",
   "metadata": {},
   "outputs": [],
   "source": []
  }
 ],
 "metadata": {
  "kernelspec": {
   "display_name": "Python 3 (ipykernel)",
   "language": "python",
   "name": "python3"
  },
  "language_info": {
   "codemirror_mode": {
    "name": "ipython",
    "version": 3
   },
   "file_extension": ".py",
   "mimetype": "text/x-python",
   "name": "python",
   "nbconvert_exporter": "python",
   "pygments_lexer": "ipython3",
   "version": "3.7.10"
  }
 },
 "nbformat": 4,
 "nbformat_minor": 5
}
