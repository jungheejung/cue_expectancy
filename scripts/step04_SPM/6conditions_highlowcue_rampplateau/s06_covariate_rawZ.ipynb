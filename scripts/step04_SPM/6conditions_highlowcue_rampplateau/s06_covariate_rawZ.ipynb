{
 "cells": [
  {
   "cell_type": "code",
   "execution_count": 1,
   "id": "625f1cbf-481e-452c-bfe2-22532e5e1aed",
   "metadata": {},
   "outputs": [],
   "source": [
    "clear all;\n",
    "close all;\n",
    "\n",
    "contrast_of_interest = 'P_simple_STIM_cue_high_gt_low';\n",
    "addpath(genpath('/Users/h/Documents/MATLAB/CanlabCore'));"
   ]
  },
  {
   "cell_type": "code",
   "execution_count": 2,
   "id": "13424ec6-e48e-4b1a-b5cf-c030118559f3",
   "metadata": {},
   "outputs": [
    {
     "name": "stdout",
     "output_type": "stream",
     "text": [
      "Using default mask: /Users/h/Documents/MATLAB/CanlabCore/CanlabCore/canlab_canonical_brains/Canonical_brains_surfaces/brainmask_canlab.nii\n",
      "Direct calls to spm_defauts are deprecated.\n",
      "Please use spm('Defaults',modality) or spm_get_defaults instead.\n",
      "loading mask. mapping volumes. \n",
      "checking that dimensions and voxel sizes of volumes are the same. \n",
      "Pre-allocating data array. Needed: 28753056 bytes\n",
      "Loading image number:                                            1   1   1   1   1   1   1   1   1   1   2   2   2   2   2   2   2   2   2   2   3   3   3   3   3   3   3   3   3   3   4   4   4   4   4   4   4   4   4   4   5   5   5   5   5   5   5   5   5   5   6   6   6   6   6   6   6   6   6   6   7   7   72\n",
      "Elapsed time is 3.430177 seconds.\n",
      "Image names entered, but fullpath attribute is empty. Getting path info.\n",
      "Number of unique values in dataset: 6899522  Bit rate: 22.72 bits\n"
     ]
    }
   ],
   "source": [
    "mount_dir = '/Volumes/spacetop_projects_cue/analysis/fmri/spm/univariate/model01_6cond_highlowcue_rampplateau/1stlevel';\n",
    "contrast_name = {\n",
    "    'P_VC_STIM_cue_high_gt_low', 'V_PC_STIM_cue_high_gt_low', 'C_PV_STIM_cue_high_gt_low',...% contratss\n",
    "    'P_VC_STIM_stimlin_high_gt_low', 'V_PC_STIM_stimlin_high_gt_low', 'C_PV_STIM_stimlin_high_gt_low',...\n",
    "    'P_VC_STIM_stimquad_med_gt_other', 'V_PC_STIM_stimquad_med_gt_other', 'C_PV_STIM_stimquad_med_gt_other',...\n",
    "    'P_VC_STIM_cue_int_stimlin','V_PC_STIM_cue_int_stimlin', 'C_PV_STIM_cue_int_stimlin',...\n",
    "    'P_VC_STIM_cue_int_stimquad','V_PC_STIM_cue_int_stimquad','C_PV_STIM_cue_int_stimquad',...\n",
    "    'motor',... %motor\n",
    "    'P_simple_STIM_cue_high_gt_low','V_simple_STIM_cue_high_gt_low', 'C_simple_STIM_cue_high_gt_low',... % dummay contrasts\n",
    "    'P_simple_STIM_stimlin_high_gt_low',  'V_simple_STIM_stimlin_high_gt_low', 'C_simple_STIM_stimlin_high_gt_low',...\n",
    "    'P_simple_STIM_stimquad_med_gt_other','V_simple_STIM_stimquad_med_gt_other', 'C_simple_STIM_stimquad_med_gt_other',...\n",
    "    'P_simple_STIM_cue_int_stimlin',      'V_simple_STIM_cue_int_stimlin', 'C_simple_STIM_cue_int_stimlin',...\n",
    "    'P_simple_STIM_cue_int_stimquad',     'V_simple_STIM_cue_int_stimquad','C_simple_STIM_cue_int_stimquad',...\n",
    "    'P_simple_STIM_highcue_highstim',     'P_simple_STIM_highcue_medstim', 'P_simple_STIM_highcue_lowstim',... % pain events\n",
    "    'P_simple_STIM_lowcue_highstim',      'P_simple_STIM_lowcue_medstim', 'P_simple_STIM_lowcue_lowstim',...\n",
    "    'V_simple_STIM_highcue_highstim',     'V_simple_STIM_highcue_medstim', 'V_simple_STIM_highcue_lowstim',... % vicarious events\n",
    "    'V_simple_STIM_lowcue_highstim',      'V_simple_STIM_lowcue_medstim', 'V_simple_STIM_lowcue_lowstim',...\n",
    "    'C_simple_STIM_highcue_highstim',    'C_simple_STIM_highcue_medstim', 'C_simple_STIM_highcue_lowstim',... % cognitive events\n",
    "    'C_simple_STIM_lowcue_highstim',    'C_simple_STIM_lowcue_medstim', 'C_simple_STIM_lowcue_lowstim',...\n",
    "    'P_VC_CUE_cue_high_gt_low','V_PC_CUE_cue_high_gt_low','C_PV_CUE_cue_high_gt_low',...% cue epoch contrasts\n",
    "    'P_simple_CUE_cue_high_gt_low','V_simple_CUE_STIM_cue_high_gt_low','C_simple_CUE_cue_high_gt_low',...% cue epoch dummy\n",
    "    'G_simple_CUE_cue_high_gt_low',...\n",
    "    'P_VC_STIM', 'V_PC_STIM', 'C_PV_STIM'\n",
    "};\n",
    "index = find(strcmp(contrast_name, contrast_of_interest));\n",
    "con_name = sprintf('*con_%04d.nii', index);\n",
    "con_list = dir(fullfile(mount_dir, '*', con_name));\n",
    "spm('Defaults','fMRI') \n",
    "con_fldr = {con_list.folder}; fname = {con_list.name};\n",
    "con_files = strcat(con_fldr,'/', fname)';\n",
    "con_data_obj = fmri_data(con_files);"
   ]
  },
  {
   "cell_type": "markdown",
   "id": "a4171d0e-3d7a-4c39-8d81-5b8e19ea9c8f",
   "metadata": {},
   "source": [
    "#### check data coverage"
   ]
  },
  {
   "cell_type": "code",
   "execution_count": 3,
   "id": "635fc575-853a-423a-85a1-b54ca8d6a15b",
   "metadata": {},
   "outputs": [
    {
     "name": "stdout",
     "output_type": "stream",
     "text": [
      "Compressed NIfTI files are not supported.\n",
      "\n",
      "SPM12: spm_check_registration (v7759)              17:16:52 - 30/01/2024\n",
      "========================================================================\n",
      "Display /Users/h/Documents/MATLAB/CanlabCore/CanlabCore/canlab_canonical_brains/Canonical_brains_surfaces/fmriprep20_template.nii.gz,1\n",
      "Grouping contiguous voxels:   1 regions\n"
     ]
    },
    {
     "data": {
      "image/png": "[encoded data removed]",
      "text/plain": [
       "<IPython.core.display.Image object>"
      ]
     },
     "metadata": {},
     "output_type": "display_data"
    }
   ],
   "source": [
    "m = mean(con_data_obj);\n",
    "m.dat = sum(~isnan(con_data_obj.dat) & con_data_obj.dat ~= 0, 2);\n",
    "orthviews(m, 'trans'); % display"
   ]
  },
  {
   "cell_type": "code",
   "execution_count": null,
   "id": "f1dede81-78cf-4f16-844a-5b0b9dba0bdd",
   "metadata": {},
   "outputs": [],
   "source": [
    "profile on\n",
    "% Your plotting code here\n",
    "\n",
    "% figure('Visible', 'off');\n",
    "[wh_outlier_uncorr, wh_outlier_corr] = plot(con_data_obj);\n",
    "drawnow; % gcf gets the current figure handle\n",
    "\n",
    "profile off\n",
    "profile viewer\n",
    "% remove outlier\n",
    "% con = con_data_obj;\n",
    "% disp(strcat(\"current length is \", num2str(size(con_data_obj.dat,2))));"
   ]
  },
  {
   "cell_type": "code",
   "execution_count": null,
   "id": "21460bc9-3b21-4075-b204-d3f9eebd3711",
   "metadata": {},
   "outputs": [
    {
     "name": "stdout",
     "output_type": "stream",
     "text": [
      "the MATLAB function has been cancelled\n",
      "the MATLAB function has been cancelled\n"
     ]
    }
   ],
   "source": [
    "con.dat = con_data_obj.dat(:,~wh_outlier_corr);\n",
    "con.image_names = con_data_obj.image_names(~wh_outlier_corr,:);\n",
    "con.fullpath = con_data_obj.fullpath(~wh_outlier_corr,:);\n",
    "con.files_exist = con_data_obj.files_exist(~wh_outlier_corr,:);\n",
    "%end\n",
    "disp(strcat(\"after removing \", num2str(sum(wh_outlier_corr)), \" participants, size is now \",num2str(size(con.dat,2))));"
   ]
  },
  {
   "cell_type": "code",
   "execution_count": null,
   "id": "112ec1e4-b0cb-4b2f-a287-cc2f0de5c8f3",
   "metadata": {},
   "outputs": [
    {
     "name": "stdout",
     "output_type": "stream",
     "text": [
      "the MATLAB function has been cancelled\n",
      "the MATLAB function has been cancelled\n"
     ]
    }
   ],
   "source": [
    "[path,n,e] = fileparts(con_fldr(wh_outlier_corr));\n",
    "disp(strcat(\"participants that are outliers:... \", n));"
   ]
  },
  {
   "cell_type": "markdown",
   "id": "e98908f6-c15c-4bdd-86e5-f1f58c9ee6eb",
   "metadata": {},
   "source": [
    "# load behavioral data"
   ]
  },
  {
   "cell_type": "code",
   "execution_count": null,
   "id": "eff1b3d5-f0c1-4416-baf9-310ef4c22145",
   "metadata": {},
   "outputs": [],
   "source": [
    "main_dir = '/Users/h/Documents/projects_local/cue_expectancy';\n",
    "save_dir = fullfile(main_dir, 'analysis', 'fmri', 'spm', 'scaling','6conditions_highlowcue_rampplateau'); \n",
    "beh_cueeffect = readtable('/Users/h/Documents/projects_local/cue_expectancy/data/hlm/cue_stim_effects_scaling.csv');\n",
    "pain_task = find(strcmp(beh_cueeffect.task, 'pain'));\n",
    "\n",
    "pain_cueeffect = beh_cueeffect(pain_task, :);\n",
    "\n",
    "% extract subject ids from contrast fMRI data object and intersect with\n",
    "% behavioral data\n",
    "nRows = size(con_data_obj.image_names, 1);\n",
    "sub_ids = cell(nRows, 1);\n",
    "\n",
    "for i = 1:nRows\n",
    "    sub_ids{i} = con_data_obj.image_names(i, 1:8);\n",
    "end\n",
    "\n",
    "sub_ids_table = table(sub_ids, 'VariableNames', {'sub'});\n",
    "common_subs = intersect(sub_ids_table.sub, pain_cueeffect.sub)\n",
    "% Ensure beh_cueeffect.sub is a cell array for comparison\n",
    "if ~iscell(pain_cueeffect.sub)\n",
    "    pain_cueeffect.sub = cellstr(pain_cueeffect.sub);\n",
    "end\n",
    "\n",
    "rows_to_keep = ismember(pain_cueeffect.sub, common_subs);\n",
    "filtered_pain_cueeffect = pain_cueeffect(rows_to_keep, :);\n",
    "\n",
    "% regenerate contrast filenames based on intersecting subject ids\n",
    "% Initialize an empty cell array for the file paths\n",
    "filteredcon_files = cell(length(common_subs), 1);\n",
    "\n",
    "% Loop through each subject ID and construct the file path\n",
    "for i = 1:length(common_subs)\n",
    "    filteredcon_files{i} = fullfile(mount_dir, common_subs{i}, [common_subs{i}, '_', sprintf('con_%04d.nii', index)]);\n",
    "end"
   ]
  },
  {
   "cell_type": "markdown",
   "id": "81931f6c-5625-450c-817a-dc8469d5b887",
   "metadata": {},
   "source": [
    "# center all covariates"
   ]
  },
  {
   "cell_type": "code",
   "execution_count": null,
   "id": "40326752-1d94-4915-b640-482634fdca24",
   "metadata": {},
   "outputs": [],
   "source": [
    "beh_filtered  = filtered_pain_cueeffect;\n",
    "% Assuming 'T' is your MATLAB table\n",
    "for k = 3:width(beh_filtered)  % Start loop from the 3rd column\n",
    "    % Check if the column is numeric\n",
    "    if isnumeric(beh_filtered.(k))\n",
    "        % Center the column\n",
    "        beh_filtered.(k) = beh_filtered.(k) - mean(beh_filtered.(k));\n",
    "\n",
    "        % Rename the column by appending '_center'\n",
    "        beh_filtered.Properties.VariableNames{k} = [beh_filtered.Properties.VariableNames{k} '_center'];\n",
    "    end\n",
    "end"
   ]
  },
  {
   "cell_type": "code",
   "execution_count": null,
   "id": "95fa88e4-191a-475b-9398-5ab87f2fd368",
   "metadata": {},
   "outputs": [],
   "source": [
    "Step 03. run multiple regression with covariates"
   ]
  }
 ],
 "metadata": {
  "kernelspec": {
   "display_name": "Matlab (Connection)",
   "language": "matlab",
   "name": "matlab_connect"
  },
  "language_info": {
   "codemirror_mode": "octave",
   "file_extension": ".m",
   "help_links": [
    {
     "text": "MetaKernel Magics",
     "url": "https://metakernel.readthedocs.io/en/latest/source/README.html"
    }
   ],
   "mimetype": "text/x-octave",
   "name": "matlab",
   "version": "0.17.1"
  }
 },
 "nbformat": 4,
 "nbformat_minor": 5
}
