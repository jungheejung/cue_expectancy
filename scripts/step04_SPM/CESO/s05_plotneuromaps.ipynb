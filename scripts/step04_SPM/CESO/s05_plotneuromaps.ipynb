{
 "cells": [
  {
   "cell_type": "code",
   "execution_count": 1,
   "metadata": {},
   "outputs": [],
   "source": [
    "import neuromaps\n",
    "from neuromaps import datasets\n",
    "import scipy\n",
    "from nilearn import image\n"
   ]
  },
  {
   "cell_type": "code",
   "execution_count": 7,
   "metadata": {},
   "outputs": [
    {
     "data": {
      "text/plain": [
       "['__call__',\n",
       " '__class__',\n",
       " '__delattr__',\n",
       " '__dir__',\n",
       " '__doc__',\n",
       " '__eq__',\n",
       " '__format__',\n",
       " '__ge__',\n",
       " '__getattribute__',\n",
       " '__getstate__',\n",
       " '__gt__',\n",
       " '__hash__',\n",
       " '__init__',\n",
       " '__init_subclass__',\n",
       " '__le__',\n",
       " '__lt__',\n",
       " '__module__',\n",
       " '__name__',\n",
       " '__ne__',\n",
       " '__new__',\n",
       " '__qualname__',\n",
       " '__reduce__',\n",
       " '__reduce_ex__',\n",
       " '__repr__',\n",
       " '__self__',\n",
       " '__setattr__',\n",
       " '__sizeof__',\n",
       " '__str__',\n",
       " '__subclasshook__',\n",
       " '__text_signature__']"
      ]
     },
     "execution_count": 7,
     "metadata": {},
     "output_type": "execute_result"
    }
   ],
   "source": [
    "\n",
    "dir(neuromaps.datasets.__path__.__dir__)"
   ]
  },
  {
   "cell_type": "code",
   "execution_count": 2,
   "metadata": {},
   "outputs": [
    {
     "ename": "AttributeError",
     "evalue": "module 'neuromaps.datasets' has no attribute 'available_annotations'",
     "output_type": "error",
     "traceback": [
      "\u001b[0;31m---------------------------------------------------------------------------\u001b[0m",
      "\u001b[0;31mAttributeError\u001b[0m                            Traceback (most recent call last)",
      "\u001b[1;32m/Users/h/Documents/projects_local/cue_expectancy/scripts/step04_SPM/CESO/s05_plotneuromaps.ipynb Cell 3\u001b[0m line \u001b[0;36m2\n\u001b[1;32m      <a href='vscode-notebook-cell:/Users/h/Documents/projects_local/cue_expectancy/scripts/step04_SPM/CESO/s05_plotneuromaps.ipynb#W2sZmlsZQ%3D%3D?line=0'>1</a>\u001b[0m \u001b[39m# from neuromaps.datasets import annotations\u001b[39;00m\n\u001b[0;32m----> <a href='vscode-notebook-cell:/Users/h/Documents/projects_local/cue_expectancy/scripts/step04_SPM/CESO/s05_plotneuromaps.ipynb#W2sZmlsZQ%3D%3D?line=1'>2</a>\u001b[0m \u001b[39mfor\u001b[39;00m annotation \u001b[39min\u001b[39;00m neuromaps\u001b[39m.\u001b[39;49mdatasets\u001b[39m.\u001b[39;49mavailable_annotations():\n\u001b[1;32m      <a href='vscode-notebook-cell:/Users/h/Documents/projects_local/cue_expectancy/scripts/step04_SPM/CESO/s05_plotneuromaps.ipynb#W2sZmlsZQ%3D%3D?line=2'>3</a>\u001b[0m     \u001b[39mprint\u001b[39m(annotation)\n\u001b[1;32m      <a href='vscode-notebook-cell:/Users/h/Documents/projects_local/cue_expectancy/scripts/step04_SPM/CESO/s05_plotneuromaps.ipynb#W2sZmlsZQ%3D%3D?line=3'>4</a>\u001b[0m     \u001b[39m# annotations = datasets.available_annotations()\u001b[39;00m\n",
      "\u001b[0;31mAttributeError\u001b[0m: module 'neuromaps.datasets' has no attribute 'available_annotations'"
     ]
    }
   ],
   "source": [
    "# from neuromaps.datasets import annotations\n",
    "for annotation in neuromaps.datasets.available_annotations():\n",
    "    print(annotation)\n",
    "    # annotations = datasets.available_annotations()"
   ]
  },
  {
   "cell_type": "code",
   "execution_count": 4,
   "metadata": {},
   "outputs": [
    {
     "ename": "ImportError",
     "evalue": "cannot import name 'fetch_atlas' from 'neuromaps.datasets' (unknown location)",
     "output_type": "error",
     "traceback": [
      "\u001b[0;31m---------------------------------------------------------------------------\u001b[0m",
      "\u001b[0;31mImportError\u001b[0m                               Traceback (most recent call last)",
      "\u001b[1;32m/Users/h/Documents/projects_local/cue_expectancy/scripts/step04_SPM/CESO/s05_plotneuromaps.ipynb Cell 5\u001b[0m line \u001b[0;36m1\n\u001b[0;32m----> <a href='vscode-notebook-cell:/Users/h/Documents/projects_local/cue_expectancy/scripts/step04_SPM/CESO/s05_plotneuromaps.ipynb#W6sZmlsZQ%3D%3D?line=0'>1</a>\u001b[0m \u001b[39mfrom\u001b[39;00m \u001b[39mneuromaps\u001b[39;00m\u001b[39m.\u001b[39;00m\u001b[39mdatasets\u001b[39;00m \u001b[39mimport\u001b[39;00m fetch_atlas\n\u001b[1;32m      <a href='vscode-notebook-cell:/Users/h/Documents/projects_local/cue_expectancy/scripts/step04_SPM/CESO/s05_plotneuromaps.ipynb#W6sZmlsZQ%3D%3D?line=1'>2</a>\u001b[0m mni152 \u001b[39m=\u001b[39m fetch_atlas(\u001b[39m'\u001b[39m\u001b[39mMNI152\u001b[39m\u001b[39m'\u001b[39m, \u001b[39m'\u001b[39m\u001b[39m1mm\u001b[39m\u001b[39m'\u001b[39m)\n\u001b[1;32m      <a href='vscode-notebook-cell:/Users/h/Documents/projects_local/cue_expectancy/scripts/step04_SPM/CESO/s05_plotneuromaps.ipynb#W6sZmlsZQ%3D%3D?line=2'>3</a>\u001b[0m \u001b[39mprint\u001b[39m(\u001b[39msorted\u001b[39m(mni152))\n",
      "\u001b[0;31mImportError\u001b[0m: cannot import name 'fetch_atlas' from 'neuromaps.datasets' (unknown location)"
     ]
    }
   ],
   "source": [
    "from neuromaps.datasets import fetch_atlas\n",
    "mni152 = fetch_atlas('MNI152', '1mm')\n",
    "print(sorted(mni152))\n"
   ]
  }
 ],
 "metadata": {
  "kernelspec": {
   "display_name": "spacetop",
   "language": "python",
   "name": "python3"
  },
  "language_info": {
   "codemirror_mode": {
    "name": "ipython",
    "version": 3
   },
   "file_extension": ".py",
   "mimetype": "text/x-python",
   "name": "python",
   "nbconvert_exporter": "python",
   "pygments_lexer": "ipython3",
   "version": "3.11.6"
  }
 },
 "nbformat": 4,
 "nbformat_minor": 2
}
