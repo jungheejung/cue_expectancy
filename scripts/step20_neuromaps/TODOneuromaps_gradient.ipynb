{
 "cells": [
  {
   "cell_type": "code",
   "execution_count": 1,
   "metadata": {},
   "outputs": [],
   "source": [
    "# load neuromaps\n",
    "# convert to volumetric\n",
    "# save as nifti 1mm and 2mm"
   ]
  },
  {
   "cell_type": "code",
   "execution_count": 5,
   "metadata": {},
   "outputs": [],
   "source": [
    "import nibabel as nib\n",
    "import numpy as np\n",
    "import neuromaps\n",
    "from neuromaps import datasets"
   ]
  },
  {
   "cell_type": "code",
   "execution_count": 6,
   "metadata": {},
   "outputs": [],
   "source": [
    "annotations = datasets.available_annotations()"
   ]
  },
  {
   "cell_type": "code",
   "execution_count": 7,
   "metadata": {},
   "outputs": [
    {
     "data": {
      "text/plain": [
       "[('abagen', 'genepc1', 'fsaverage', '10k'),\n",
       " ('aghourian2017', 'feobv', 'MNI152', '1mm'),\n",
       " ('alarkurtti2015', 'raclopride', 'MNI152', '3mm'),\n",
       " ('bedard2019', 'feobv', 'MNI152', '1mm'),\n",
       " ('beliveau2017', 'az10419369', 'MNI152', '1mm'),\n",
       " ('beliveau2017', 'az10419369', 'fsaverage', '164k'),\n",
       " ('beliveau2017', 'cimbi36', 'MNI152', '1mm'),\n",
       " ('beliveau2017', 'cimbi36', 'fsaverage', '164k'),\n",
       " ('beliveau2017', 'cumi101', 'MNI152', '1mm'),\n",
       " ('beliveau2017', 'cumi101', 'fsaverage', '164k'),\n",
       " ('beliveau2017', 'dasb', 'MNI152', '1mm'),\n",
       " ('beliveau2017', 'dasb', 'fsaverage', '164k'),\n",
       " ('beliveau2017', 'sb207145', 'MNI152', '1mm'),\n",
       " ('beliveau2017', 'sb207145', 'fsaverage', '164k'),\n",
       " ('ding2010', 'mrb', 'MNI152', '1mm'),\n",
       " ('dubois2015', 'abp688', 'MNI152', '1mm'),\n",
       " ('dukart2018', 'flumazenil', 'MNI152', '3mm'),\n",
       " ('dukart2018', 'fpcit', 'MNI152', '3mm'),\n",
       " ('fazio2016', 'madam', 'MNI152', '3mm'),\n",
       " ('finnema2016', 'ucbj', 'MNI152', '1mm'),\n",
       " ('gallezot2010', 'p943', 'MNI152', '1mm'),\n",
       " ('gallezot2017', 'gsk189254', 'MNI152', '1mm'),\n",
       " ('hcps1200', 'megalpha', 'fsLR', '4k'),\n",
       " ('hcps1200', 'megbeta', 'fsLR', '4k'),\n",
       " ('hcps1200', 'megdelta', 'fsLR', '4k'),\n",
       " ('hcps1200', 'meggamma1', 'fsLR', '4k'),\n",
       " ('hcps1200', 'meggamma2', 'fsLR', '4k'),\n",
       " ('hcps1200', 'megtheta', 'fsLR', '4k'),\n",
       " ('hcps1200', 'megtimescale', 'fsLR', '4k'),\n",
       " ('hcps1200', 'myelinmap', 'fsLR', '32k'),\n",
       " ('hcps1200', 'thickness', 'fsLR', '32k'),\n",
       " ('hesse2017', 'methylreboxetine', 'MNI152', '3mm'),\n",
       " ('hill2010', 'devexp', 'fsLR', '164k'),\n",
       " ('hill2010', 'evoexp', 'fsLR', '164k'),\n",
       " ('hillmer2016', 'flubatine', 'MNI152', '1mm'),\n",
       " ('jaworska2020', 'fallypride', 'MNI152', '1mm'),\n",
       " ('kaller2017', 'sch23390', 'MNI152', '3mm'),\n",
       " ('kantonen2020', 'carfentanil', 'MNI152', '3mm'),\n",
       " ('laurikainen2018', 'fmpepd2', 'MNI152', '1mm'),\n",
       " ('margulies2016', 'fcgradient01', 'fsLR', '32k'),\n",
       " ('margulies2016', 'fcgradient02', 'fsLR', '32k'),\n",
       " ('margulies2016', 'fcgradient03', 'fsLR', '32k'),\n",
       " ('margulies2016', 'fcgradient04', 'fsLR', '32k'),\n",
       " ('margulies2016', 'fcgradient05', 'fsLR', '32k'),\n",
       " ('margulies2016', 'fcgradient06', 'fsLR', '32k'),\n",
       " ('margulies2016', 'fcgradient07', 'fsLR', '32k'),\n",
       " ('margulies2016', 'fcgradient08', 'fsLR', '32k'),\n",
       " ('margulies2016', 'fcgradient09', 'fsLR', '32k'),\n",
       " ('margulies2016', 'fcgradient10', 'fsLR', '32k'),\n",
       " ('mueller2013', 'intersubjvar', 'fsLR', '164k'),\n",
       " ('naganawa2020', 'lsn3172176', 'MNI152', '1mm'),\n",
       " ('neurosynth', 'cogpc1', 'MNI152', '2mm'),\n",
       " ('norgaard2021', 'flumazenil', 'MNI152', '1mm'),\n",
       " ('norgaard2021', 'flumazenil', 'fsaverage', '164k'),\n",
       " ('normandin2015', 'omar', 'MNI152', '1mm'),\n",
       " ('radnakrishnan2018', 'gsk215083', 'MNI152', '1mm'),\n",
       " ('raichle', 'cbf', 'fsLR', '164k'),\n",
       " ('raichle', 'cbv', 'fsLR', '164k'),\n",
       " ('raichle', 'cmr02', 'fsLR', '164k'),\n",
       " ('raichle', 'cmruglu', 'fsLR', '164k'),\n",
       " ('reardon2018', 'scalinghcp', 'civet', '41k'),\n",
       " ('reardon2018', 'scalingnih', 'civet', '41k'),\n",
       " ('reardon2018', 'scalingpnc', 'civet', '41k'),\n",
       " ('rosaneto', 'abp688', 'MNI152', '1mm'),\n",
       " ('sandiego2015', 'flb457', 'MNI152', '1mm'),\n",
       " ('sasaki2012', 'fepe2i', 'MNI152', '1mm'),\n",
       " ('satterthwaite2014', 'meancbf', 'MNI152', '1mm'),\n",
       " ('savli2012', 'altanserin', 'MNI152', '3mm'),\n",
       " ('savli2012', 'dasb', 'MNI152', '3mm'),\n",
       " ('savli2012', 'p943', 'MNI152', '3mm'),\n",
       " ('savli2012', 'way100635', 'MNI152', '3mm'),\n",
       " ('smart2019', 'abp688', 'MNI152', '1mm'),\n",
       " ('smith2017', 'flb457', 'MNI152', '1mm'),\n",
       " ('sydnor2021', 'SAaxis', 'fsLR', '32k'),\n",
       " ('tuominen', 'feobv', 'MNI152', '2mm'),\n",
       " ('turtonen2020', 'carfentanil', 'MNI152', '1mm'),\n",
       " ('xu2020', 'FChomology', 'fsLR', '32k'),\n",
       " ('xu2020', 'evoexp', 'fsLR', '32k')]"
      ]
     },
     "execution_count": 7,
     "metadata": {},
     "output_type": "execute_result"
    }
   ],
   "source": [
    "annotations"
   ]
  },
  {
   "cell_type": "code",
   "execution_count": 8,
   "metadata": {},
   "outputs": [
    {
     "name": "stdout",
     "output_type": "stream",
     "text": [
      "['ASL', 'MEG', 'MRI', 'PET', 'fMRI', 'functional', 'genetics', 'meta-analysis', 'receptors', 'structural']\n"
     ]
    }
   ],
   "source": [
    "tags = datasets.available_tags()\n",
    "print(tags)"
   ]
  },
  {
   "cell_type": "code",
   "execution_count": 9,
   "metadata": {},
   "outputs": [
    {
     "name": "stdout",
     "output_type": "stream",
     "text": [
      "[('aghourian2017', 'feobv', 'MNI152', '1mm'), ('alarkurtti2015', 'raclopride', 'MNI152', '3mm'), ('bedard2019', 'feobv', 'MNI152', '1mm'), ('beliveau2017', 'az10419369', 'MNI152', '1mm'), ('beliveau2017', 'az10419369', 'fsaverage', '164k'), ('beliveau2017', 'cimbi36', 'MNI152', '1mm'), ('beliveau2017', 'cimbi36', 'fsaverage', '164k'), ('beliveau2017', 'cumi101', 'MNI152', '1mm'), ('beliveau2017', 'cumi101', 'fsaverage', '164k'), ('beliveau2017', 'dasb', 'MNI152', '1mm'), ('beliveau2017', 'dasb', 'fsaverage', '164k'), ('beliveau2017', 'sb207145', 'MNI152', '1mm'), ('beliveau2017', 'sb207145', 'fsaverage', '164k'), ('ding2010', 'mrb', 'MNI152', '1mm'), ('dubois2015', 'abp688', 'MNI152', '1mm'), ('dukart2018', 'flumazenil', 'MNI152', '3mm'), ('dukart2018', 'fpcit', 'MNI152', '3mm'), ('fazio2016', 'madam', 'MNI152', '3mm'), ('gallezot2010', 'p943', 'MNI152', '1mm'), ('gallezot2017', 'gsk189254', 'MNI152', '1mm'), ('hesse2017', 'methylreboxetine', 'MNI152', '3mm'), ('hillmer2016', 'flubatine', 'MNI152', '1mm'), ('jaworska2020', 'fallypride', 'MNI152', '1mm'), ('kaller2017', 'sch23390', 'MNI152', '3mm'), ('kantonen2020', 'carfentanil', 'MNI152', '3mm'), ('laurikainen2018', 'fmpepd2', 'MNI152', '1mm'), ('naganawa2020', 'lsn3172176', 'MNI152', '1mm'), ('norgaard2021', 'flumazenil', 'MNI152', '1mm'), ('norgaard2021', 'flumazenil', 'fsaverage', '164k'), ('normandin2015', 'omar', 'MNI152', '1mm'), ('radnakrishnan2018', 'gsk215083', 'MNI152', '1mm'), ('rosaneto', 'abp688', 'MNI152', '1mm'), ('sandiego2015', 'flb457', 'MNI152', '1mm'), ('sasaki2012', 'fepe2i', 'MNI152', '1mm'), ('savli2012', 'altanserin', 'MNI152', '3mm'), ('savli2012', 'dasb', 'MNI152', '3mm'), ('savli2012', 'p943', 'MNI152', '3mm'), ('savli2012', 'way100635', 'MNI152', '3mm'), ('smart2019', 'abp688', 'MNI152', '1mm'), ('smith2017', 'flb457', 'MNI152', '1mm'), ('tuominen', 'feobv', 'MNI152', '2mm'), ('turtonen2020', 'carfentanil', 'MNI152', '1mm')]\n"
     ]
    }
   ],
   "source": [
    "r_annotations = datasets.available_annotations(tags='receptors')\n",
    "print(r_annotations)"
   ]
  },
  {
   "cell_type": "code",
   "execution_count": 11,
   "metadata": {},
   "outputs": [
    {
     "name": "stdout",
     "output_type": "stream",
     "text": [
      "Downloading data from https://files.osf.io/v1/resources/4mw3a/providers/osfstorage/6196ca9a1088a703e9bce6b5 ...\n"
     ]
    },
    {
     "name": "stderr",
     "output_type": "stream",
     "text": [
      " ...done. (1 seconds, 0 min)\n"
     ]
    }
   ],
   "source": [
    "kantonen2020 = datasets.fetch_annotation(source=['kantonen2020', 'carfentanil', 'MNI152', '3mm'])"
   ]
  },
  {
   "cell_type": "code",
   "execution_count": null,
   "metadata": {},
   "outputs": [],
   "source": [
    "# fslr example\n",
    "surfaces = fetch_fslr()\n",
    "lh, rh = surfaces['inflated']\n",
    "\n",
    "p = Plot(surf_lh=lh, surf_rh=rh)\n",
    "fig = p.build()\n",
    "fig.show()"
   ]
  },
  {
   "cell_type": "markdown",
   "metadata": {},
   "source": [
    "('kantonen2020', 'carfentanil', 'MNI152', '3mm')\tPET tracer binding (BPnd) to MOR (mu-opioid receptor)\treceptors; PET\t204 (132)\t32.3 +/- 10.8\tKantonen et al., 2020, Neuroimage (doi.org/10.1016/j.neuroimage.2020.116922)\n",
    "\n",
    "('turtonen2020', 'carfentanil', 'MNI152', '1mm')\tPET tracer binding (BPnd) to MOR (mu-opioid receptor)\treceptors; PET\t39 (19)\t39.38 +/- 5.05\tTurtonen et al., 2021, Biol Psychiatry Cogn Neurosci Neuroimaging (doi.org/10.1016/j.bpsc.2020.10.013v)\n",
    "('vijay2018', 'ly2795050', 'MNI152', '2mm')\tPET tracer binding (Vt) to KOR (kappa-opioid receptor)\treceptors; PET\t28 (19)\t33.5 +/- 11.3\tVijay et al., 2018, Neuropsychopharmacology (https://doi.org/10.1038/s41386-018-0199-1)"
   ]
  }
 ],
 "metadata": {
  "kernelspec": {
   "display_name": "spacetop",
   "language": "python",
   "name": "python3"
  },
  "language_info": {
   "codemirror_mode": {
    "name": "ipython",
    "version": 3
   },
   "file_extension": ".py",
   "mimetype": "text/x-python",
   "name": "python",
   "nbconvert_exporter": "python",
   "pygments_lexer": "ipython3",
   "version": "3.11.6"
  },
  "orig_nbformat": 4
 },
 "nbformat": 4,
 "nbformat_minor": 2
}
